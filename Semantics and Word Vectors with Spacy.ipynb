{
 "cells": [
  {
   "cell_type": "code",
   "execution_count": 1,
   "id": "4326c5eb",
   "metadata": {},
   "outputs": [
    {
     "name": "stderr",
     "output_type": "stream",
     "text": [
      "C:\\Users\\hp\\anaconda3\\lib\\site-packages\\numpy\\_distributor_init.py:30: UserWarning: loaded more than 1 DLL from .libs:\n",
      "C:\\Users\\hp\\anaconda3\\lib\\site-packages\\numpy\\.libs\\libopenblas.FB5AE2TYXYH2IJRDKGDGQ3XBKLKTF43H.gfortran-win_amd64.dll\n",
      "C:\\Users\\hp\\anaconda3\\lib\\site-packages\\numpy\\.libs\\libopenblas.WCDJNK7YVMPZQ2ME2ZZHJJRJ3JIKNDB7.gfortran-win_amd64.dll\n",
      "  warnings.warn(\"loaded more than 1 DLL from .libs:\"\n",
      "C:\\Users\\hp\\anaconda3\\lib\\site-packages\\scipy\\__init__.py:146: UserWarning: A NumPy version >=1.16.5 and <1.23.0 is required for this version of SciPy (detected version 1.23.2\n",
      "  warnings.warn(f\"A NumPy version >={np_minversion} and <{np_maxversion}\"\n"
     ]
    }
   ],
   "source": [
    "import spacy\n",
    "nlp = spacy.load('en_core_web_lg')"
   ]
  },
  {
   "cell_type": "code",
   "execution_count": 2,
   "id": "8c072dee",
   "metadata": {},
   "outputs": [],
   "source": [
    "from scipy import spatial"
   ]
  },
  {
   "cell_type": "code",
   "execution_count": 3,
   "id": "41236f2f",
   "metadata": {},
   "outputs": [
    {
     "data": {
      "text/plain": [
       "array([-1.4949e-01,  3.7432e-01, -2.2050e-01, -4.5928e-01,  7.8750e-02,\n",
       "       -2.5019e-01, -3.9290e-01, -2.1967e-01, -1.3093e-01,  2.1229e+00,\n",
       "       -5.1749e-01,  6.5582e-01,  1.9008e-01,  4.6526e-01, -1.0754e-01,\n",
       "        8.4592e-04,  1.2311e-01,  7.1000e-01,  1.8634e-02, -2.2504e-01,\n",
       "       -6.4710e-01, -1.5335e-01, -1.5011e-01,  1.3864e-01, -1.5222e-01,\n",
       "        2.8469e-01, -8.5883e-02, -1.8998e-01, -1.6721e-01,  5.5677e-02,\n",
       "       -2.1522e-01, -1.8072e-01,  1.4413e-01,  3.0392e-01,  1.1802e-01,\n",
       "        2.6905e-01,  2.8804e-01, -5.9657e-01,  3.2062e-01, -1.0510e-02,\n",
       "       -3.2404e-01,  6.6192e-02, -2.1103e-01, -4.0243e-02,  3.4579e-01,\n",
       "       -5.3813e-01, -9.6661e-02, -4.6308e-01,  3.6171e-01, -1.1145e-01,\n",
       "        2.7529e-02,  2.2443e-01, -6.0474e-02,  3.8606e-01,  1.1518e-01,\n",
       "        6.1889e-01,  5.3072e-01,  1.7185e-01, -7.4372e-01,  2.0626e-01,\n",
       "       -1.3338e-01,  7.8106e-01,  3.4880e-01,  7.9740e-01, -2.0633e-01,\n",
       "       -3.3352e-01,  5.6860e-01, -5.1850e-01,  1.7523e-01,  1.5407e-01,\n",
       "       -3.5782e-01, -4.2825e-01,  1.4979e-01, -1.6131e-01,  1.7891e-01,\n",
       "       -1.7277e-01, -1.0291e-01, -3.1026e-02, -2.5864e-02, -3.9754e-01,\n",
       "       -3.1961e-01, -5.6548e-01,  1.0577e-01,  6.1896e-02,  6.0930e-02,\n",
       "        1.6095e-01,  1.1639e+00,  1.0133e+00,  1.7391e-01, -3.8267e-01,\n",
       "       -7.2081e-02,  9.4295e-02, -3.2435e-01, -4.7743e-01, -1.6077e-01,\n",
       "       -2.3945e-01, -4.1892e-01, -2.0993e-01, -2.8467e-01,  1.6401e-01,\n",
       "        3.9934e-02,  4.1075e-01, -2.0111e-01, -4.4042e-01, -7.9692e-02,\n",
       "       -5.9438e-01, -2.9712e-01, -2.2155e-01,  1.9016e-01, -4.6418e-01,\n",
       "        5.2614e-01, -6.3695e-02,  5.0269e-01, -3.7826e-01,  5.9991e-02,\n",
       "        1.8741e-01,  2.8928e-01, -3.2516e-01,  5.6633e-01,  1.8022e-02,\n",
       "        1.1157e-01,  1.6564e-01,  5.7646e-01,  2.2731e-01, -5.1696e-01,\n",
       "        6.0756e-01, -8.3042e-02,  9.2886e-02, -8.8175e-02, -2.8210e-01,\n",
       "       -4.4587e-01,  2.1631e-01,  1.2693e-01, -1.7558e-01, -3.4941e-01,\n",
       "        1.0758e-01,  1.0003e-01, -3.1402e-02,  2.5696e-01,  5.4274e-02,\n",
       "       -2.4113e+00, -3.8065e-01,  6.6912e-01,  1.9607e-01,  5.7343e-01,\n",
       "       -1.0486e+00, -2.6291e-01, -1.2177e-01,  2.8745e-02,  1.8931e-01,\n",
       "        4.7389e-01,  5.4450e-02, -6.8208e-02, -4.5212e-02,  2.3360e-01,\n",
       "        1.9322e-01,  4.4507e-01, -1.2301e-02,  4.6641e-02, -2.8142e-01,\n",
       "       -1.4291e-01, -3.1691e-02, -1.6424e-01,  3.0065e-03,  3.6450e-01,\n",
       "       -6.3294e-02,  2.5798e-01, -3.7876e-01, -2.0350e-01, -2.8044e-01,\n",
       "        2.5179e-01,  3.1442e-01, -8.4762e-02, -2.7969e-01, -1.1729e-01,\n",
       "        4.7642e-01, -6.9413e-02,  6.2906e-01,  3.1241e-01,  9.3044e-01,\n",
       "       -4.2651e-03,  1.1247e-01,  1.5570e-01,  1.9584e-01, -5.0358e-01,\n",
       "       -1.9703e-01,  1.8947e-01,  7.3583e-01, -1.4573e-01, -7.0582e-01,\n",
       "        7.9334e-02,  4.5364e-02, -5.2803e-02,  7.5444e-02,  2.3089e-02,\n",
       "        2.1773e-01,  3.7430e-02, -3.3329e-01, -4.4102e-02, -2.4202e-01,\n",
       "       -4.2867e-01, -3.6100e-02, -3.7777e-01,  3.1482e-01, -3.2823e-01,\n",
       "        8.5166e-01,  2.1894e-01, -4.2969e-01,  1.7971e-01, -3.5266e-01,\n",
       "        5.8636e-02, -2.6740e-01,  3.3513e-01,  5.7596e-01, -3.5526e-01,\n",
       "       -4.2603e-01, -3.6347e-01,  4.0380e-01, -2.7227e-01,  6.0534e-01,\n",
       "        1.7255e-01, -1.1608e-01,  5.7576e-01, -3.8194e-01, -3.7094e-01,\n",
       "        5.4062e-01,  1.4818e-01,  8.3693e-01, -1.4759e-01,  4.5125e-01,\n",
       "       -3.0178e-01,  3.4082e-01, -1.0200e-02,  2.2459e-01, -1.8845e-01,\n",
       "        3.2169e-01, -1.8790e-01, -5.3907e-02,  1.4606e-02, -4.1616e-01,\n",
       "       -6.0271e-01, -1.4633e-01,  9.4333e-02,  4.3951e-02, -4.5448e-02,\n",
       "        2.6056e-02, -3.8715e-01, -1.6324e-01, -4.6366e-02, -4.7491e-01,\n",
       "        2.9669e-01,  2.0558e-01, -4.8884e-03,  2.1776e-01, -2.3001e-01,\n",
       "        9.8121e-02,  1.6775e-01,  3.5335e-01, -3.0243e-02,  1.2539e-01,\n",
       "        4.4437e-01,  5.1671e-02, -2.7345e-01, -1.5804e-01,  3.1178e-01,\n",
       "       -4.2943e-01, -1.0954e-01, -7.6529e-02, -1.3179e-01, -1.7829e-01,\n",
       "       -1.6963e-01,  1.3347e-01, -2.4088e-01, -2.3314e-01, -1.5629e-01,\n",
       "        3.7558e-01,  5.4874e-01,  2.3888e-03,  1.0944e-02, -5.0508e-01,\n",
       "       -2.3300e-01,  2.2902e-01, -3.4586e-01,  1.7992e-01,  6.8974e-01,\n",
       "        2.7911e-02, -4.1856e-01, -8.2568e-02,  1.2912e-01, -3.2953e-01,\n",
       "        3.4691e-03, -6.2280e-01, -3.1631e-01, -1.0388e+00, -7.3860e-02,\n",
       "        4.0724e-01,  6.8898e-01,  1.5751e-01,  1.1709e-01, -2.8512e-02],\n",
       "      dtype=float32)"
      ]
     },
     "execution_count": 3,
     "metadata": {},
     "output_type": "execute_result"
    }
   ],
   "source": [
    "nlp(u'horse').vector"
   ]
  },
  {
   "cell_type": "code",
   "execution_count": 4,
   "id": "75f0f4bb",
   "metadata": {},
   "outputs": [
    {
     "data": {
      "text/plain": [
       "3.7062900316267227"
      ]
     },
     "execution_count": 4,
     "metadata": {},
     "output_type": "execute_result"
    }
   ],
   "source": [
    "nlp(u'the lion roared and deer ran away').vector_norm"
   ]
  },
  {
   "cell_type": "code",
   "execution_count": 5,
   "id": "2241f057",
   "metadata": {},
   "outputs": [
    {
     "data": {
      "text/plain": [
       "He produced an exquisite and spectacular performance in the concert."
      ]
     },
     "execution_count": 5,
     "metadata": {},
     "output_type": "execute_result"
    }
   ],
   "source": [
    "tokens = nlp(u\"He produced an exquisite and spectacular performance in the concert.\")\n",
    "tokens"
   ]
  },
  {
   "cell_type": "code",
   "execution_count": 6,
   "id": "cd44922e",
   "metadata": {},
   "outputs": [
    {
     "data": {
      "text/plain": [
       "(300,)"
      ]
     },
     "execution_count": 6,
     "metadata": {},
     "output_type": "execute_result"
    }
   ],
   "source": [
    "tokens.vector.shape"
   ]
  },
  {
   "cell_type": "code",
   "execution_count": 7,
   "id": "19e5d768",
   "metadata": {},
   "outputs": [
    {
     "data": {
      "text/plain": [
       "(300,)"
      ]
     },
     "execution_count": 7,
     "metadata": {},
     "output_type": "execute_result"
    }
   ],
   "source": [
    "nlp('lion').vector.shape"
   ]
  },
  {
   "cell_type": "code",
   "execution_count": 8,
   "id": "fd42a2b2",
   "metadata": {},
   "outputs": [
    {
     "name": "stdout",
     "output_type": "stream",
     "text": [
      "He He 1.0\n",
      "He produced 0.3378886580467224\n",
      "He an 0.43970730900764465\n",
      "He exquisite 0.16475580632686615\n",
      "He and 0.4971649646759033\n",
      "He spectacular 0.25418466329574585\n",
      "He performance 0.2633201777935028\n",
      "He in 0.40261608362197876\n",
      "He the 0.49181514978408813\n",
      "He concert 0.28780096769332886\n",
      "He . 0.41995570063591003\n",
      "produced He 0.3378886580467224\n",
      "produced produced 1.0\n",
      "produced an 0.3076995313167572\n",
      "produced exquisite 0.2721627652645111\n",
      "produced and 0.3567456901073456\n",
      "produced spectacular 0.2785910665988922\n",
      "produced performance 0.3350953459739685\n",
      "produced in 0.30255818367004395\n",
      "produced the 0.3409740924835205\n",
      "produced concert 0.24857361614704132\n",
      "produced . 0.19340626895427704\n",
      "an He 0.43970730900764465\n",
      "an produced 0.3076995313167572\n",
      "an an 1.0\n",
      "an exquisite 0.2687113285064697\n",
      "an and 0.43778878450393677\n",
      "an spectacular 0.3372761607170105\n",
      "an performance 0.3078171908855438\n",
      "an in 0.4423367977142334\n",
      "an the 0.5969309210777283\n",
      "an concert 0.1917801946401596\n",
      "an . 0.3331594169139862\n",
      "exquisite He 0.16475580632686615\n",
      "exquisite produced 0.2721627652645111\n",
      "exquisite an 0.2687113285064697\n",
      "exquisite exquisite 1.0\n",
      "exquisite and 0.30031874775886536\n",
      "exquisite spectacular 0.621310293674469\n",
      "exquisite performance 0.22676967084407806\n",
      "exquisite in 0.23410403728485107\n",
      "exquisite the 0.258047878742218\n",
      "exquisite concert 0.20496271550655365\n",
      "exquisite . 0.16257885098457336\n",
      "and He 0.4971649646759033\n",
      "and produced 0.3567456901073456\n",
      "and an 0.43778878450393677\n",
      "and exquisite 0.30031874775886536\n",
      "and and 1.0\n",
      "and spectacular 0.2591291069984436\n",
      "and performance 0.3670574426651001\n",
      "and in 0.4766671061515808\n",
      "and the 0.5624871850013733\n",
      "and concert 0.19158871471881866\n",
      "and . 0.43241679668426514\n",
      "spectacular He 0.25418466329574585\n",
      "spectacular produced 0.2785910665988922\n",
      "spectacular an 0.3372761607170105\n",
      "spectacular exquisite 0.621310293674469\n",
      "spectacular and 0.2591291069984436\n",
      "spectacular spectacular 1.0\n",
      "spectacular performance 0.3079334497451782\n",
      "spectacular in 0.2558181583881378\n",
      "spectacular the 0.3636048138141632\n",
      "spectacular concert 0.3514244854450226\n",
      "spectacular . 0.20689921081066132\n",
      "performance He 0.2633201777935028\n",
      "performance produced 0.3350953459739685\n",
      "performance an 0.3078171908855438\n",
      "performance exquisite 0.22676967084407806\n",
      "performance and 0.3670574426651001\n",
      "performance spectacular 0.3079334497451782\n",
      "performance performance 1.0\n",
      "performance in 0.3014056086540222\n",
      "performance the 0.3424649238586426\n",
      "performance concert 0.41532930731773376\n",
      "performance . 0.24915635585784912\n",
      "in He 0.40261608362197876\n",
      "in produced 0.30255818367004395\n",
      "in an 0.4423367977142334\n",
      "in exquisite 0.23410403728485107\n",
      "in and 0.4766671061515808\n",
      "in spectacular 0.2558181583881378\n",
      "in performance 0.3014056086540222\n",
      "in in 1.0\n",
      "in the 0.555485725402832\n",
      "in concert 0.20742402970790863\n",
      "in . 0.30046847462654114\n",
      "the He 0.49181514978408813\n",
      "the produced 0.3409740924835205\n",
      "the an 0.5969309210777283\n",
      "the exquisite 0.258047878742218\n",
      "the and 0.5624871850013733\n",
      "the spectacular 0.3636048138141632\n",
      "the performance 0.3424649238586426\n",
      "the in 0.555485725402832\n",
      "the the 1.0\n",
      "the concert 0.2604006826877594\n",
      "the . 0.3113514482975006\n",
      "concert He 0.28780096769332886\n",
      "concert produced 0.24857361614704132\n",
      "concert an 0.1917801946401596\n",
      "concert exquisite 0.20496271550655365\n",
      "concert and 0.19158871471881866\n",
      "concert spectacular 0.3514244854450226\n",
      "concert performance 0.41532930731773376\n",
      "concert in 0.20742402970790863\n",
      "concert the 0.2604006826877594\n",
      "concert concert 1.0\n",
      "concert . 0.1873493790626526\n",
      ". He 0.41995570063591003\n",
      ". produced 0.19340626895427704\n",
      ". an 0.3331594169139862\n",
      ". exquisite 0.16257885098457336\n",
      ". and 0.43241679668426514\n",
      ". spectacular 0.20689921081066132\n",
      ". performance 0.24915635585784912\n",
      ". in 0.30046847462654114\n",
      ". the 0.3113514482975006\n",
      ". concert 0.1873493790626526\n",
      ". . 1.0\n"
     ]
    }
   ],
   "source": [
    "for token1 in tokens:\n",
    "    for token2 in tokens:\n",
    "        print(token1.text,token2.text,token1.similarity(token2))"
   ]
  },
  {
   "cell_type": "code",
   "execution_count": 9,
   "id": "8e866e45",
   "metadata": {},
   "outputs": [
    {
     "name": "stdout",
     "output_type": "stream",
     "text": [
      "walk walk 1.0\n",
      "walk walking 0.8492606282234192\n",
      "walk run 0.5519208908081055\n",
      "walking walk 0.8492606282234192\n",
      "walking walking 1.0\n",
      "walking run 0.4424706697463989\n",
      "run walk 0.5519208908081055\n",
      "run walking 0.4424706697463989\n",
      "run run 1.0\n"
     ]
    }
   ],
   "source": [
    "tokens = nlp('walk walking run')\n",
    "\n",
    "for token1 in tokens:\n",
    "    for token2 in tokens:\n",
    "        print(token1.text,token2.text,token1.similarity(token2))"
   ]
  },
  {
   "cell_type": "code",
   "execution_count": 10,
   "id": "015d983a",
   "metadata": {},
   "outputs": [
    {
     "name": "stdout",
     "output_type": "stream",
     "text": [
      "called True True False True\n",
      "organized True True False True\n",
      "34 True False False False\n",
      "John True True False False\n",
      "jaminski False True True True\n"
     ]
    }
   ],
   "source": [
    "tokens = nlp(u\"called organized 34 John jaminski\")\n",
    "\n",
    "for token in tokens:\n",
    "    print(token.text,token.has_vector,token.is_alpha,token.is_oov,token.is_lower)"
   ]
  },
  {
   "cell_type": "code",
   "execution_count": 11,
   "id": "12f1084a",
   "metadata": {},
   "outputs": [
    {
     "data": {
      "text/plain": [
       "342918"
      ]
     },
     "execution_count": 11,
     "metadata": {},
     "output_type": "execute_result"
    }
   ],
   "source": [
    "len(nlp.vocab.vectors)"
   ]
  },
  {
   "cell_type": "code",
   "execution_count": 25,
   "id": "e57e1419",
   "metadata": {},
   "outputs": [],
   "source": [
    "king = nlp.vocab['king'].vector\n",
    "man = nlp.vocab['man'].vector\n",
    "woman = nlp.vocab['woman'].vector"
   ]
  },
  {
   "cell_type": "code",
   "execution_count": 26,
   "id": "7ab784af",
   "metadata": {},
   "outputs": [],
   "source": [
    "new_vect = king - man + woman"
   ]
  },
  {
   "cell_type": "code",
   "execution_count": 27,
   "id": "9cb42c4e",
   "metadata": {},
   "outputs": [],
   "source": [
    "compute_similarity = lambda v1,v2: 1 - spatial.distance.cosine(v1,v2)"
   ]
  },
  {
   "cell_type": "code",
   "execution_count": 28,
   "id": "3f7c806d",
   "metadata": {},
   "outputs": [],
   "source": [
    "computed_similarities = []\n",
    "\n",
    "# Iterate through the entire vocab\n",
    "for word in nlp.vocab:\n",
    "    if word.is_lower:\n",
    "        if word.is_alpha:\n",
    "            if word.has_vector:\n",
    "                similarity = compute_similarity(new_vect,word.vector)\n",
    "                computed_similarities.append((word,similarity))"
   ]
  },
  {
   "cell_type": "code",
   "execution_count": 29,
   "id": "4f4477e3",
   "metadata": {},
   "outputs": [
    {
     "data": {
      "text/plain": [
       "[(<spacy.lexeme.Lexeme at 0x20ca0f45580>, 0.8024259805679321),\n",
       " (<spacy.lexeme.Lexeme at 0x20ca0f39240>, 0.7880843877792358),\n",
       " (<spacy.lexeme.Lexeme at 0x20ca0f399c0>, 0.5150813460350037),\n",
       " (<spacy.lexeme.Lexeme at 0x20ca0f39c80>, 0.3956184387207031),\n",
       " (<spacy.lexeme.Lexeme at 0x20ca0f7c380>, 0.3860150873661041),\n",
       " (<spacy.lexeme.Lexeme at 0x20ca0f39080>, 0.3159499764442444),\n",
       " (<spacy.lexeme.Lexeme at 0x20ca0f39b80>, 0.28596794605255127),\n",
       " (<spacy.lexeme.Lexeme at 0x20ca0f394c0>, 0.2826058268547058),\n",
       " (<spacy.lexeme.Lexeme at 0x20ca0f39b40>, 0.2816825211048126),\n",
       " (<spacy.lexeme.Lexeme at 0x20ca0f45800>, 0.262269526720047),\n",
       " (<spacy.lexeme.Lexeme at 0x20ca0f39e80>, 0.25664204359054565),\n",
       " (<spacy.lexeme.Lexeme at 0x20ca0f39c00>, 0.25568312406539917),\n",
       " (<spacy.lexeme.Lexeme at 0x20ca0f8ab40>, 0.2540704905986786),\n",
       " (<spacy.lexeme.Lexeme at 0x20ca0f7c5c0>, 0.2525580823421478),\n",
       " (<spacy.lexeme.Lexeme at 0x20ca0f7c500>, 0.2509419620037079),\n",
       " (<spacy.lexeme.Lexeme at 0x20ca0f39040>, 0.2494429647922516),\n",
       " (<spacy.lexeme.Lexeme at 0x20ca0f45740>, 0.2414473444223404),\n",
       " (<spacy.lexeme.Lexeme at 0x20ca0f26200>, 0.2411254197359085),\n",
       " (<spacy.lexeme.Lexeme at 0x20ca0f39440>, 0.24026043713092804),\n",
       " (<spacy.lexeme.Lexeme at 0x20ca0f392c0>, 0.23843525350093842),\n",
       " (<spacy.lexeme.Lexeme at 0x20ca0f397c0>, 0.2380845844745636),\n",
       " (<spacy.lexeme.Lexeme at 0x20ca0f39f40>, 0.23716172575950623),\n",
       " (<spacy.lexeme.Lexeme at 0x20ca0f8acc0>, 0.23044833540916443),\n",
       " (<spacy.lexeme.Lexeme at 0x20ca0f7c280>, 0.2290549874305725),\n",
       " (<spacy.lexeme.Lexeme at 0x20ca0f39a00>, 0.2282484918832779),\n",
       " (<spacy.lexeme.Lexeme at 0x20ca0f390c0>, 0.2259644865989685),\n",
       " (<spacy.lexeme.Lexeme at 0x20ca0f8ab00>, 0.22403907775878906),\n",
       " (<spacy.lexeme.Lexeme at 0x20ca0f39580>, 0.2239152044057846),\n",
       " (<spacy.lexeme.Lexeme at 0x20ca0f39480>, 0.22264589369297028),\n",
       " (<spacy.lexeme.Lexeme at 0x20ca0f455c0>, 0.2224375307559967),\n",
       " (<spacy.lexeme.Lexeme at 0x20ca0f7c440>, 0.21859759092330933),\n",
       " (<spacy.lexeme.Lexeme at 0x20ca0f8afc0>, 0.21817006170749664),\n",
       " (<spacy.lexeme.Lexeme at 0x20ca0f39880>, 0.2163253277540207),\n",
       " (<spacy.lexeme.Lexeme at 0x20ca0f39100>, 0.21609969437122345),\n",
       " (<spacy.lexeme.Lexeme at 0x20ca0f39180>, 0.21394959092140198),\n",
       " (<spacy.lexeme.Lexeme at 0x20ca0f8ab80>, 0.21382486820220947),\n",
       " (<spacy.lexeme.Lexeme at 0x20ca0f39200>, 0.2114543467760086),\n",
       " (<spacy.lexeme.Lexeme at 0x20ca0f39a40>, 0.21144022047519684),\n",
       " (<spacy.lexeme.Lexeme at 0x20ca0f39d40>, 0.2105611264705658),\n",
       " (<spacy.lexeme.Lexeme at 0x20ca0f39ac0>, 0.20800772309303284),\n",
       " (<spacy.lexeme.Lexeme at 0x20ca0f8ac40>, 0.20695585012435913),\n",
       " (<spacy.lexeme.Lexeme at 0x20ca0f39cc0>, 0.20691177248954773),\n",
       " (<spacy.lexeme.Lexeme at 0x20ca0f39340>, 0.2022039145231247),\n",
       " (<spacy.lexeme.Lexeme at 0x20ca0f8a980>, 0.20030373334884644),\n",
       " (<spacy.lexeme.Lexeme at 0x20ca0f8af40>, 0.19965127110481262),\n",
       " (<spacy.lexeme.Lexeme at 0x20ca0f8abc0>, 0.19956614077091217),\n",
       " (<spacy.lexeme.Lexeme at 0x20ca0f39c40>, 0.1990373432636261),\n",
       " (<spacy.lexeme.Lexeme at 0x20ca0f8aa00>, 0.1985829621553421),\n",
       " (<spacy.lexeme.Lexeme at 0x20ca0f8ac00>, 0.19576561450958252),\n",
       " (<spacy.lexeme.Lexeme at 0x20ca0f39380>, 0.19414226710796356),\n",
       " (<spacy.lexeme.Lexeme at 0x20ca0f39640>, 0.19320189952850342),\n",
       " (<spacy.lexeme.Lexeme at 0x20ca0f39800>, 0.19244104623794556),\n",
       " (<spacy.lexeme.Lexeme at 0x20ca0f39940>, 0.1897461861371994),\n",
       " (<spacy.lexeme.Lexeme at 0x20ca0f39f00>, 0.18846748769283295),\n",
       " (<spacy.lexeme.Lexeme at 0x20ca0f451c0>, 0.1881968230009079),\n",
       " (<spacy.lexeme.Lexeme at 0x20ca0f452c0>, 0.18753157556056976),\n",
       " (<spacy.lexeme.Lexeme at 0x20ca0f39f80>, 0.1868780255317688),\n",
       " (<spacy.lexeme.Lexeme at 0x20ca0f39d00>, 0.18541283905506134),\n",
       " (<spacy.lexeme.Lexeme at 0x20ca0f39540>, 0.18012331426143646),\n",
       " (<spacy.lexeme.Lexeme at 0x20ca0f45a80>, 0.17850720882415771),\n",
       " (<spacy.lexeme.Lexeme at 0x20ca0f39280>, 0.17845728993415833),\n",
       " (<spacy.lexeme.Lexeme at 0x20ca0f39fc0>, 0.17703573405742645),\n",
       " (<spacy.lexeme.Lexeme at 0x20ca0f8ad00>, 0.1750536561012268),\n",
       " (<spacy.lexeme.Lexeme at 0x20ca0f8af00>, 0.17268125712871552),\n",
       " (<spacy.lexeme.Lexeme at 0x20ca0f8ad80>, 0.17125168442726135),\n",
       " (<spacy.lexeme.Lexeme at 0x20ca0f39d80>, 0.17103268206119537),\n",
       " (<spacy.lexeme.Lexeme at 0x20ca0f45040>, 0.17081092298030853),\n",
       " (<spacy.lexeme.Lexeme at 0x20ca0f45980>, 0.17067183554172516),\n",
       " (<spacy.lexeme.Lexeme at 0x20ca0f39980>, 0.16616171598434448),\n",
       " (<spacy.lexeme.Lexeme at 0x20ca0f39300>, 0.16187448799610138),\n",
       " (<spacy.lexeme.Lexeme at 0x20ca0f7c080>, 0.15866002440452576),\n",
       " (<spacy.lexeme.Lexeme at 0x20ca0f8a600>, 0.1577160507440567),\n",
       " (<spacy.lexeme.Lexeme at 0x20ca0f7c300>, 0.15743282437324524),\n",
       " (<spacy.lexeme.Lexeme at 0x20ca0f391c0>, 0.15719926357269287),\n",
       " (<spacy.lexeme.Lexeme at 0x20ca0f7c0c0>, 0.15694552659988403),\n",
       " (<spacy.lexeme.Lexeme at 0x20ca0f8ac80>, 0.15368080139160156),\n",
       " (<spacy.lexeme.Lexeme at 0x20ca0f8ae40>, 0.15290936827659607),\n",
       " (<spacy.lexeme.Lexeme at 0x20ca0f393c0>, 0.15254715085029602),\n",
       " (<spacy.lexeme.Lexeme at 0x20ca0f459c0>, 0.14968103170394897),\n",
       " (<spacy.lexeme.Lexeme at 0x20ca0f68e40>, 0.14859934151172638),\n",
       " (<spacy.lexeme.Lexeme at 0x20ca0f7c1c0>, 0.14757409691810608),\n",
       " (<spacy.lexeme.Lexeme at 0x20ca0f8ae80>, 0.14722588658332825),\n",
       " (<spacy.lexeme.Lexeme at 0x20ca0f7c3c0>, 0.144368514418602),\n",
       " (<spacy.lexeme.Lexeme at 0x20ca0f7c4c0>, 0.1442035287618637),\n",
       " (<spacy.lexeme.Lexeme at 0x20ca0f458c0>, 0.14389751851558685),\n",
       " (<spacy.lexeme.Lexeme at 0x20ca0f7c540>, 0.14036159217357635),\n",
       " (<spacy.lexeme.Lexeme at 0x20ca0f8af80>, 0.13714438676834106),\n",
       " (<spacy.lexeme.Lexeme at 0x20ca0f45500>, 0.13547863066196442),\n",
       " (<spacy.lexeme.Lexeme at 0x20ca0f396c0>, 0.12795062363147736),\n",
       " (<spacy.lexeme.Lexeme at 0x20ca0f39e40>, 0.1265803426504135),\n",
       " (<spacy.lexeme.Lexeme at 0x20ca0f39ec0>, 0.1257282793521881),\n",
       " (<spacy.lexeme.Lexeme at 0x20ca0f7c180>, 0.12419133633375168),\n",
       " (<spacy.lexeme.Lexeme at 0x20ca0f7c200>, 0.12355317175388336),\n",
       " (<spacy.lexeme.Lexeme at 0x20ca0f39840>, 0.12349127978086472),\n",
       " (<spacy.lexeme.Lexeme at 0x20ca0f45340>, 0.12309789657592773),\n",
       " (<spacy.lexeme.Lexeme at 0x20ca0f39140>, 0.11641178280115128),\n",
       " (<spacy.lexeme.Lexeme at 0x20ca0f45380>, 0.114822156727314),\n",
       " (<spacy.lexeme.Lexeme at 0x20ca0f7c400>, 0.1131388396024704),\n",
       " (<spacy.lexeme.Lexeme at 0x20ca0f45b40>, 0.10891880095005035),\n",
       " (<spacy.lexeme.Lexeme at 0x20ca0f45900>, 0.10680126398801804),\n",
       " (<spacy.lexeme.Lexeme at 0x20ca0f39b00>, 0.10398240387439728),\n",
       " (<spacy.lexeme.Lexeme at 0x20ca0f39740>, 0.10209354013204575),\n",
       " (<spacy.lexeme.Lexeme at 0x20ca0f39dc0>, 0.10197315365076065),\n",
       " (<spacy.lexeme.Lexeme at 0x20ca0f7c480>, 0.10070247203111649),\n",
       " (<spacy.lexeme.Lexeme at 0x20ca0f58840>, 0.09999874234199524),\n",
       " (<spacy.lexeme.Lexeme at 0x20ca0f7c240>, 0.09201137721538544),\n",
       " (<spacy.lexeme.Lexeme at 0x20ca0f395c0>, 0.07888185232877731),\n",
       " (<spacy.lexeme.Lexeme at 0x20ca0f7c040>, 0.0783870667219162),\n",
       " (<spacy.lexeme.Lexeme at 0x20ca0f8adc0>, 0.07802077382802963),\n",
       " (<spacy.lexeme.Lexeme at 0x20ca0f39780>, 0.07659732550382614),\n",
       " (<spacy.lexeme.Lexeme at 0x20ca0f7c340>, 0.07636264711618423),\n",
       " (<spacy.lexeme.Lexeme at 0x20ca0f39900>, 0.0757676362991333),\n",
       " (<spacy.lexeme.Lexeme at 0x20ca0f398c0>, 0.07572568953037262),\n",
       " (<spacy.lexeme.Lexeme at 0x20ca0f39e00>, 0.07438179850578308),\n",
       " (<spacy.lexeme.Lexeme at 0x20ca0f7c140>, 0.0731348991394043),\n",
       " (<spacy.lexeme.Lexeme at 0x20ca0f7c580>, 0.07200995832681656),\n",
       " (<spacy.lexeme.Lexeme at 0x20ca0f8aec0>, 0.06716115772724152),\n",
       " (<spacy.lexeme.Lexeme at 0x20ca0f39bc0>, 0.05068876966834068),\n",
       " (<spacy.lexeme.Lexeme at 0x20ca0f7c100>, 0.050335921347141266),\n",
       " (<spacy.lexeme.Lexeme at 0x20ca0f39400>, 0.04659179970622063),\n",
       " (<spacy.lexeme.Lexeme at 0x20ca0f8aac0>, 0.04424881935119629),\n",
       " (<spacy.lexeme.Lexeme at 0x20ca0f39680>, 0.03943212702870369),\n",
       " (<spacy.lexeme.Lexeme at 0x20ca0f39a80>, 0.039049241691827774),\n",
       " (<spacy.lexeme.Lexeme at 0x20ca0f8aa80>, 1.3364910955715459e-05),\n",
       " (<spacy.lexeme.Lexeme at 0x20ca0f8ad40>, -0.04441716521978378),\n",
       " (<spacy.lexeme.Lexeme at 0x20ca0f7c2c0>, -0.051659971475601196),\n",
       " (<spacy.lexeme.Lexeme at 0x20ca0f8ae00>, -0.08269985765218735)]"
      ]
     },
     "execution_count": 29,
     "metadata": {},
     "output_type": "execute_result"
    }
   ],
   "source": [
    "computed_similarities = sorted(computed_similarities,key=lambda item:-item[1])\n",
    "computed_similarities"
   ]
  },
  {
   "cell_type": "code",
   "execution_count": 31,
   "id": "82c27882",
   "metadata": {},
   "outputs": [
    {
     "name": "stdout",
     "output_type": "stream",
     "text": [
      "['king', 'queen', 'woman', 'she', 'lion', 'who', 'when', 'dare', 'horse', 'was']\n"
     ]
    }
   ],
   "source": [
    "print([t[0].text for t in computed_similarities[:10]])"
   ]
  }
 ],
 "metadata": {
  "kernelspec": {
   "display_name": "Python 3 (ipykernel)",
   "language": "python",
   "name": "python3"
  },
  "language_info": {
   "codemirror_mode": {
    "name": "ipython",
    "version": 3
   },
   "file_extension": ".py",
   "mimetype": "text/x-python",
   "name": "python",
   "nbconvert_exporter": "python",
   "pygments_lexer": "ipython3",
   "version": "3.8.8"
  }
 },
 "nbformat": 4,
 "nbformat_minor": 5
}
