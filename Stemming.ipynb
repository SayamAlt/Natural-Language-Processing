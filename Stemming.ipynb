{
 "cells": [
  {
   "cell_type": "code",
   "execution_count": 1,
   "id": "f36a9b44",
   "metadata": {},
   "outputs": [],
   "source": [
    "import nltk\n",
    "from nltk.stem import PorterStemmer, SnowballStemmer"
   ]
  },
  {
   "cell_type": "code",
   "execution_count": 2,
   "id": "4bc86cd8",
   "metadata": {},
   "outputs": [],
   "source": [
    "words = ['ran','runs','run','running','ran','risen','rise','grows','grew','grow','growing','growth']"
   ]
  },
  {
   "cell_type": "code",
   "execution_count": 3,
   "id": "fd1fe0fe",
   "metadata": {},
   "outputs": [
    {
     "name": "stdout",
     "output_type": "stream",
     "text": [
      "ran --------> ran\n",
      "runs --------> run\n",
      "run --------> run\n",
      "running --------> run\n",
      "ran --------> ran\n",
      "risen --------> risen\n",
      "rise --------> rise\n",
      "grows --------> grow\n",
      "grew --------> grew\n",
      "grow --------> grow\n",
      "growing --------> grow\n",
      "growth --------> growth\n"
     ]
    }
   ],
   "source": [
    "p_stemmer = PorterStemmer()\n",
    "for word in words:\n",
    "    print(word + ' --------> ' + p_stemmer.stem(word))"
   ]
  },
  {
   "cell_type": "code",
   "execution_count": 4,
   "id": "d829eefc",
   "metadata": {},
   "outputs": [
    {
     "name": "stdout",
     "output_type": "stream",
     "text": [
      "ran --------> ran\n",
      "runs --------> run\n",
      "run --------> run\n",
      "running --------> run\n",
      "ran --------> ran\n",
      "risen --------> risen\n",
      "rise --------> rise\n",
      "grows --------> grow\n",
      "grew --------> grew\n",
      "grow --------> grow\n",
      "growing --------> grow\n",
      "growth --------> growth\n"
     ]
    }
   ],
   "source": [
    "s_stemmer = SnowballStemmer(language='english')\n",
    "for word in words:\n",
    "    print(word + ' --------> ' + s_stemmer.stem(word))"
   ]
  },
  {
   "cell_type": "code",
   "execution_count": 5,
   "id": "7ba5dc81",
   "metadata": {},
   "outputs": [],
   "source": [
    "words = ['generate','generation','generous','generously','generosity','care','cares','carefully','carelessly']"
   ]
  },
  {
   "cell_type": "code",
   "execution_count": 6,
   "id": "ef3f11e9",
   "metadata": {},
   "outputs": [
    {
     "name": "stdout",
     "output_type": "stream",
     "text": [
      "generate --------> gener\n",
      "generation --------> gener\n",
      "generous --------> gener\n",
      "generously --------> gener\n",
      "generosity --------> generos\n",
      "care --------> care\n",
      "cares --------> care\n",
      "carefully --------> care\n",
      "carelessly --------> carelessli\n"
     ]
    }
   ],
   "source": [
    "p_stemmer = PorterStemmer()\n",
    "for word in words:\n",
    "    print(word + ' --------> ' + p_stemmer.stem(word))"
   ]
  },
  {
   "cell_type": "code",
   "execution_count": 7,
   "id": "1051bbea",
   "metadata": {},
   "outputs": [
    {
     "name": "stdout",
     "output_type": "stream",
     "text": [
      "generate --------> generat\n",
      "generation --------> generat\n",
      "generous --------> generous\n",
      "generously --------> generous\n",
      "generosity --------> generos\n",
      "care --------> care\n",
      "cares --------> care\n",
      "carefully --------> care\n",
      "carelessly --------> careless\n"
     ]
    }
   ],
   "source": [
    "s_stemmer = SnowballStemmer(language='english')\n",
    "for word in words:\n",
    "    print(word + ' --------> ' + s_stemmer.stem(word))"
   ]
  }
 ],
 "metadata": {
  "kernelspec": {
   "display_name": "Python 3 (ipykernel)",
   "language": "python",
   "name": "python3"
  },
  "language_info": {
   "codemirror_mode": {
    "name": "ipython",
    "version": 3
   },
   "file_extension": ".py",
   "mimetype": "text/x-python",
   "name": "python",
   "nbconvert_exporter": "python",
   "pygments_lexer": "ipython3",
   "version": "3.8.8"
  }
 },
 "nbformat": 4,
 "nbformat_minor": 5
}
