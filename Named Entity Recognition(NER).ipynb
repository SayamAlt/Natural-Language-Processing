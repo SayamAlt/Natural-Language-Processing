{
 "cells": [
  {
   "cell_type": "code",
   "execution_count": 2,
   "id": "0d1a7ced",
   "metadata": {},
   "outputs": [],
   "source": [
    "import spacy\n",
    "nlp = spacy.load('en_core_web_sm')"
   ]
  },
  {
   "cell_type": "code",
   "execution_count": 3,
   "id": "e76b9055",
   "metadata": {},
   "outputs": [],
   "source": [
    "doc = nlp(u\"Stephen is planning to host a party next weekend.\")"
   ]
  },
  {
   "cell_type": "code",
   "execution_count": 4,
   "id": "378e9220",
   "metadata": {},
   "outputs": [
    {
     "name": "stdout",
     "output_type": "stream",
     "text": [
      "(Stephen, next weekend)\n"
     ]
    }
   ],
   "source": [
    "print(doc.ents)"
   ]
  },
  {
   "cell_type": "code",
   "execution_count": 24,
   "id": "eb35618a",
   "metadata": {},
   "outputs": [],
   "source": [
    "def show_ents(doc):\n",
    "    if doc.ents:\n",
    "        for ent in doc.ents:\n",
    "            print(f\"{ent}-{ent.label_:{20}} {spacy.explain(ent.label_)} Location: ({ent.start},{ent.end})\")\n",
    "    else:\n",
    "        print(\"No entities found\")"
   ]
  },
  {
   "cell_type": "code",
   "execution_count": 25,
   "id": "142fe7f9",
   "metadata": {},
   "outputs": [
    {
     "name": "stdout",
     "output_type": "stream",
     "text": [
      "Stephen-PERSON               People, including fictional Location: (0,1)\n",
      "next weekend-DATE                 Absolute or relative dates or periods Location: (7,9)\n"
     ]
    }
   ],
   "source": [
    "show_ents(doc)"
   ]
  },
  {
   "cell_type": "code",
   "execution_count": 31,
   "id": "b67f98f8",
   "metadata": {},
   "outputs": [
    {
     "data": {
      "text/plain": [
       "'next weekend'"
      ]
     },
     "execution_count": 31,
     "metadata": {},
     "output_type": "execute_result"
    }
   ],
   "source": [
    "doc.ents[1].lemma_"
   ]
  },
  {
   "cell_type": "code",
   "execution_count": 33,
   "id": "88723063",
   "metadata": {},
   "outputs": [
    {
     "name": "stderr",
     "output_type": "stream",
     "text": [
      "C:\\Users\\hp\\AppData\\Local\\Temp\\ipykernel_4148\\4066124779.py:1: UserWarning: [W007] The model you're using has no word vectors loaded, so the result of the Span.similarity method will be based on the tagger, parser and NER, which may not give useful similarity judgements. This may happen if you're using one of the small models, e.g. `en_core_web_sm`, which don't ship with word vectors and only use context-sensitive tensors. You can always add your own word vectors, or use one of the larger models instead if available.\n",
      "  doc.ents[1].similarity(doc.ents[0])\n"
     ]
    },
    {
     "data": {
      "text/plain": [
       "0.24794980883598328"
      ]
     },
     "execution_count": 33,
     "metadata": {},
     "output_type": "execute_result"
    }
   ],
   "source": [
    "doc.ents[1].similarity(doc.ents[0])"
   ]
  },
  {
   "cell_type": "code",
   "execution_count": 34,
   "id": "3bea49f8",
   "metadata": {},
   "outputs": [],
   "source": [
    "doc2 = nlp(u\"Peter has invested in about 300 shares of Apple to further grow his business.\")"
   ]
  },
  {
   "cell_type": "code",
   "execution_count": 35,
   "id": "80446477",
   "metadata": {},
   "outputs": [
    {
     "name": "stdout",
     "output_type": "stream",
     "text": [
      "Peter-PERSON               People, including fictional Location: (0,1)\n",
      "about 300-CARDINAL             Numerals that do not fall under another type Location: (4,6)\n",
      "Apple-ORG                  Companies, agencies, institutions, etc. Location: (8,9)\n"
     ]
    }
   ],
   "source": [
    "show_ents(doc2)"
   ]
  },
  {
   "cell_type": "code",
   "execution_count": 39,
   "id": "1c9bd92a",
   "metadata": {},
   "outputs": [],
   "source": [
    "doc3 = nlp(u\"Laura spends lavishly on the latest jewellery whenever she visits the Walmart supermarket during the summers.\")"
   ]
  },
  {
   "cell_type": "code",
   "execution_count": 40,
   "id": "2c9f8f96",
   "metadata": {},
   "outputs": [
    {
     "name": "stdout",
     "output_type": "stream",
     "text": [
      "Laura-PERSON               People, including fictional Location: (0,1)\n",
      "Walmart-ORG                  Companies, agencies, institutions, etc. Location: (11,12)\n"
     ]
    }
   ],
   "source": [
    "show_ents(doc3)"
   ]
  },
  {
   "cell_type": "code",
   "execution_count": 42,
   "id": "a8083f80",
   "metadata": {},
   "outputs": [],
   "source": [
    "from spacy.tokens import Span"
   ]
  },
  {
   "cell_type": "code",
   "execution_count": 84,
   "id": "e3cdf4bf",
   "metadata": {},
   "outputs": [
    {
     "data": {
      "text/plain": [
       "386"
      ]
     },
     "execution_count": 84,
     "metadata": {},
     "output_type": "execute_result"
    }
   ],
   "source": [
    "PRODUCT = doc.vocab.strings[u'PRODUCT']\n",
    "PRODUCT"
   ]
  },
  {
   "cell_type": "code",
   "execution_count": 85,
   "id": "d07a4559",
   "metadata": {},
   "outputs": [],
   "source": [
    "from spacy.matcher import Matcher"
   ]
  },
  {
   "cell_type": "code",
   "execution_count": 86,
   "id": "664eaada",
   "metadata": {},
   "outputs": [],
   "source": [
    "pattern = [{'LOWER':'jewellery'}]\n",
    "token_matcher = Matcher(nlp.vocab)\n",
    "token_matcher.add('ProductMatcher',[pattern])"
   ]
  },
  {
   "cell_type": "code",
   "execution_count": 87,
   "id": "0391a921",
   "metadata": {},
   "outputs": [],
   "source": [
    "start_idx = token_matcher(doc3)[0][1]\n",
    "end_idx = token_matcher(doc3)[0][2]"
   ]
  },
  {
   "cell_type": "code",
   "execution_count": 88,
   "id": "2f0c1d0a",
   "metadata": {},
   "outputs": [
    {
     "data": {
      "text/plain": [
       "jewellery"
      ]
     },
     "execution_count": 88,
     "metadata": {},
     "output_type": "execute_result"
    }
   ],
   "source": [
    "new_entity = Span(doc3,start_idx,end_idx,label=ent_id)\n",
    "new_entity"
   ]
  },
  {
   "cell_type": "code",
   "execution_count": 91,
   "id": "8ed9bc12",
   "metadata": {},
   "outputs": [],
   "source": [
    "doc3.ents = list(doc3.ents) + [new_entity]"
   ]
  },
  {
   "cell_type": "code",
   "execution_count": 92,
   "id": "7912b84b",
   "metadata": {},
   "outputs": [
    {
     "name": "stdout",
     "output_type": "stream",
     "text": [
      "Laura-PERSON               People, including fictional Location: (0,1)\n",
      "jewellery-PRODUCT              Objects, vehicles, foods, etc. (not services) Location: (6,7)\n",
      "Walmart-ORG                  Companies, agencies, institutions, etc. Location: (11,12)\n"
     ]
    }
   ],
   "source": [
    "show_ents(doc3)"
   ]
  },
  {
   "cell_type": "code",
   "execution_count": 99,
   "id": "7054d01b",
   "metadata": {},
   "outputs": [],
   "source": [
    "doc = nlp(u\"The U.S. government is spending $226.79 million on the construction of bridges and highways across the countryside.\")"
   ]
  },
  {
   "cell_type": "code",
   "execution_count": 100,
   "id": "1016a60e",
   "metadata": {},
   "outputs": [
    {
     "name": "stdout",
     "output_type": "stream",
     "text": [
      "U.S.-GPE                  Countries, cities, states Location: (1,2)\n",
      "$226.79 million-MONEY                Monetary values, including unit Location: (5,8)\n"
     ]
    }
   ],
   "source": [
    "show_ents(doc)"
   ]
  },
  {
   "cell_type": "code",
   "execution_count": 102,
   "id": "e2da1b77",
   "metadata": {},
   "outputs": [],
   "source": [
    "matcher = Matcher(nlp.vocab)\n",
    "pattern1 = [{'LOWER': 'bridges'}]\n",
    "pattern2 = [{'LOWER': 'highways'}]\n",
    "matcher.add('INFRA',[pattern1,pattern2])"
   ]
  },
  {
   "cell_type": "code",
   "execution_count": 103,
   "id": "8069329a",
   "metadata": {},
   "outputs": [
    {
     "data": {
      "text/plain": [
       "[(17980410162252471113, 12, 13), (17980410162252471113, 14, 15)]"
      ]
     },
     "execution_count": 103,
     "metadata": {},
     "output_type": "execute_result"
    }
   ],
   "source": [
    "token_matcher = matcher(doc)\n",
    "token_matcher"
   ]
  },
  {
   "cell_type": "code",
   "execution_count": 105,
   "id": "7965fee1",
   "metadata": {},
   "outputs": [
    {
     "data": {
      "text/plain": [
       "9191306739292312949"
      ]
     },
     "execution_count": 105,
     "metadata": {},
     "output_type": "execute_result"
    }
   ],
   "source": [
    "FAC = doc.vocab.strings[u'FAC']\n",
    "FAC"
   ]
  },
  {
   "cell_type": "code",
   "execution_count": 108,
   "id": "d970e5b7",
   "metadata": {},
   "outputs": [],
   "source": [
    "for match_id, start, end in token_matcher:\n",
    "    string = nlp.vocab.strings[match_id]\n",
    "    span = doc[start:end]\n",
    "    new_entity = Span(doc,start,end,label=FAC)\n",
    "    doc.ents = list(doc.ents) + [new_entity]"
   ]
  },
  {
   "cell_type": "code",
   "execution_count": 109,
   "id": "61dbde70",
   "metadata": {},
   "outputs": [
    {
     "name": "stdout",
     "output_type": "stream",
     "text": [
      "U.S.-GPE                  Countries, cities, states Location: (1,2)\n",
      "$226.79 million-MONEY                Monetary values, including unit Location: (5,8)\n",
      "bridges-FAC                  Buildings, airports, highways, bridges, etc. Location: (12,13)\n",
      "highways-FAC                  Buildings, airports, highways, bridges, etc. Location: (14,15)\n"
     ]
    }
   ],
   "source": [
    "show_ents(doc)"
   ]
  },
  {
   "cell_type": "code",
   "execution_count": 123,
   "id": "ee12a7b3",
   "metadata": {},
   "outputs": [],
   "source": [
    "from spacy.matcher import PhraseMatcher"
   ]
  },
  {
   "cell_type": "code",
   "execution_count": 124,
   "id": "4f85587d",
   "metadata": {},
   "outputs": [],
   "source": [
    "phrase_matcher = PhraseMatcher(nlp.vocab)"
   ]
  },
  {
   "cell_type": "code",
   "execution_count": 125,
   "id": "4478d084",
   "metadata": {},
   "outputs": [],
   "source": [
    "doc = nlp(u\"The post office is closed for today. You can visit the post-office anytime during the next week.\")"
   ]
  },
  {
   "cell_type": "code",
   "execution_count": 126,
   "id": "2137f8cd",
   "metadata": {},
   "outputs": [],
   "source": [
    "phrase_list = ['post office','post-office']"
   ]
  },
  {
   "cell_type": "code",
   "execution_count": 127,
   "id": "c875c108",
   "metadata": {},
   "outputs": [],
   "source": [
    "phrase_patterns = [nlp(phrase) for phrase in phrase_list]"
   ]
  },
  {
   "cell_type": "code",
   "execution_count": 128,
   "id": "076aa9b0",
   "metadata": {},
   "outputs": [],
   "source": [
    "phrase_matcher.add('neworganizations',phrase_patterns)"
   ]
  },
  {
   "cell_type": "code",
   "execution_count": 130,
   "id": "be6982ef",
   "metadata": {},
   "outputs": [
    {
     "data": {
      "text/plain": [
       "[(10500718827724275468, 1, 3), (10500718827724275468, 12, 15)]"
      ]
     },
     "execution_count": 130,
     "metadata": {},
     "output_type": "execute_result"
    }
   ],
   "source": [
    "found_matches = phrase_matcher(doc)\n",
    "found_matches"
   ]
  },
  {
   "cell_type": "code",
   "execution_count": 132,
   "id": "3ebacfe9",
   "metadata": {},
   "outputs": [
    {
     "data": {
      "text/plain": [
       "383"
      ]
     },
     "execution_count": 132,
     "metadata": {},
     "output_type": "execute_result"
    }
   ],
   "source": [
    "ORG = doc.vocab.strings[u\"ORG\"]\n",
    "ORG"
   ]
  },
  {
   "cell_type": "code",
   "execution_count": 133,
   "id": "fe1f5cfb",
   "metadata": {},
   "outputs": [
    {
     "data": {
      "text/plain": [
       "[post office, post-office]"
      ]
     },
     "execution_count": 133,
     "metadata": {},
     "output_type": "execute_result"
    }
   ],
   "source": [
    "named_entities = [Span(doc,match[1],match[2],label=ORG) for match in found_matches]\n",
    "named_entities"
   ]
  },
  {
   "cell_type": "code",
   "execution_count": 134,
   "id": "166882db",
   "metadata": {},
   "outputs": [],
   "source": [
    "doc.ents = list(doc.ents) + named_entities"
   ]
  },
  {
   "cell_type": "code",
   "execution_count": 135,
   "id": "0574fb47",
   "metadata": {},
   "outputs": [
    {
     "name": "stdout",
     "output_type": "stream",
     "text": [
      "post office-ORG                  Companies, agencies, institutions, etc. Location: (1,3)\n",
      "today-DATE                 Absolute or relative dates or periods Location: (6,7)\n",
      "post-office-ORG                  Companies, agencies, institutions, etc. Location: (12,15)\n",
      "the next week-DATE                 Absolute or relative dates or periods Location: (17,20)\n"
     ]
    }
   ],
   "source": [
    "show_ents(doc)"
   ]
  },
  {
   "cell_type": "code",
   "execution_count": 136,
   "id": "4410eee5",
   "metadata": {},
   "outputs": [
    {
     "data": {
      "text/plain": [
       "2"
      ]
     },
     "execution_count": 136,
     "metadata": {},
     "output_type": "execute_result"
    }
   ],
   "source": [
    "len([ent for ent in doc.ents if ent.label_ == 'ORG'])"
   ]
  },
  {
   "cell_type": "code",
   "execution_count": 137,
   "id": "15566c55",
   "metadata": {},
   "outputs": [
    {
     "data": {
      "text/plain": [
       "2"
      ]
     },
     "execution_count": 137,
     "metadata": {},
     "output_type": "execute_result"
    }
   ],
   "source": [
    "len([ent for ent in doc.ents if ent.label_ == 'DATE'])"
   ]
  }
 ],
 "metadata": {
  "kernelspec": {
   "display_name": "Python 3 (ipykernel)",
   "language": "python",
   "name": "python3"
  },
  "language_info": {
   "codemirror_mode": {
    "name": "ipython",
    "version": 3
   },
   "file_extension": ".py",
   "mimetype": "text/x-python",
   "name": "python",
   "nbconvert_exporter": "python",
   "pygments_lexer": "ipython3",
   "version": "3.8.8"
  }
 },
 "nbformat": 4,
 "nbformat_minor": 5
}
