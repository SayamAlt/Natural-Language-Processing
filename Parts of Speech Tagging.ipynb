{
 "cells": [
  {
   "cell_type": "code",
   "execution_count": 1,
   "id": "c55d121a",
   "metadata": {},
   "outputs": [
    {
     "name": "stderr",
     "output_type": "stream",
     "text": [
      "C:\\Users\\hp\\anaconda3\\lib\\site-packages\\numpy\\_distributor_init.py:30: UserWarning: loaded more than 1 DLL from .libs:\n",
      "C:\\Users\\hp\\anaconda3\\lib\\site-packages\\numpy\\.libs\\libopenblas.FB5AE2TYXYH2IJRDKGDGQ3XBKLKTF43H.gfortran-win_amd64.dll\n",
      "C:\\Users\\hp\\anaconda3\\lib\\site-packages\\numpy\\.libs\\libopenblas.WCDJNK7YVMPZQ2ME2ZZHJJRJ3JIKNDB7.gfortran-win_amd64.dll\n",
      "  warnings.warn(\"loaded more than 1 DLL from .libs:\"\n",
      "C:\\Users\\hp\\anaconda3\\lib\\site-packages\\scipy\\__init__.py:146: UserWarning: A NumPy version >=1.16.5 and <1.23.0 is required for this version of SciPy (detected version 1.23.2\n",
      "  warnings.warn(f\"A NumPy version >={np_minversion} and <{np_maxversion}\"\n"
     ]
    }
   ],
   "source": [
    "import spacy \n",
    "nlp = spacy.load('en_core_web_sm')"
   ]
  },
  {
   "cell_type": "code",
   "execution_count": 2,
   "id": "6dec6fb0",
   "metadata": {},
   "outputs": [],
   "source": [
    "doc = nlp(u\"There is an intense competition among various species in the Sahara desert for their survival.\")"
   ]
  },
  {
   "cell_type": "code",
   "execution_count": 3,
   "id": "6292feb3",
   "metadata": {},
   "outputs": [
    {
     "name": "stdout",
     "output_type": "stream",
     "text": [
      "There is an intense competition among various species in the Sahara desert for their survival.\n"
     ]
    }
   ],
   "source": [
    "print(doc.text)"
   ]
  },
  {
   "cell_type": "code",
   "execution_count": 5,
   "id": "7a4b1e26",
   "metadata": {},
   "outputs": [
    {
     "name": "stdout",
     "output_type": "stream",
     "text": [
      "competition NOUN attr NN\n"
     ]
    }
   ],
   "source": [
    "print(doc[4].text, doc[4].pos_, doc[4].dep_, doc[4].tag_)"
   ]
  },
  {
   "cell_type": "code",
   "execution_count": 7,
   "id": "feb5ad78",
   "metadata": {},
   "outputs": [
    {
     "name": "stdout",
     "output_type": "stream",
     "text": [
      "There      PRON       expl       EX         existential there\n",
      "is         VERB       ROOT       VBZ        verb, 3rd person singular present\n",
      "an         DET        det        DT         determiner\n",
      "intense    ADJ        amod       JJ         adjective (English), other noun-modifier (Chinese)\n",
      "competition NOUN       attr       NN         noun, singular or mass\n",
      "among      ADP        prep       IN         conjunction, subordinating or preposition\n",
      "various    ADJ        amod       JJ         adjective (English), other noun-modifier (Chinese)\n",
      "species    NOUN       pobj       NNS        noun, plural\n",
      "in         ADP        prep       IN         conjunction, subordinating or preposition\n",
      "the        DET        det        DT         determiner\n",
      "Sahara     PROPN      compound   NNP        noun, proper singular\n",
      "desert     NOUN       pobj       NN         noun, singular or mass\n",
      "for        ADP        prep       IN         conjunction, subordinating or preposition\n",
      "their      PRON       poss       PRP$       pronoun, possessive\n",
      "survival   NOUN       pobj       NN         noun, singular or mass\n",
      ".          PUNCT      punct      .          punctuation mark, sentence closer\n"
     ]
    }
   ],
   "source": [
    "for token in doc:\n",
    "    print(f\"{token.text:{10}} {token.pos_:{10}} {token.dep_:{10}} {token.tag_:{10}} {spacy.explain(token.tag_)}\")"
   ]
  },
  {
   "cell_type": "code",
   "execution_count": 26,
   "id": "c460df05",
   "metadata": {},
   "outputs": [],
   "source": [
    "doc = nlp(u\"I read books on Deep Learning everyday.\")"
   ]
  },
  {
   "cell_type": "code",
   "execution_count": 27,
   "id": "79081e00",
   "metadata": {},
   "outputs": [
    {
     "name": "stdout",
     "output_type": "stream",
     "text": [
      "read VERB\n"
     ]
    }
   ],
   "source": [
    "word = doc[1]\n",
    "print(word.text, word.pos_)"
   ]
  },
  {
   "cell_type": "code",
   "execution_count": 28,
   "id": "1a6d2a6c",
   "metadata": {},
   "outputs": [
    {
     "name": "stdout",
     "output_type": "stream",
     "text": [
      "VBD verb, past tense\n",
      "ROOT root\n"
     ]
    }
   ],
   "source": [
    "print(word.tag_, spacy.explain(word.tag_))\n",
    "print(word.dep_, spacy.explain(word.dep_))"
   ]
  },
  {
   "cell_type": "code",
   "execution_count": 29,
   "id": "eea7a657",
   "metadata": {},
   "outputs": [
    {
     "name": "stdout",
     "output_type": "stream",
     "text": [
      "I          PRON       pronoun         PRP        pronoun, personal\n",
      "read       VERB       verb            VBD        verb, past tense\n",
      "books      NOUN       noun            NNS        noun, plural\n",
      "on         ADP        adposition      IN         conjunction, subordinating or preposition\n",
      "Deep       PROPN      proper noun     NNP        noun, proper singular\n",
      "Learning   PROPN      proper noun     NNP        noun, proper singular\n",
      "everyday   ADV        adverb          RB         adverb\n",
      ".          PUNCT      punctuation     .          punctuation mark, sentence closer\n"
     ]
    }
   ],
   "source": [
    "for token in doc:\n",
    "    print(f\"{token.text:{10}} {token.pos_:{10}} {spacy.explain(token.pos_):{15}} {token.tag_:{10}} {spacy.explain(token.tag_):{5}}\")"
   ]
  },
  {
   "cell_type": "code",
   "execution_count": 34,
   "id": "1a80a78d",
   "metadata": {},
   "outputs": [],
   "source": [
    "doc = nlp(u\"I'll go to the gym today.\")"
   ]
  },
  {
   "cell_type": "code",
   "execution_count": 35,
   "id": "58adbf62",
   "metadata": {},
   "outputs": [
    {
     "name": "stdout",
     "output_type": "stream",
     "text": [
      "I          PRON       nsubj      PRP        pronoun, personal\n",
      "'ll        AUX        aux        MD         verb, modal auxiliary\n",
      "go         VERB       ROOT       VB         verb, base form\n",
      "to         ADP        prep       IN         conjunction, subordinating or preposition\n",
      "the        DET        det        DT         determiner\n",
      "gym        NOUN       pobj       NN         noun, singular or mass\n",
      "today      NOUN       npadvmod   NN         noun, singular or mass\n",
      ".          PUNCT      punct      .          punctuation mark, sentence closer\n"
     ]
    }
   ],
   "source": [
    "for token in doc:\n",
    "    print(f\"{token.text:{10}} {token.pos_:{10}} {token.dep_:{10}} {token.tag_:{10}} {spacy.explain(token.tag_)}\")"
   ]
  },
  {
   "cell_type": "code",
   "execution_count": 36,
   "id": "3e010bc9",
   "metadata": {},
   "outputs": [],
   "source": [
    "doc = nlp(u\"He eats apples and mangoes.\")"
   ]
  },
  {
   "cell_type": "code",
   "execution_count": 39,
   "id": "492779c3",
   "metadata": {},
   "outputs": [
    {
     "name": "stdout",
     "output_type": "stream",
     "text": [
      "eats VERB ROOT VBZ verb, 3rd person singular present eat ats e\n"
     ]
    }
   ],
   "source": [
    "word = doc[1]\n",
    "print(word.text, word.pos_, word.dep_, word.tag_, spacy.explain(word.tag_), word.lemma_, word.suffix_, word.prefix_)"
   ]
  },
  {
   "cell_type": "code",
   "execution_count": 40,
   "id": "11531f8f",
   "metadata": {},
   "outputs": [],
   "source": [
    "doc = nlp(u\"He ate an apple earlier today.\")"
   ]
  },
  {
   "cell_type": "code",
   "execution_count": 42,
   "id": "5789540d",
   "metadata": {},
   "outputs": [
    {
     "name": "stdout",
     "output_type": "stream",
     "text": [
      "ate VERB ROOT VBD verb, past tense\n"
     ]
    }
   ],
   "source": [
    "word = doc[1]\n",
    "print(word.text, word.pos_, word.dep_, word.tag_, spacy.explain(word.tag_))"
   ]
  },
  {
   "cell_type": "code",
   "execution_count": 43,
   "id": "d6be1be7",
   "metadata": {},
   "outputs": [],
   "source": [
    "doc = nlp(u\"He applied for the position of a data scientist at Google. He had enormous faith and belief in himself to excel in his career.\")"
   ]
  },
  {
   "cell_type": "code",
   "execution_count": 52,
   "id": "88af8b05",
   "metadata": {},
   "outputs": [
    {
     "data": {
      "text/plain": [
       "{95: 4, 100: 3, 85: 5, 90: 2, 92: 6, 96: 1, 97: 2, 84: 1, 89: 1, 94: 1}"
      ]
     },
     "execution_count": 52,
     "metadata": {},
     "output_type": "execute_result"
    }
   ],
   "source": [
    "POS_counts = doc.count_by(spacy.attrs.POS)\n",
    "POS_counts"
   ]
  },
  {
   "cell_type": "code",
   "execution_count": 56,
   "id": "7bdbd8cb",
   "metadata": {},
   "outputs": [
    {
     "data": {
      "text/plain": [
       "'ADP'"
      ]
     },
     "execution_count": 56,
     "metadata": {},
     "output_type": "execute_result"
    }
   ],
   "source": [
    "doc.vocab[85].text"
   ]
  },
  {
   "cell_type": "code",
   "execution_count": 58,
   "id": "eeedce5f",
   "metadata": {},
   "outputs": [
    {
     "name": "stdout",
     "output_type": "stream",
     "text": [
      "   84. ADJ      -->          1\n",
      "   85. ADP      -->          5\n",
      "   89. CCONJ    -->          1\n",
      "   90. DET      -->          2\n",
      "   92. NOUN     -->          6\n",
      "   94. PART     -->          1\n",
      "   95. PRON     -->          4\n",
      "   96. PROPN    -->          1\n",
      "   97. PUNCT    -->          2\n",
      "  100. VERB     -->          3\n"
     ]
    }
   ],
   "source": [
    "for key, val in sorted(POS_counts.items()):\n",
    "    print(f\"{key:{5}}. {doc.vocab[key].text:{8}} --> {val:{10}}\")"
   ]
  },
  {
   "cell_type": "code",
   "execution_count": 61,
   "id": "563111ed",
   "metadata": {},
   "outputs": [
    {
     "data": {
      "text/plain": [
       "{429: 3,\n",
       " 8206900633647566924: 2,\n",
       " 443: 5,\n",
       " 415: 2,\n",
       " 439: 5,\n",
       " 7037928807040764755: 1,\n",
       " 445: 2,\n",
       " 402: 1,\n",
       " 407: 1,\n",
       " 410: 1,\n",
       " 405: 1,\n",
       " 408: 1,\n",
       " 440: 1}"
      ]
     },
     "execution_count": 61,
     "metadata": {},
     "output_type": "execute_result"
    }
   ],
   "source": [
    "DEP_counts = doc.count_by(spacy.attrs.DEP)\n",
    "DEP_counts"
   ]
  },
  {
   "cell_type": "code",
   "execution_count": 62,
   "id": "faec1280",
   "metadata": {},
   "outputs": [
    {
     "name": "stdout",
     "output_type": "stream",
     "text": [
      "  402. amod     -->          1\n",
      "  405. aux      -->          1\n",
      "  407. cc       -->          1\n",
      "  408. ccomp    -->          1\n",
      "  410. conj     -->          1\n",
      "  415. det      -->          2\n",
      "  429. nsubj    -->          3\n",
      "  439. pobj     -->          5\n",
      "  440. poss     -->          1\n",
      "  443. prep     -->          5\n",
      "  445. punct    -->          2\n",
      "7037928807040764755. compound -->          1\n",
      "8206900633647566924. ROOT     -->          2\n"
     ]
    }
   ],
   "source": [
    "for key, val in sorted(DEP_counts.items()):\n",
    "    print(f\"{key:{5}}. {doc.vocab[key].text:{8}} --> {val:{10}}\")"
   ]
  },
  {
   "cell_type": "code",
   "execution_count": 64,
   "id": "fac6e441",
   "metadata": {},
   "outputs": [
    {
     "data": {
      "text/plain": [
       "839"
      ]
     },
     "execution_count": 64,
     "metadata": {},
     "output_type": "execute_result"
    }
   ],
   "source": [
    "len(doc.vocab)"
   ]
  },
  {
   "cell_type": "code",
   "execution_count": 67,
   "id": "a673e91f",
   "metadata": {},
   "outputs": [
    {
     "data": {
      "text/plain": [
       "'nsubj'"
      ]
     },
     "execution_count": 67,
     "metadata": {},
     "output_type": "execute_result"
    }
   ],
   "source": [
    "doc.vocab[429].text"
   ]
  },
  {
   "cell_type": "code",
   "execution_count": 68,
   "id": "44fe6add",
   "metadata": {},
   "outputs": [
    {
     "data": {
      "text/plain": [
       "{13656873538139661788: 3,\n",
       " 17109001835818727656: 2,\n",
       " 1292078113972184607: 5,\n",
       " 15267657372422890137: 2,\n",
       " 15308085513773655218: 6,\n",
       " 15794550382381185553: 1,\n",
       " 12646065887601541794: 2,\n",
       " 10554686591937588953: 1,\n",
       " 17571114184892886314: 1,\n",
       " 5595707737748328492: 1,\n",
       " 14200088355797579614: 1,\n",
       " 4062917326063685704: 1}"
      ]
     },
     "execution_count": 68,
     "metadata": {},
     "output_type": "execute_result"
    }
   ],
   "source": [
    "TAG_counts = doc.count_by(spacy.attrs.TAG)\n",
    "TAG_counts"
   ]
  },
  {
   "cell_type": "code",
   "execution_count": 75,
   "id": "5095ff0b",
   "metadata": {},
   "outputs": [
    {
     "name": "stdout",
     "output_type": "stream",
     "text": [
      "1292078113972184607. IN ( conjunction, subordinating or preposition ) --> 5\n",
      "4062917326063685704. PRP$ ( pronoun, possessive ) --> 1\n",
      "5595707737748328492. TO ( infinitival \"to\" ) --> 1\n",
      "10554686591937588953. JJ ( adjective (English), other noun-modifier (Chinese) ) --> 1\n",
      "12646065887601541794. . ( punctuation mark, sentence closer ) --> 2\n",
      "13656873538139661788. PRP ( pronoun, personal ) --> 3\n",
      "14200088355797579614. VB ( verb, base form ) --> 1\n",
      "15267657372422890137. DT ( determiner ) --> 2\n",
      "15308085513773655218. NN ( noun, singular or mass ) --> 6\n",
      "15794550382381185553. NNP ( noun, proper singular ) --> 1\n",
      "17109001835818727656. VBD ( verb, past tense ) --> 2\n",
      "17571114184892886314. CC ( conjunction, coordinating ) --> 1\n"
     ]
    }
   ],
   "source": [
    "for key, val in sorted(TAG_counts.items()):\n",
    "    print(f\"{key:{15}}. {doc.vocab[key].text} ( {spacy.explain(doc.vocab[key].text):{10}} ) --> {val}\")"
   ]
  }
 ],
 "metadata": {
  "kernelspec": {
   "display_name": "Python 3 (ipykernel)",
   "language": "python",
   "name": "python3"
  },
  "language_info": {
   "codemirror_mode": {
    "name": "ipython",
    "version": 3
   },
   "file_extension": ".py",
   "mimetype": "text/x-python",
   "name": "python",
   "nbconvert_exporter": "python",
   "pygments_lexer": "ipython3",
   "version": "3.8.8"
  }
 },
 "nbformat": 4,
 "nbformat_minor": 5
}
