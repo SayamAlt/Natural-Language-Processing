{
 "cells": [
  {
   "cell_type": "code",
   "execution_count": 13,
   "id": "a2acc30e",
   "metadata": {},
   "outputs": [],
   "source": [
    "import numpy as np\n",
    "import pandas as pd\n",
    "import random\n",
    "from sklearn.feature_extraction.text import TfidfVectorizer\n",
    "from sklearn.decomposition import NMF"
   ]
  },
  {
   "cell_type": "code",
   "execution_count": 2,
   "id": "9f2591d1",
   "metadata": {},
   "outputs": [
    {
     "data": {
      "text/html": [
       "<div>\n",
       "<style scoped>\n",
       "    .dataframe tbody tr th:only-of-type {\n",
       "        vertical-align: middle;\n",
       "    }\n",
       "\n",
       "    .dataframe tbody tr th {\n",
       "        vertical-align: top;\n",
       "    }\n",
       "\n",
       "    .dataframe thead th {\n",
       "        text-align: right;\n",
       "    }\n",
       "</style>\n",
       "<table border=\"1\" class=\"dataframe\">\n",
       "  <thead>\n",
       "    <tr style=\"text-align: right;\">\n",
       "      <th></th>\n",
       "      <th>Article</th>\n",
       "    </tr>\n",
       "  </thead>\n",
       "  <tbody>\n",
       "    <tr>\n",
       "      <th>0</th>\n",
       "      <td>In the Washington of 2016, even when the polic...</td>\n",
       "    </tr>\n",
       "    <tr>\n",
       "      <th>1</th>\n",
       "      <td>Donald Trump has used Twitter  —   his prefe...</td>\n",
       "    </tr>\n",
       "    <tr>\n",
       "      <th>2</th>\n",
       "      <td>Donald Trump is unabashedly praising Russian...</td>\n",
       "    </tr>\n",
       "    <tr>\n",
       "      <th>3</th>\n",
       "      <td>Updated at 2:50 p. m. ET, Russian President Vl...</td>\n",
       "    </tr>\n",
       "    <tr>\n",
       "      <th>4</th>\n",
       "      <td>From photography, illustration and video, to d...</td>\n",
       "    </tr>\n",
       "  </tbody>\n",
       "</table>\n",
       "</div>"
      ],
      "text/plain": [
       "                                             Article\n",
       "0  In the Washington of 2016, even when the polic...\n",
       "1    Donald Trump has used Twitter  —   his prefe...\n",
       "2    Donald Trump is unabashedly praising Russian...\n",
       "3  Updated at 2:50 p. m. ET, Russian President Vl...\n",
       "4  From photography, illustration and video, to d..."
      ]
     },
     "execution_count": 2,
     "metadata": {},
     "output_type": "execute_result"
    }
   ],
   "source": [
    "df = pd.read_csv('../DATA/npr.csv')\n",
    "df.head()"
   ]
  },
  {
   "cell_type": "code",
   "execution_count": 3,
   "id": "a9a4898f",
   "metadata": {},
   "outputs": [
    {
     "data": {
      "text/plain": [
       "(11992, 1)"
      ]
     },
     "execution_count": 3,
     "metadata": {},
     "output_type": "execute_result"
    }
   ],
   "source": [
    "df.shape"
   ]
  },
  {
   "cell_type": "code",
   "execution_count": 7,
   "id": "4efe301d",
   "metadata": {},
   "outputs": [
    {
     "data": {
      "text/plain": [
       "<11992x54777 sparse matrix of type '<class 'numpy.float64'>'\n",
       "\twith 3033388 stored elements in Compressed Sparse Row format>"
      ]
     },
     "execution_count": 7,
     "metadata": {},
     "output_type": "execute_result"
    }
   ],
   "source": [
    "tfidf = TfidfVectorizer(max_df=0.95,min_df=2,stop_words='english')\n",
    "dtm = tfidf.fit_transform(df.Article)\n",
    "dtm"
   ]
  },
  {
   "cell_type": "code",
   "execution_count": 10,
   "id": "4a544635",
   "metadata": {},
   "outputs": [
    {
     "data": {
      "text/plain": [
       "(11992, 54777)"
      ]
     },
     "execution_count": 10,
     "metadata": {},
     "output_type": "execute_result"
    }
   ],
   "source": [
    "dtm.shape"
   ]
  },
  {
   "cell_type": "code",
   "execution_count": 8,
   "id": "afd76f9c",
   "metadata": {},
   "outputs": [
    {
     "name": "stderr",
     "output_type": "stream",
     "text": [
      "C:\\Users\\hp\\anaconda3\\lib\\site-packages\\sklearn\\decomposition\\_nmf.py:289: FutureWarning: The 'init' value, when 'init=None' and n_components is less than n_samples and n_features, will be changed from 'nndsvd' to 'nndsvda' in 1.1 (renaming of 0.26).\n",
      "  warnings.warn(\n"
     ]
    },
    {
     "data": {
      "text/plain": [
       "NMF(n_components=10, random_state=101)"
      ]
     },
     "execution_count": 8,
     "metadata": {},
     "output_type": "execute_result"
    }
   ],
   "source": [
    "nmf = NMF(n_components=10,random_state=101)\n",
    "nmf.fit(dtm)"
   ]
  },
  {
   "cell_type": "code",
   "execution_count": 11,
   "id": "ae0591f5",
   "metadata": {},
   "outputs": [
    {
     "data": {
      "text/plain": [
       "'859'"
      ]
     },
     "execution_count": 11,
     "metadata": {},
     "output_type": "execute_result"
    }
   ],
   "source": [
    "tfidf.get_feature_names_out()[1100]"
   ]
  },
  {
   "cell_type": "code",
   "execution_count": 12,
   "id": "5a8267a7",
   "metadata": {},
   "outputs": [
    {
     "data": {
      "text/plain": [
       "'anaphylactic'"
      ]
     },
     "execution_count": 12,
     "metadata": {},
     "output_type": "execute_result"
    }
   ],
   "source": [
    "tfidf.get_feature_names_out()[2837]"
   ]
  },
  {
   "cell_type": "code",
   "execution_count": 15,
   "id": "382c1d33",
   "metadata": {},
   "outputs": [
    {
     "data": {
      "text/plain": [
       "'racing'"
      ]
     },
     "execution_count": 15,
     "metadata": {},
     "output_type": "execute_result"
    }
   ],
   "source": [
    "tfidf.get_feature_names_out()[random.randint(0,54777)]"
   ]
  },
  {
   "cell_type": "code",
   "execution_count": 16,
   "id": "8d803a72",
   "metadata": {},
   "outputs": [
    {
     "data": {
      "text/plain": [
       "array([[0.0007599 , 0.26691419, 0.        , ..., 0.00266853, 0.0003554 ,\n",
       "        0.        ],\n",
       "       [0.        , 0.00066855, 0.        , ..., 0.        , 0.        ,\n",
       "        0.        ],\n",
       "       [0.        , 0.09804495, 0.        , ..., 0.        , 0.        ,\n",
       "        0.        ],\n",
       "       ...,\n",
       "       [0.        , 0.03092522, 0.        , ..., 0.        , 0.        ,\n",
       "        0.        ],\n",
       "       [0.0043057 , 0.04828948, 0.        , ..., 0.        , 0.        ,\n",
       "        0.        ],\n",
       "       [0.00444242, 0.        , 0.        , ..., 0.        , 0.        ,\n",
       "        0.        ]])"
      ]
     },
     "execution_count": 16,
     "metadata": {},
     "output_type": "execute_result"
    }
   ],
   "source": [
    "nmf.components_"
   ]
  },
  {
   "cell_type": "code",
   "execution_count": 17,
   "id": "91ce296d",
   "metadata": {},
   "outputs": [
    {
     "data": {
      "text/plain": [
       "(10, 54777)"
      ]
     },
     "execution_count": 17,
     "metadata": {},
     "output_type": "execute_result"
    }
   ],
   "source": [
    "nmf.components_.shape"
   ]
  },
  {
   "cell_type": "code",
   "execution_count": 18,
   "id": "3aca336a",
   "metadata": {},
   "outputs": [
    {
     "data": {
      "text/plain": [
       "array([0.0007599 , 0.26691419, 0.        , ..., 0.00266853, 0.0003554 ,\n",
       "       0.        ])"
      ]
     },
     "execution_count": 18,
     "metadata": {},
     "output_type": "execute_result"
    }
   ],
   "source": [
    "first_topic = nmf.components_[0]\n",
    "first_topic"
   ]
  },
  {
   "cell_type": "code",
   "execution_count": 21,
   "id": "729740db",
   "metadata": {},
   "outputs": [
    {
     "data": {
      "text/plain": [
       "array([27388, 27031, 27030, ..., 19307, 36283, 42993], dtype=int64)"
      ]
     },
     "execution_count": 21,
     "metadata": {},
     "output_type": "execute_result"
    }
   ],
   "source": [
    "first_topic.argsort()"
   ]
  },
  {
   "cell_type": "code",
   "execution_count": 23,
   "id": "978cf5c7",
   "metadata": {},
   "outputs": [
    {
     "name": "stdout",
     "output_type": "stream",
     "text": [
      "just\n",
      "company\n",
      "study\n",
      "new\n",
      "percent\n",
      "like\n",
      "water\n",
      "food\n",
      "people\n",
      "says\n"
     ]
    }
   ],
   "source": [
    "for idx in first_topic.argsort()[-10:]:\n",
    "    print(tfidf.get_feature_names_out()[idx])"
   ]
  },
  {
   "cell_type": "code",
   "execution_count": 26,
   "id": "76c7a26e",
   "metadata": {},
   "outputs": [
    {
     "name": "stdout",
     "output_type": "stream",
     "text": [
      "Top 15 words for topic #0: \n",
      "['year', 'university', 'workers', '000', 'years', 'just', 'company', 'study', 'new', 'percent', 'like', 'water', 'food', 'people', 'says']\n",
      "\n",
      "\n",
      "Top 15 words for topic #1: \n",
      "['administration', 'cruz', 'election', 'pence', 'gop', 'presidential', 'obama', 'house', 'white', 'republican', 'donald', 'campaign', 'said', 'president', 'trump']\n",
      "\n",
      "\n",
      "Top 15 words for topic #2: \n",
      "['patients', 'repeal', 'law', 'act', 'republicans', 'tax', 'people', 'plan', 'affordable', 'obamacare', 'coverage', 'medicaid', 'insurance', 'care', 'health']\n",
      "\n",
      "\n",
      "Top 15 words for topic #3: \n",
      "['assad', 'iran', 'iraq', 'north', 'china', 'aleppo', 'war', 'korea', 'said', 'forces', 'russia', 'military', 'syrian', 'syria', 'isis']\n",
      "\n",
      "\n",
      "Top 15 words for topic #4: \n",
      "['cruz', 'election', 'primary', 'democrats', 'percent', 'party', 'vote', 'state', 'delegates', 'democratic', 'hillary', 'campaign', 'voters', 'sanders', 'clinton']\n",
      "\n",
      "\n",
      "Top 15 words for topic #5: \n",
      "['book', 'love', 'women', 'way', 'time', 'life', 'album', 'song', 'people', 'really', 'know', 'think', 'just', 'like', 'music']\n",
      "\n",
      "\n",
      "Top 15 words for topic #6: \n",
      "['program', 'child', 'teacher', 'high', 'devos', 'parents', 'children', 'college', 'kids', 'teachers', 'student', 'education', 'schools', 'school', 'students']\n",
      "\n",
      "\n",
      "Top 15 words for topic #7: \n",
      "['cdc', 'babies', 'infected', 'brazil', 'outbreak', 'pregnant', 'microcephaly', 'cases', 'health', 'disease', 'mosquitoes', 'mosquito', 'women', 'virus', 'zika']\n",
      "\n",
      "\n",
      "Top 15 words for topic #8: \n",
      "['department', 'enforcement', 'killed', 'city', 'gun', 'people', 'law', 'reports', 'attack', 'shooting', 'officer', 'black', 'said', 'officers', 'police']\n",
      "\n",
      "\n",
      "Top 15 words for topic #9: \n",
      "['law', 'supreme', 'russian', 'russia', 'intelligence', 'said', 'investigation', 'committee', 'house', 'justice', 'president', 'senate', 'fbi', 'court', 'comey']\n",
      "\n",
      "\n"
     ]
    }
   ],
   "source": [
    "for idx, topic in enumerate(nmf.components_):\n",
    "    print(f\"Top 15 words for topic #{idx}: \")\n",
    "    print([tfidf.get_feature_names_out()[i] for i in topic.argsort()[-15:]])\n",
    "    print('\\n')"
   ]
  },
  {
   "cell_type": "code",
   "execution_count": 27,
   "id": "905a2c36",
   "metadata": {},
   "outputs": [
    {
     "data": {
      "text/plain": [
       "array([[0.        , 0.0995477 , 0.        , ..., 0.        , 0.        ,\n",
       "        0.07561648],\n",
       "       [0.00095702, 0.12542556, 0.        , ..., 0.        , 0.        ,\n",
       "        0.        ],\n",
       "       [0.        , 0.12830495, 0.        , ..., 0.        , 0.        ,\n",
       "        0.04176065],\n",
       "       ...,\n",
       "       [0.00787994, 0.00090828, 0.00794857, ..., 0.06561726, 0.01213194,\n",
       "        0.00221326],\n",
       "       [0.        , 0.02816833, 0.00146759, ..., 0.        , 0.        ,\n",
       "        0.04274406],\n",
       "       [0.02511506, 0.00721866, 0.00166085, ..., 0.        , 0.01079484,\n",
       "        0.00296728]])"
      ]
     },
     "execution_count": 27,
     "metadata": {},
     "output_type": "execute_result"
    }
   ],
   "source": [
    "topic_results = nmf.transform(dtm)\n",
    "topic_results"
   ]
  },
  {
   "cell_type": "code",
   "execution_count": 29,
   "id": "2a182e08",
   "metadata": {},
   "outputs": [
    {
     "data": {
      "text/plain": [
       "11992"
      ]
     },
     "execution_count": 29,
     "metadata": {},
     "output_type": "execute_result"
    }
   ],
   "source": [
    "len(topic_results.argmax(axis=1))"
   ]
  },
  {
   "cell_type": "code",
   "execution_count": 30,
   "id": "c693d25d",
   "metadata": {},
   "outputs": [
    {
     "data": {
      "text/plain": [
       "array([1, 1, 1, ..., 7, 4, 0], dtype=int64)"
      ]
     },
     "execution_count": 30,
     "metadata": {},
     "output_type": "execute_result"
    }
   ],
   "source": [
    "topic_results.argmax(axis=1)"
   ]
  },
  {
   "cell_type": "code",
   "execution_count": 31,
   "id": "4c916a28",
   "metadata": {},
   "outputs": [],
   "source": [
    "df['Topic'] = topic_results.argmax(axis=1)"
   ]
  },
  {
   "cell_type": "code",
   "execution_count": 32,
   "id": "5e977951",
   "metadata": {},
   "outputs": [],
   "source": [
    "topic_dict = {0: 'Education', 1: 'Election', 2: 'Legislation', 3: 'Terrorism', 4: 'Election', 5: 'Music', 6: 'Education', 7: 'Disease', 8: 'Terrorism', 9: 'Politics'}\n",
    "df['Topic Label'] = df['Topic'].map(topic_dict)"
   ]
  },
  {
   "cell_type": "code",
   "execution_count": 33,
   "id": "e46854a3",
   "metadata": {},
   "outputs": [
    {
     "data": {
      "text/html": [
       "<div>\n",
       "<style scoped>\n",
       "    .dataframe tbody tr th:only-of-type {\n",
       "        vertical-align: middle;\n",
       "    }\n",
       "\n",
       "    .dataframe tbody tr th {\n",
       "        vertical-align: top;\n",
       "    }\n",
       "\n",
       "    .dataframe thead th {\n",
       "        text-align: right;\n",
       "    }\n",
       "</style>\n",
       "<table border=\"1\" class=\"dataframe\">\n",
       "  <thead>\n",
       "    <tr style=\"text-align: right;\">\n",
       "      <th></th>\n",
       "      <th>Article</th>\n",
       "      <th>Topic</th>\n",
       "      <th>Topic Label</th>\n",
       "    </tr>\n",
       "  </thead>\n",
       "  <tbody>\n",
       "    <tr>\n",
       "      <th>0</th>\n",
       "      <td>In the Washington of 2016, even when the polic...</td>\n",
       "      <td>1</td>\n",
       "      <td>Election</td>\n",
       "    </tr>\n",
       "    <tr>\n",
       "      <th>1</th>\n",
       "      <td>Donald Trump has used Twitter  —   his prefe...</td>\n",
       "      <td>1</td>\n",
       "      <td>Election</td>\n",
       "    </tr>\n",
       "    <tr>\n",
       "      <th>2</th>\n",
       "      <td>Donald Trump is unabashedly praising Russian...</td>\n",
       "      <td>1</td>\n",
       "      <td>Election</td>\n",
       "    </tr>\n",
       "    <tr>\n",
       "      <th>3</th>\n",
       "      <td>Updated at 2:50 p. m. ET, Russian President Vl...</td>\n",
       "      <td>3</td>\n",
       "      <td>Terrorism</td>\n",
       "    </tr>\n",
       "    <tr>\n",
       "      <th>4</th>\n",
       "      <td>From photography, illustration and video, to d...</td>\n",
       "      <td>6</td>\n",
       "      <td>Education</td>\n",
       "    </tr>\n",
       "  </tbody>\n",
       "</table>\n",
       "</div>"
      ],
      "text/plain": [
       "                                             Article  Topic Topic Label\n",
       "0  In the Washington of 2016, even when the polic...      1    Election\n",
       "1    Donald Trump has used Twitter  —   his prefe...      1    Election\n",
       "2    Donald Trump is unabashedly praising Russian...      1    Election\n",
       "3  Updated at 2:50 p. m. ET, Russian President Vl...      3   Terrorism\n",
       "4  From photography, illustration and video, to d...      6   Education"
      ]
     },
     "execution_count": 33,
     "metadata": {},
     "output_type": "execute_result"
    }
   ],
   "source": [
    "df.head()"
   ]
  }
 ],
 "metadata": {
  "kernelspec": {
   "display_name": "Python 3 (ipykernel)",
   "language": "python",
   "name": "python3"
  },
  "language_info": {
   "codemirror_mode": {
    "name": "ipython",
    "version": 3
   },
   "file_extension": ".py",
   "mimetype": "text/x-python",
   "name": "python",
   "nbconvert_exporter": "python",
   "pygments_lexer": "ipython3",
   "version": "3.8.8"
  }
 },
 "nbformat": 4,
 "nbformat_minor": 5
}
