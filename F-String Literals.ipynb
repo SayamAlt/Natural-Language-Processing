{
 "cells": [
  {
   "cell_type": "code",
   "execution_count": 1,
   "id": "5d1d7174",
   "metadata": {},
   "outputs": [],
   "source": [
    "person = 'Sayam'"
   ]
  },
  {
   "cell_type": "code",
   "execution_count": 3,
   "id": "715fcaf3",
   "metadata": {},
   "outputs": [
    {
     "name": "stdout",
     "output_type": "stream",
     "text": [
      "My name is Sayam\n"
     ]
    }
   ],
   "source": [
    "print(f'My name is {person}')"
   ]
  },
  {
   "cell_type": "code",
   "execution_count": 4,
   "id": "51ed07d3",
   "metadata": {},
   "outputs": [],
   "source": [
    "mylist = [0,1,2]"
   ]
  },
  {
   "cell_type": "code",
   "execution_count": 5,
   "id": "38e0df9a",
   "metadata": {},
   "outputs": [],
   "source": [
    "mydict = {'a': 1, 'b': 2, 'c': 3}"
   ]
  },
  {
   "cell_type": "code",
   "execution_count": 6,
   "id": "f8f6b6bb",
   "metadata": {},
   "outputs": [
    {
     "name": "stdout",
     "output_type": "stream",
     "text": [
      "0\n"
     ]
    }
   ],
   "source": [
    "print(f\"{mylist[0]}\")"
   ]
  },
  {
   "cell_type": "code",
   "execution_count": 7,
   "id": "1927ecbf",
   "metadata": {},
   "outputs": [],
   "source": [
    "mylist = [('Vendor','Fruit','Price'),('John','Apple',60),('Matt','Orange',50),('Tom','Banana',30),('Olivia','Strawberry',70)]"
   ]
  },
  {
   "cell_type": "code",
   "execution_count": 14,
   "id": "3dbc07ba",
   "metadata": {},
   "outputs": [
    {
     "name": "stdout",
     "output_type": "stream",
     "text": [
      "Vendor     Fruit                     Price\n",
      "John       Apple                        60\n",
      "Matt       Orange                       50\n",
      "Tom        Banana                       30\n",
      "Olivia     Strawberry                   70\n"
     ]
    }
   ],
   "source": [
    "for vendor, fruit, price in mylist:\n",
    "    print(f\"{vendor:{10}} {fruit:{20}} {price:>{10}}\")"
   ]
  },
  {
   "cell_type": "code",
   "execution_count": 15,
   "id": "1a7278bf",
   "metadata": {},
   "outputs": [],
   "source": [
    "from datetime import datetime"
   ]
  },
  {
   "cell_type": "code",
   "execution_count": 16,
   "id": "d1876cf8",
   "metadata": {},
   "outputs": [],
   "source": [
    "today = datetime(year=2022,month=8,day=24,hour=17,minute=18,second=37)"
   ]
  },
  {
   "cell_type": "code",
   "execution_count": 17,
   "id": "22831c62",
   "metadata": {},
   "outputs": [
    {
     "name": "stdout",
     "output_type": "stream",
     "text": [
      "2022-08-24 17:18:37\n"
     ]
    }
   ],
   "source": [
    "print(f\"{today}\")"
   ]
  },
  {
   "cell_type": "code",
   "execution_count": 19,
   "id": "ad8ea001",
   "metadata": {},
   "outputs": [
    {
     "data": {
      "text/plain": [
       "datetime.datetime(2022, 8, 24, 17, 18, 37)"
      ]
     },
     "execution_count": 19,
     "metadata": {},
     "output_type": "execute_result"
    }
   ],
   "source": [
    "today"
   ]
  },
  {
   "cell_type": "code",
   "execution_count": 26,
   "id": "1241f335",
   "metadata": {},
   "outputs": [
    {
     "name": "stdout",
     "output_type": "stream",
     "text": [
      " August 24, 2022 17:18:37\n"
     ]
    }
   ],
   "source": [
    "print(f\"{today: %B %d, %Y}{today: %H:%M:%S}\")"
   ]
  }
 ],
 "metadata": {
  "kernelspec": {
   "display_name": "Python 3 (ipykernel)",
   "language": "python",
   "name": "python3"
  },
  "language_info": {
   "codemirror_mode": {
    "name": "ipython",
    "version": 3
   },
   "file_extension": ".py",
   "mimetype": "text/x-python",
   "name": "python",
   "nbconvert_exporter": "python",
   "pygments_lexer": "ipython3",
   "version": "3.8.8"
  }
 },
 "nbformat": 4,
 "nbformat_minor": 5
}
