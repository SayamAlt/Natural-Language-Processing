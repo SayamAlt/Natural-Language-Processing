{
 "cells": [
  {
   "cell_type": "code",
   "execution_count": 108,
   "id": "556736cb",
   "metadata": {},
   "outputs": [],
   "source": [
    "import numpy as np\n",
    "from pickle import load\n",
    "from keras.preprocessing.text import Tokenizer\n",
    "from keras.utils import pad_sequences\n",
    "from keras.layers import Activation, Dense, Dropout, Embedding, add, concatenate, Permute, dot, Input, LSTM\n",
    "from keras.models import Sequential, Model\n",
    "from keras.callbacks import ReduceLROnPlateau, ModelCheckpoint\n",
    "import matplotlib.pyplot as plt"
   ]
  },
  {
   "cell_type": "code",
   "execution_count": 2,
   "id": "ab761519",
   "metadata": {},
   "outputs": [],
   "source": [
    "with open('train_qa.txt','rb') as f:\n",
    "    train_data = load(f)"
   ]
  },
  {
   "cell_type": "code",
   "execution_count": 4,
   "id": "939f4ade",
   "metadata": {},
   "outputs": [
    {
     "data": {
      "text/plain": [
       "10000"
      ]
     },
     "execution_count": 4,
     "metadata": {},
     "output_type": "execute_result"
    }
   ],
   "source": [
    "len(train_data)"
   ]
  },
  {
   "cell_type": "code",
   "execution_count": 5,
   "id": "c2290485",
   "metadata": {},
   "outputs": [],
   "source": [
    "with open('test_qa.txt','rb') as f:\n",
    "    test_data = load(f)"
   ]
  },
  {
   "cell_type": "code",
   "execution_count": 6,
   "id": "0a77f8de",
   "metadata": {},
   "outputs": [
    {
     "data": {
      "text/plain": [
       "1000"
      ]
     },
     "execution_count": 6,
     "metadata": {},
     "output_type": "execute_result"
    }
   ],
   "source": [
    "len(test_data)"
   ]
  },
  {
   "cell_type": "code",
   "execution_count": 9,
   "id": "f8185964",
   "metadata": {},
   "outputs": [],
   "source": [
    "story, question, answer = train_data[0]"
   ]
  },
  {
   "cell_type": "code",
   "execution_count": 11,
   "id": "cbba9407",
   "metadata": {},
   "outputs": [
    {
     "data": {
      "text/plain": [
       "'Mary moved to the bathroom . Sandra journeyed to the bedroom .'"
      ]
     },
     "execution_count": 11,
     "metadata": {},
     "output_type": "execute_result"
    }
   ],
   "source": [
    "' '.join(story)"
   ]
  },
  {
   "cell_type": "code",
   "execution_count": 12,
   "id": "8372fcea",
   "metadata": {},
   "outputs": [
    {
     "data": {
      "text/plain": [
       "'Is Sandra in the hallway ?'"
      ]
     },
     "execution_count": 12,
     "metadata": {},
     "output_type": "execute_result"
    }
   ],
   "source": [
    "' '.join(question)"
   ]
  },
  {
   "cell_type": "code",
   "execution_count": 13,
   "id": "d8ba2abb",
   "metadata": {},
   "outputs": [
    {
     "data": {
      "text/plain": [
       "'n o'"
      ]
     },
     "execution_count": 13,
     "metadata": {},
     "output_type": "execute_result"
    }
   ],
   "source": [
    "' '.join(answer)"
   ]
  },
  {
   "cell_type": "code",
   "execution_count": 14,
   "id": "b37088cb",
   "metadata": {},
   "outputs": [
    {
     "data": {
      "text/plain": [
       "11000"
      ]
     },
     "execution_count": 14,
     "metadata": {},
     "output_type": "execute_result"
    }
   ],
   "source": [
    "all_data = train_data + test_data\n",
    "len(all_data)"
   ]
  },
  {
   "cell_type": "code",
   "execution_count": 16,
   "id": "bb386f7b",
   "metadata": {},
   "outputs": [],
   "source": [
    "vocab = set()\n",
    "\n",
    "for tup in all_data:\n",
    "    vocab = vocab.union(tup[0])\n",
    "    vocab = vocab.union(tup[1])"
   ]
  },
  {
   "cell_type": "code",
   "execution_count": 17,
   "id": "fcff1d29",
   "metadata": {},
   "outputs": [],
   "source": [
    "vocab.add('yes')"
   ]
  },
  {
   "cell_type": "code",
   "execution_count": 18,
   "id": "bb8705f6",
   "metadata": {},
   "outputs": [],
   "source": [
    "vocab.add('no')"
   ]
  },
  {
   "cell_type": "code",
   "execution_count": 19,
   "id": "1c05668d",
   "metadata": {},
   "outputs": [
    {
     "data": {
      "text/plain": [
       "{'.',\n",
       " '?',\n",
       " 'Daniel',\n",
       " 'Is',\n",
       " 'John',\n",
       " 'Mary',\n",
       " 'Sandra',\n",
       " 'apple',\n",
       " 'back',\n",
       " 'bathroom',\n",
       " 'bedroom',\n",
       " 'discarded',\n",
       " 'down',\n",
       " 'dropped',\n",
       " 'football',\n",
       " 'garden',\n",
       " 'got',\n",
       " 'grabbed',\n",
       " 'hallway',\n",
       " 'in',\n",
       " 'journeyed',\n",
       " 'kitchen',\n",
       " 'left',\n",
       " 'milk',\n",
       " 'moved',\n",
       " 'no',\n",
       " 'office',\n",
       " 'picked',\n",
       " 'put',\n",
       " 'the',\n",
       " 'there',\n",
       " 'to',\n",
       " 'took',\n",
       " 'travelled',\n",
       " 'up',\n",
       " 'went',\n",
       " 'yes'}"
      ]
     },
     "execution_count": 19,
     "metadata": {},
     "output_type": "execute_result"
    }
   ],
   "source": [
    "vocab"
   ]
  },
  {
   "cell_type": "code",
   "execution_count": 20,
   "id": "52c23cb5",
   "metadata": {},
   "outputs": [
    {
     "data": {
      "text/plain": [
       "37"
      ]
     },
     "execution_count": 20,
     "metadata": {},
     "output_type": "execute_result"
    }
   ],
   "source": [
    "len(vocab)"
   ]
  },
  {
   "cell_type": "code",
   "execution_count": 21,
   "id": "80aae6f3",
   "metadata": {},
   "outputs": [],
   "source": [
    "vocab_size = len(vocab) + 1"
   ]
  },
  {
   "cell_type": "code",
   "execution_count": 23,
   "id": "f12724fa",
   "metadata": {},
   "outputs": [],
   "source": [
    "story_lengths = [len(data[0]) for data in all_data]"
   ]
  },
  {
   "cell_type": "code",
   "execution_count": 44,
   "id": "fc9bb47b",
   "metadata": {},
   "outputs": [
    {
     "data": {
      "text/plain": [
       "156"
      ]
     },
     "execution_count": 44,
     "metadata": {},
     "output_type": "execute_result"
    }
   ],
   "source": [
    "max_story_len = max(story_lengths)\n",
    "max_story_len"
   ]
  },
  {
   "cell_type": "code",
   "execution_count": 26,
   "id": "f257a921",
   "metadata": {},
   "outputs": [],
   "source": [
    "question_lengths = [len(data[1]) for data in all_data]"
   ]
  },
  {
   "cell_type": "code",
   "execution_count": 45,
   "id": "fcb28e96",
   "metadata": {},
   "outputs": [
    {
     "data": {
      "text/plain": [
       "6"
      ]
     },
     "execution_count": 45,
     "metadata": {},
     "output_type": "execute_result"
    }
   ],
   "source": [
    "max_ques_len = max(question_lengths)\n",
    "max_ques_len"
   ]
  },
  {
   "cell_type": "code",
   "execution_count": 29,
   "id": "abad08dd",
   "metadata": {},
   "outputs": [],
   "source": [
    "tokenizer = Tokenizer(filters=[])\n",
    "tokenizer.fit_on_texts(vocab)"
   ]
  },
  {
   "cell_type": "code",
   "execution_count": 30,
   "id": "b8ae9a8e",
   "metadata": {},
   "outputs": [
    {
     "data": {
      "text/plain": [
       "OrderedDict([('apple', 1),\n",
       "             ('in', 1),\n",
       "             ('no', 1),\n",
       "             ('took', 1),\n",
       "             ('down', 1),\n",
       "             ('?', 1),\n",
       "             ('yes', 1),\n",
       "             ('hallway', 1),\n",
       "             ('picked', 1),\n",
       "             ('moved', 1),\n",
       "             ('is', 1),\n",
       "             ('john', 1),\n",
       "             ('football', 1),\n",
       "             ('put', 1),\n",
       "             ('office', 1),\n",
       "             ('to', 1),\n",
       "             ('journeyed', 1),\n",
       "             ('.', 1),\n",
       "             ('bedroom', 1),\n",
       "             ('went', 1),\n",
       "             ('dropped', 1),\n",
       "             ('garden', 1),\n",
       "             ('grabbed', 1),\n",
       "             ('left', 1),\n",
       "             ('bathroom', 1),\n",
       "             ('got', 1),\n",
       "             ('mary', 1),\n",
       "             ('travelled', 1),\n",
       "             ('daniel', 1),\n",
       "             ('kitchen', 1),\n",
       "             ('discarded', 1),\n",
       "             ('up', 1),\n",
       "             ('milk', 1),\n",
       "             ('sandra', 1),\n",
       "             ('back', 1),\n",
       "             ('the', 1),\n",
       "             ('there', 1)])"
      ]
     },
     "execution_count": 30,
     "metadata": {},
     "output_type": "execute_result"
    }
   ],
   "source": [
    "tokenizer.word_counts"
   ]
  },
  {
   "cell_type": "code",
   "execution_count": 31,
   "id": "03b97743",
   "metadata": {},
   "outputs": [
    {
     "data": {
      "text/plain": [
       "{'apple': 1,\n",
       " 'in': 2,\n",
       " 'no': 3,\n",
       " 'took': 4,\n",
       " 'down': 5,\n",
       " '?': 6,\n",
       " 'yes': 7,\n",
       " 'hallway': 8,\n",
       " 'picked': 9,\n",
       " 'moved': 10,\n",
       " 'is': 11,\n",
       " 'john': 12,\n",
       " 'football': 13,\n",
       " 'put': 14,\n",
       " 'office': 15,\n",
       " 'to': 16,\n",
       " 'journeyed': 17,\n",
       " '.': 18,\n",
       " 'bedroom': 19,\n",
       " 'went': 20,\n",
       " 'dropped': 21,\n",
       " 'garden': 22,\n",
       " 'grabbed': 23,\n",
       " 'left': 24,\n",
       " 'bathroom': 25,\n",
       " 'got': 26,\n",
       " 'mary': 27,\n",
       " 'travelled': 28,\n",
       " 'daniel': 29,\n",
       " 'kitchen': 30,\n",
       " 'discarded': 31,\n",
       " 'up': 32,\n",
       " 'milk': 33,\n",
       " 'sandra': 34,\n",
       " 'back': 35,\n",
       " 'the': 36,\n",
       " 'there': 37}"
      ]
     },
     "execution_count": 31,
     "metadata": {},
     "output_type": "execute_result"
    }
   ],
   "source": [
    "tokenizer.word_index"
   ]
  },
  {
   "cell_type": "code",
   "execution_count": 32,
   "id": "815ea676",
   "metadata": {},
   "outputs": [
    {
     "data": {
      "text/plain": [
       "{1: 'apple',\n",
       " 2: 'in',\n",
       " 3: 'no',\n",
       " 4: 'took',\n",
       " 5: 'down',\n",
       " 6: '?',\n",
       " 7: 'yes',\n",
       " 8: 'hallway',\n",
       " 9: 'picked',\n",
       " 10: 'moved',\n",
       " 11: 'is',\n",
       " 12: 'john',\n",
       " 13: 'football',\n",
       " 14: 'put',\n",
       " 15: 'office',\n",
       " 16: 'to',\n",
       " 17: 'journeyed',\n",
       " 18: '.',\n",
       " 19: 'bedroom',\n",
       " 20: 'went',\n",
       " 21: 'dropped',\n",
       " 22: 'garden',\n",
       " 23: 'grabbed',\n",
       " 24: 'left',\n",
       " 25: 'bathroom',\n",
       " 26: 'got',\n",
       " 27: 'mary',\n",
       " 28: 'travelled',\n",
       " 29: 'daniel',\n",
       " 30: 'kitchen',\n",
       " 31: 'discarded',\n",
       " 32: 'up',\n",
       " 33: 'milk',\n",
       " 34: 'sandra',\n",
       " 35: 'back',\n",
       " 36: 'the',\n",
       " 37: 'there'}"
      ]
     },
     "execution_count": 32,
     "metadata": {},
     "output_type": "execute_result"
    }
   ],
   "source": [
    "tokenizer.index_word"
   ]
  },
  {
   "cell_type": "code",
   "execution_count": 40,
   "id": "6ae052e7",
   "metadata": {},
   "outputs": [],
   "source": [
    "train_stories = []\n",
    "train_questions = []\n",
    "train_answers = []\n",
    "\n",
    "for story, ques, ans in train_data:\n",
    "    train_stories.append(story)\n",
    "    train_questions.append(ques)\n",
    "    train_answers.append(ans)"
   ]
  },
  {
   "cell_type": "code",
   "execution_count": 41,
   "id": "6076b913",
   "metadata": {},
   "outputs": [
    {
     "data": {
      "text/plain": [
       "'Mary moved to the bathroom . Sandra journeyed to the bedroom . Mary went back to the bedroom . Daniel went back to the hallway . Sandra went to the kitchen . Daniel went back to the bathroom . Daniel picked up the football there . Daniel went to the bedroom . John travelled to the office . Sandra went to the garden .'"
      ]
     },
     "execution_count": 41,
     "metadata": {},
     "output_type": "execute_result"
    }
   ],
   "source": [
    "' '.join(train_stories[4])"
   ]
  },
  {
   "cell_type": "code",
   "execution_count": 42,
   "id": "515e55e6",
   "metadata": {},
   "outputs": [],
   "source": [
    "train_story_seq = tokenizer.texts_to_sequences(train_stories)"
   ]
  },
  {
   "cell_type": "code",
   "execution_count": 43,
   "id": "ca647484",
   "metadata": {},
   "outputs": [
    {
     "data": {
      "text/plain": [
       "10000"
      ]
     },
     "execution_count": 43,
     "metadata": {},
     "output_type": "execute_result"
    }
   ],
   "source": [
    "len(train_story_seq)"
   ]
  },
  {
   "cell_type": "markdown",
   "id": "75caadff",
   "metadata": {},
   "source": [
    "## Text Preprocessing"
   ]
  },
  {
   "cell_type": "code",
   "execution_count": 52,
   "id": "1378f2bb",
   "metadata": {},
   "outputs": [],
   "source": [
    "def vectorize_data(data,word_index=tokenizer.word_index,max_story_len=max_story_len,max_ques_len=max_ques_len):\n",
    "    # For stories\n",
    "    X = []\n",
    "    # For questions\n",
    "    Q = []\n",
    "    # For answers\n",
    "    Y = []\n",
    "    \n",
    "    for story, query, answer in data:\n",
    "        x = [word_index[word.lower()] for word in story]\n",
    "        q = [word_index[word.lower()] for word in query]\n",
    "        y = np.zeros(len(word_index) + 1)\n",
    "        y[word_index[answer]] = 1\n",
    "        X.append(x)\n",
    "        Q.append(q)\n",
    "        Y.append(y)\n",
    "    \n",
    "    return (pad_sequences(X,maxlen=max_story_len), pad_sequences(Q,maxlen=max_ques_len), np.array(Y))"
   ]
  },
  {
   "cell_type": "code",
   "execution_count": 53,
   "id": "be148d0d",
   "metadata": {},
   "outputs": [],
   "source": [
    "train_story_seq, train_query_seq, train_ans_seq = vectorize_data(train_data)"
   ]
  },
  {
   "cell_type": "code",
   "execution_count": 54,
   "id": "8159ee67",
   "metadata": {},
   "outputs": [],
   "source": [
    "test_story_seq, test_query_seq, test_ans_seq = vectorize_data(test_data)"
   ]
  },
  {
   "cell_type": "code",
   "execution_count": 56,
   "id": "fe33133b",
   "metadata": {},
   "outputs": [
    {
     "data": {
      "text/plain": [
       "7"
      ]
     },
     "execution_count": 56,
     "metadata": {},
     "output_type": "execute_result"
    }
   ],
   "source": [
    "tokenizer.word_index['yes']"
   ]
  },
  {
   "cell_type": "code",
   "execution_count": 57,
   "id": "3b6807dc",
   "metadata": {},
   "outputs": [
    {
     "data": {
      "text/plain": [
       "3"
      ]
     },
     "execution_count": 57,
     "metadata": {},
     "output_type": "execute_result"
    }
   ],
   "source": [
    "tokenizer.word_index['no']"
   ]
  },
  {
   "cell_type": "code",
   "execution_count": 58,
   "id": "4f336e96",
   "metadata": {},
   "outputs": [
    {
     "data": {
      "text/plain": [
       "array([  0.,   0.,   0., 503.,   0.,   0.,   0., 497.,   0.,   0.,   0.,\n",
       "         0.,   0.,   0.,   0.,   0.,   0.,   0.,   0.,   0.,   0.,   0.,\n",
       "         0.,   0.,   0.,   0.,   0.,   0.,   0.,   0.,   0.,   0.,   0.,\n",
       "         0.,   0.,   0.,   0.,   0.])"
      ]
     },
     "execution_count": 58,
     "metadata": {},
     "output_type": "execute_result"
    }
   ],
   "source": [
    "sum(test_ans_seq)"
   ]
  },
  {
   "cell_type": "code",
   "execution_count": 85,
   "id": "72096377",
   "metadata": {},
   "outputs": [],
   "source": [
    "# INPUT PLACEHOLDERS: (max_length,batch_size) --> batch size is initially unknown so its left empty\n",
    "input_sequences = Input((max_story_len,))\n",
    "questions = Input((max_ques_len,))"
   ]
  },
  {
   "cell_type": "code",
   "execution_count": 86,
   "id": "bf5ab4fe",
   "metadata": {},
   "outputs": [],
   "source": [
    "# INPUT ENCODER M\n",
    "# Returns (samples,story_len,embedding_dim)\n",
    "input_encoder_m = Sequential()\n",
    "input_encoder_m.add(Embedding(input_dim=vocab_size,output_dim=64))\n",
    "input_encoder_m.add(Dropout(0.25))"
   ]
  },
  {
   "cell_type": "code",
   "execution_count": 87,
   "id": "a58ff1e1",
   "metadata": {},
   "outputs": [],
   "source": [
    "# INPUT ENCODER C\n",
    "#Returns (samples,story_len,max_question_len)\n",
    "input_encoder_c = Sequential()\n",
    "input_encoder_c.add(Embedding(input_dim=vocab_size,output_dim=max_ques_len))\n",
    "input_encoder_c.add(Dropout(0.25))"
   ]
  },
  {
   "cell_type": "code",
   "execution_count": 88,
   "id": "5251b9a8",
   "metadata": {},
   "outputs": [],
   "source": [
    "# QUESTION ENCODER\n",
    "# Returns (samples,embedding_dim,max_question_len)\n",
    "question_encoder = Sequential()\n",
    "question_encoder.add(Embedding(input_dim=vocab_size,output_dim=64,input_length=max_ques_len))\n",
    "question_encoder.add(Dropout(0.25))"
   ]
  },
  {
   "cell_type": "code",
   "execution_count": 89,
   "id": "0eb215ff",
   "metadata": {},
   "outputs": [],
   "source": [
    "# ENCODER(INPUT) --> ENCODED\n",
    "input_encoded_m = input_encoder_m(input_sequences)\n",
    "input_encoded_c = input_encoder_c(input_sequences)\n",
    "question_encoded = question_encoder(questions)"
   ]
  },
  {
   "cell_type": "code",
   "execution_count": 90,
   "id": "d44ac509",
   "metadata": {},
   "outputs": [],
   "source": [
    "match = dot([input_encoded_m,question_encoded],axes=(2,2))\n",
    "match = Activation('softmax')(match)"
   ]
  },
  {
   "cell_type": "code",
   "execution_count": 91,
   "id": "71c74017",
   "metadata": {},
   "outputs": [],
   "source": [
    "# Response o\n",
    "response = add([match,input_encoded_c])\n",
    "response = Permute((2,1))(response)"
   ]
  },
  {
   "cell_type": "code",
   "execution_count": 92,
   "id": "6e87af21",
   "metadata": {},
   "outputs": [
    {
     "data": {
      "text/plain": [
       "<KerasTensor: shape=(None, 6, 220) dtype=float32 (created by layer 'concatenate_1')>"
      ]
     },
     "execution_count": 92,
     "metadata": {},
     "output_type": "execute_result"
    }
   ],
   "source": [
    "res = concatenate([response,question_encoded])\n",
    "res"
   ]
  },
  {
   "cell_type": "code",
   "execution_count": 94,
   "id": "52495789",
   "metadata": {},
   "outputs": [],
   "source": [
    "res = LSTM(50)(res)\n",
    "res = Dropout(0.3)(res)"
   ]
  },
  {
   "cell_type": "code",
   "execution_count": 95,
   "id": "afc4a1b8",
   "metadata": {},
   "outputs": [],
   "source": [
    "res = Dense(vocab_size)(res) # (vocab_size) -> YES/NO 000000 \n",
    "res = Activation('softmax')(res) "
   ]
  },
  {
   "cell_type": "code",
   "execution_count": 96,
   "id": "a03a4833",
   "metadata": {},
   "outputs": [],
   "source": [
    "model = Model([input_sequences,questions],res)"
   ]
  },
  {
   "cell_type": "code",
   "execution_count": 97,
   "id": "cbf93710",
   "metadata": {},
   "outputs": [],
   "source": [
    "model.compile(loss='categorical_crossentropy',optimizer='rmsprop',metrics='accuracy')"
   ]
  },
  {
   "cell_type": "code",
   "execution_count": 98,
   "id": "44b63cc7",
   "metadata": {},
   "outputs": [
    {
     "name": "stdout",
     "output_type": "stream",
     "text": [
      "Model: \"model\"\n",
      "__________________________________________________________________________________________________\n",
      " Layer (type)                   Output Shape         Param #     Connected to                     \n",
      "==================================================================================================\n",
      " input_9 (InputLayer)           [(None, 156)]        0           []                               \n",
      "                                                                                                  \n",
      " input_10 (InputLayer)          [(None, 6)]          0           []                               \n",
      "                                                                                                  \n",
      " sequential_6 (Sequential)      (None, None, 64)     2432        ['input_9[0][0]']                \n",
      "                                                                                                  \n",
      " sequential_8 (Sequential)      (None, 6, 64)        2432        ['input_10[0][0]']               \n",
      "                                                                                                  \n",
      " dot_1 (Dot)                    (None, 156, 6)       0           ['sequential_6[0][0]',           \n",
      "                                                                  'sequential_8[0][0]']           \n",
      "                                                                                                  \n",
      " activation_2 (Activation)      (None, 156, 6)       0           ['dot_1[0][0]']                  \n",
      "                                                                                                  \n",
      " sequential_7 (Sequential)      (None, None, 6)      228         ['input_9[0][0]']                \n",
      "                                                                                                  \n",
      " add_1 (Add)                    (None, 156, 6)       0           ['activation_2[0][0]',           \n",
      "                                                                  'sequential_7[0][0]']           \n",
      "                                                                                                  \n",
      " permute_1 (Permute)            (None, 6, 156)       0           ['add_1[0][0]']                  \n",
      "                                                                                                  \n",
      " concatenate_1 (Concatenate)    (None, 6, 220)       0           ['permute_1[0][0]',              \n",
      "                                                                  'sequential_8[0][0]']           \n",
      "                                                                                                  \n",
      " lstm_2 (LSTM)                  (None, 50)           54200       ['concatenate_1[0][0]']          \n",
      "                                                                                                  \n",
      " dropout_10 (Dropout)           (None, 50)           0           ['lstm_2[0][0]']                 \n",
      "                                                                                                  \n",
      " dense_1 (Dense)                (None, 38)           1938        ['dropout_10[0][0]']             \n",
      "                                                                                                  \n",
      " activation_3 (Activation)      (None, 38)           0           ['dense_1[0][0]']                \n",
      "                                                                                                  \n",
      "==================================================================================================\n",
      "Total params: 61,230\n",
      "Trainable params: 61,230\n",
      "Non-trainable params: 0\n",
      "__________________________________________________________________________________________________\n"
     ]
    }
   ],
   "source": [
    "model.summary()"
   ]
  },
  {
   "cell_type": "code",
   "execution_count": 107,
   "id": "76679b8e",
   "metadata": {},
   "outputs": [
    {
     "name": "stdout",
     "output_type": "stream",
     "text": [
      "Epoch 1/100\n",
      "313/313 [==============================] - ETA: 0s - loss: 0.2827 - accuracy: 0.8807\n",
      "Epoch 1: val_accuracy improved from -inf to 0.82900, saving model to checkpoint\\\n"
     ]
    },
    {
     "name": "stderr",
     "output_type": "stream",
     "text": [
      "WARNING:absl:Found untraced functions such as lstm_cell_2_layer_call_fn, lstm_cell_2_layer_call_and_return_conditional_losses while saving (showing 2 of 2). These functions will not be directly callable after loading.\n"
     ]
    },
    {
     "name": "stdout",
     "output_type": "stream",
     "text": [
      "INFO:tensorflow:Assets written to: checkpoint\\assets\n"
     ]
    },
    {
     "name": "stderr",
     "output_type": "stream",
     "text": [
      "INFO:tensorflow:Assets written to: checkpoint\\assets\n"
     ]
    },
    {
     "name": "stdout",
     "output_type": "stream",
     "text": [
      "313/313 [==============================] - 9s 28ms/step - loss: 0.2827 - accuracy: 0.8807 - val_loss: 0.3952 - val_accuracy: 0.8290 - lr: 0.0010\n",
      "Epoch 2/100\n",
      "313/313 [==============================] - ETA: 0s - loss: 0.2786 - accuracy: 0.8815\n",
      "Epoch 2: val_accuracy did not improve from 0.82900\n",
      "313/313 [==============================] - 4s 13ms/step - loss: 0.2786 - accuracy: 0.8815 - val_loss: 0.4090 - val_accuracy: 0.8240 - lr: 0.0010\n",
      "Epoch 3/100\n",
      "310/313 [============================>.] - ETA: 0s - loss: 0.2795 - accuracy: 0.8781\n",
      "Epoch 3: val_accuracy improved from 0.82900 to 0.83300, saving model to checkpoint\\\n"
     ]
    },
    {
     "name": "stderr",
     "output_type": "stream",
     "text": [
      "WARNING:absl:Found untraced functions such as lstm_cell_2_layer_call_fn, lstm_cell_2_layer_call_and_return_conditional_losses while saving (showing 2 of 2). These functions will not be directly callable after loading.\n"
     ]
    },
    {
     "name": "stdout",
     "output_type": "stream",
     "text": [
      "INFO:tensorflow:Assets written to: checkpoint\\assets\n"
     ]
    },
    {
     "name": "stderr",
     "output_type": "stream",
     "text": [
      "INFO:tensorflow:Assets written to: checkpoint\\assets\n"
     ]
    },
    {
     "name": "stdout",
     "output_type": "stream",
     "text": [
      "313/313 [==============================] - 8s 25ms/step - loss: 0.2802 - accuracy: 0.8777 - val_loss: 0.3935 - val_accuracy: 0.8330 - lr: 0.0010\n",
      "Epoch 4/100\n",
      "313/313 [==============================] - ETA: 0s - loss: 0.2799 - accuracy: 0.8812\n",
      "Epoch 4: val_accuracy improved from 0.83300 to 0.83400, saving model to checkpoint\\\n"
     ]
    },
    {
     "name": "stderr",
     "output_type": "stream",
     "text": [
      "WARNING:absl:Found untraced functions such as lstm_cell_2_layer_call_fn, lstm_cell_2_layer_call_and_return_conditional_losses while saving (showing 2 of 2). These functions will not be directly callable after loading.\n"
     ]
    },
    {
     "name": "stdout",
     "output_type": "stream",
     "text": [
      "INFO:tensorflow:Assets written to: checkpoint\\assets\n"
     ]
    },
    {
     "name": "stderr",
     "output_type": "stream",
     "text": [
      "INFO:tensorflow:Assets written to: checkpoint\\assets\n"
     ]
    },
    {
     "name": "stdout",
     "output_type": "stream",
     "text": [
      "313/313 [==============================] - 9s 28ms/step - loss: 0.2799 - accuracy: 0.8812 - val_loss: 0.4070 - val_accuracy: 0.8340 - lr: 0.0010\n",
      "Epoch 5/100\n",
      "311/313 [============================>.] - ETA: 0s - loss: 0.2707 - accuracy: 0.8842\n",
      "Epoch 5: val_accuracy did not improve from 0.83400\n",
      "313/313 [==============================] - 4s 14ms/step - loss: 0.2704 - accuracy: 0.8843 - val_loss: 0.4042 - val_accuracy: 0.8300 - lr: 0.0010\n",
      "Epoch 6/100\n",
      "311/313 [============================>.] - ETA: 0s - loss: 0.2696 - accuracy: 0.8829\n",
      "Epoch 6: val_accuracy improved from 0.83400 to 0.84000, saving model to checkpoint\\\n"
     ]
    },
    {
     "name": "stderr",
     "output_type": "stream",
     "text": [
      "WARNING:absl:Found untraced functions such as lstm_cell_2_layer_call_fn, lstm_cell_2_layer_call_and_return_conditional_losses while saving (showing 2 of 2). These functions will not be directly callable after loading.\n"
     ]
    },
    {
     "name": "stdout",
     "output_type": "stream",
     "text": [
      "INFO:tensorflow:Assets written to: checkpoint\\assets\n"
     ]
    },
    {
     "name": "stderr",
     "output_type": "stream",
     "text": [
      "INFO:tensorflow:Assets written to: checkpoint\\assets\n"
     ]
    },
    {
     "name": "stdout",
     "output_type": "stream",
     "text": [
      "313/313 [==============================] - 9s 28ms/step - loss: 0.2695 - accuracy: 0.8828 - val_loss: 0.3975 - val_accuracy: 0.8400 - lr: 0.0010\n",
      "Epoch 7/100\n",
      "311/313 [============================>.] - ETA: 0s - loss: 0.2597 - accuracy: 0.8877\n",
      "Epoch 7: val_accuracy did not improve from 0.84000\n",
      "313/313 [==============================] - 5s 15ms/step - loss: 0.2599 - accuracy: 0.8875 - val_loss: 0.4132 - val_accuracy: 0.8390 - lr: 0.0010\n",
      "Epoch 8/100\n",
      "310/313 [============================>.] - ETA: 0s - loss: 0.2622 - accuracy: 0.8869\n",
      "Epoch 8: val_accuracy did not improve from 0.84000\n",
      "313/313 [==============================] - 6s 18ms/step - loss: 0.2634 - accuracy: 0.8864 - val_loss: 0.4167 - val_accuracy: 0.8160 - lr: 0.0010\n",
      "Epoch 9/100\n",
      "312/313 [============================>.] - ETA: 0s - loss: 0.2626 - accuracy: 0.8872\n",
      "Epoch 9: val_accuracy did not improve from 0.84000\n",
      "313/313 [==============================] - 6s 18ms/step - loss: 0.2623 - accuracy: 0.8874 - val_loss: 0.3887 - val_accuracy: 0.8370 - lr: 0.0010\n",
      "Epoch 10/100\n",
      "313/313 [==============================] - ETA: 0s - loss: 0.2544 - accuracy: 0.8911\n",
      "Epoch 10: val_accuracy did not improve from 0.84000\n",
      "313/313 [==============================] - 6s 18ms/step - loss: 0.2544 - accuracy: 0.8911 - val_loss: 0.4083 - val_accuracy: 0.8370 - lr: 0.0010\n",
      "Epoch 11/100\n",
      "311/313 [============================>.] - ETA: 0s - loss: 0.2540 - accuracy: 0.8914\n",
      "Epoch 11: val_accuracy did not improve from 0.84000\n",
      "313/313 [==============================] - 7s 22ms/step - loss: 0.2546 - accuracy: 0.8911 - val_loss: 0.3967 - val_accuracy: 0.8240 - lr: 0.0010\n",
      "Epoch 12/100\n",
      "311/313 [============================>.] - ETA: 0s - loss: 0.2516 - accuracy: 0.8947\n",
      "Epoch 12: val_accuracy did not improve from 0.84000\n",
      "313/313 [==============================] - 5s 18ms/step - loss: 0.2513 - accuracy: 0.8949 - val_loss: 0.4002 - val_accuracy: 0.8340 - lr: 0.0010\n",
      "Epoch 13/100\n",
      "310/313 [============================>.] - ETA: 0s - loss: 0.2528 - accuracy: 0.8906\n",
      "Epoch 13: val_accuracy did not improve from 0.84000\n",
      "313/313 [==============================] - 5s 15ms/step - loss: 0.2524 - accuracy: 0.8908 - val_loss: 0.4225 - val_accuracy: 0.8330 - lr: 0.0010\n",
      "Epoch 14/100\n",
      "313/313 [==============================] - ETA: 0s - loss: 0.2449 - accuracy: 0.8958\n",
      "Epoch 14: val_accuracy did not improve from 0.84000\n",
      "313/313 [==============================] - 5s 15ms/step - loss: 0.2449 - accuracy: 0.8958 - val_loss: 0.4227 - val_accuracy: 0.8380 - lr: 0.0010\n",
      "Epoch 15/100\n",
      "313/313 [==============================] - ETA: 0s - loss: 0.2416 - accuracy: 0.8949\n",
      "Epoch 15: val_accuracy did not improve from 0.84000\n",
      "313/313 [==============================] - 5s 16ms/step - loss: 0.2416 - accuracy: 0.8949 - val_loss: 0.4333 - val_accuracy: 0.8290 - lr: 0.0010\n",
      "Epoch 16/100\n",
      "312/313 [============================>.] - ETA: 0s - loss: 0.2516 - accuracy: 0.8933\n",
      "Epoch 16: val_accuracy did not improve from 0.84000\n",
      "313/313 [==============================] - 5s 16ms/step - loss: 0.2513 - accuracy: 0.8935 - val_loss: 0.4167 - val_accuracy: 0.8340 - lr: 0.0010\n",
      "Epoch 17/100\n",
      "312/313 [============================>.] - ETA: 0s - loss: 0.2428 - accuracy: 0.8947\n",
      "Epoch 17: val_accuracy did not improve from 0.84000\n",
      "313/313 [==============================] - 5s 16ms/step - loss: 0.2428 - accuracy: 0.8946 - val_loss: 0.4031 - val_accuracy: 0.8340 - lr: 0.0010\n",
      "Epoch 18/100\n",
      "312/313 [============================>.] - ETA: 0s - loss: 0.2320 - accuracy: 0.9024\n",
      "Epoch 18: val_accuracy did not improve from 0.84000\n",
      "313/313 [==============================] - 5s 16ms/step - loss: 0.2318 - accuracy: 0.9026 - val_loss: 0.4457 - val_accuracy: 0.8320 - lr: 0.0010\n",
      "Epoch 19/100\n",
      "310/313 [============================>.] - ETA: 0s - loss: 0.2325 - accuracy: 0.9019\n",
      "Epoch 19: val_accuracy did not improve from 0.84000\n",
      "313/313 [==============================] - 5s 16ms/step - loss: 0.2326 - accuracy: 0.9018 - val_loss: 0.4414 - val_accuracy: 0.8360 - lr: 0.0010\n",
      "Epoch 20/100\n",
      "312/313 [============================>.] - ETA: 0s - loss: 0.2287 - accuracy: 0.9007\n",
      "Epoch 20: val_accuracy did not improve from 0.84000\n",
      "313/313 [==============================] - 5s 15ms/step - loss: 0.2286 - accuracy: 0.9008 - val_loss: 0.4475 - val_accuracy: 0.8330 - lr: 0.0010\n",
      "Epoch 21/100\n",
      "310/313 [============================>.] - ETA: 0s - loss: 0.2290 - accuracy: 0.9024\n",
      "Epoch 21: val_accuracy did not improve from 0.84000\n",
      "313/313 [==============================] - 5s 15ms/step - loss: 0.2292 - accuracy: 0.9023 - val_loss: 0.4420 - val_accuracy: 0.8300 - lr: 0.0010\n",
      "Epoch 22/100\n",
      "312/313 [============================>.] - ETA: 0s - loss: 0.2228 - accuracy: 0.9060\n",
      "Epoch 22: val_accuracy did not improve from 0.84000\n",
      "313/313 [==============================] - 5s 16ms/step - loss: 0.2229 - accuracy: 0.9059 - val_loss: 0.4378 - val_accuracy: 0.8240 - lr: 0.0010\n",
      "Epoch 23/100\n",
      "313/313 [==============================] - ETA: 0s - loss: 0.2244 - accuracy: 0.9083\n",
      "Epoch 23: val_accuracy did not improve from 0.84000\n",
      "313/313 [==============================] - 5s 15ms/step - loss: 0.2244 - accuracy: 0.9083 - val_loss: 0.4683 - val_accuracy: 0.8100 - lr: 0.0010\n",
      "Epoch 24/100\n",
      "312/313 [============================>.] - ETA: 0s - loss: 0.2242 - accuracy: 0.9049\n",
      "Epoch 24: val_accuracy did not improve from 0.84000\n",
      "313/313 [==============================] - 6s 19ms/step - loss: 0.2240 - accuracy: 0.9050 - val_loss: 0.4788 - val_accuracy: 0.8230 - lr: 0.0010\n",
      "Epoch 25/100\n",
      "311/313 [============================>.] - ETA: 0s - loss: 0.2221 - accuracy: 0.9072\n",
      "Epoch 25: val_accuracy did not improve from 0.84000\n",
      "313/313 [==============================] - 6s 18ms/step - loss: 0.2222 - accuracy: 0.9070 - val_loss: 0.5203 - val_accuracy: 0.8100 - lr: 0.0010\n",
      "Epoch 26/100\n",
      "310/313 [============================>.] - ETA: 0s - loss: 0.2152 - accuracy: 0.9127\n",
      "Epoch 26: val_accuracy did not improve from 0.84000\n",
      "313/313 [==============================] - 5s 15ms/step - loss: 0.2152 - accuracy: 0.9127 - val_loss: 0.4845 - val_accuracy: 0.8270 - lr: 0.0010\n",
      "Epoch 27/100\n",
      "311/313 [============================>.] - ETA: 0s - loss: 0.2104 - accuracy: 0.9120\n",
      "Epoch 27: val_accuracy did not improve from 0.84000\n",
      "313/313 [==============================] - 5s 15ms/step - loss: 0.2099 - accuracy: 0.9121 - val_loss: 0.4856 - val_accuracy: 0.8270 - lr: 0.0010\n",
      "Epoch 28/100\n",
      "313/313 [==============================] - ETA: 0s - loss: 0.2114 - accuracy: 0.9100\n",
      "Epoch 28: val_accuracy did not improve from 0.84000\n",
      "313/313 [==============================] - 5s 15ms/step - loss: 0.2114 - accuracy: 0.9100 - val_loss: 0.4761 - val_accuracy: 0.8240 - lr: 0.0010\n",
      "Epoch 29/100\n",
      "313/313 [==============================] - ETA: 0s - loss: 0.2040 - accuracy: 0.9159\n",
      "Epoch 29: val_accuracy did not improve from 0.84000\n",
      "313/313 [==============================] - 5s 15ms/step - loss: 0.2040 - accuracy: 0.9159 - val_loss: 0.4820 - val_accuracy: 0.8180 - lr: 0.0010\n",
      "Epoch 30/100\n",
      "312/313 [============================>.] - ETA: 0s - loss: 0.2098 - accuracy: 0.9142\n",
      "Epoch 30: val_accuracy did not improve from 0.84000\n",
      "313/313 [==============================] - 5s 16ms/step - loss: 0.2096 - accuracy: 0.9142 - val_loss: 0.4925 - val_accuracy: 0.8270 - lr: 0.0010\n",
      "Epoch 31/100\n",
      "313/313 [==============================] - ETA: 0s - loss: 0.2058 - accuracy: 0.9124\n",
      "Epoch 31: val_accuracy did not improve from 0.84000\n",
      "313/313 [==============================] - 5s 17ms/step - loss: 0.2058 - accuracy: 0.9124 - val_loss: 0.5215 - val_accuracy: 0.8240 - lr: 0.0010\n",
      "Epoch 32/100\n",
      "311/313 [============================>.] - ETA: 0s - loss: 0.2074 - accuracy: 0.9157\n",
      "Epoch 32: val_accuracy did not improve from 0.84000\n",
      "313/313 [==============================] - 5s 15ms/step - loss: 0.2072 - accuracy: 0.9158 - val_loss: 0.4967 - val_accuracy: 0.8270 - lr: 0.0010\n",
      "Epoch 33/100\n",
      "313/313 [==============================] - ETA: 0s - loss: 0.2025 - accuracy: 0.9164\n",
      "Epoch 33: val_accuracy did not improve from 0.84000\n",
      "313/313 [==============================] - 5s 15ms/step - loss: 0.2025 - accuracy: 0.9164 - val_loss: 0.4896 - val_accuracy: 0.8210 - lr: 0.0010\n",
      "Epoch 34/100\n",
      "313/313 [==============================] - ETA: 0s - loss: 0.2008 - accuracy: 0.9162\n",
      "Epoch 34: val_accuracy did not improve from 0.84000\n",
      "313/313 [==============================] - 5s 15ms/step - loss: 0.2008 - accuracy: 0.9162 - val_loss: 0.5032 - val_accuracy: 0.8320 - lr: 0.0010\n",
      "Epoch 35/100\n",
      "311/313 [============================>.] - ETA: 0s - loss: 0.1929 - accuracy: 0.9192\n",
      "Epoch 35: val_accuracy did not improve from 0.84000\n",
      "313/313 [==============================] - 5s 15ms/step - loss: 0.1936 - accuracy: 0.9190 - val_loss: 0.6019 - val_accuracy: 0.8070 - lr: 0.0010\n",
      "Epoch 36/100\n",
      "310/313 [============================>.] - ETA: 0s - loss: 0.1899 - accuracy: 0.9204\n",
      "Epoch 36: val_accuracy did not improve from 0.84000\n",
      "313/313 [==============================] - 5s 15ms/step - loss: 0.1898 - accuracy: 0.9204 - val_loss: 0.5575 - val_accuracy: 0.8210 - lr: 0.0010\n",
      "Epoch 37/100\n",
      "311/313 [============================>.] - ETA: 0s - loss: 0.1902 - accuracy: 0.9194\n",
      "Epoch 37: val_accuracy did not improve from 0.84000\n",
      "313/313 [==============================] - 5s 15ms/step - loss: 0.1899 - accuracy: 0.9195 - val_loss: 0.5456 - val_accuracy: 0.8220 - lr: 0.0010\n",
      "Epoch 38/100\n",
      "311/313 [============================>.] - ETA: 0s - loss: 0.1918 - accuracy: 0.9213\n",
      "Epoch 38: val_accuracy did not improve from 0.84000\n",
      "313/313 [==============================] - 5s 17ms/step - loss: 0.1920 - accuracy: 0.9212 - val_loss: 0.5387 - val_accuracy: 0.8180 - lr: 0.0010\n",
      "Epoch 39/100\n",
      "313/313 [==============================] - ETA: 0s - loss: 0.1862 - accuracy: 0.9243\n",
      "Epoch 39: val_accuracy did not improve from 0.84000\n",
      "313/313 [==============================] - 5s 16ms/step - loss: 0.1862 - accuracy: 0.9243 - val_loss: 0.5590 - val_accuracy: 0.8260 - lr: 0.0010\n",
      "Epoch 40/100\n",
      "310/313 [============================>.] - ETA: 0s - loss: 0.1873 - accuracy: 0.9222\n",
      "Epoch 40: val_accuracy did not improve from 0.84000\n",
      "313/313 [==============================] - 5s 15ms/step - loss: 0.1868 - accuracy: 0.9224 - val_loss: 0.5937 - val_accuracy: 0.8160 - lr: 0.0010\n",
      "Epoch 41/100\n",
      "312/313 [============================>.] - ETA: 0s - loss: 0.1816 - accuracy: 0.9242\n",
      "Epoch 41: val_accuracy did not improve from 0.84000\n",
      "313/313 [==============================] - 5s 15ms/step - loss: 0.1820 - accuracy: 0.9242 - val_loss: 0.5539 - val_accuracy: 0.8160 - lr: 0.0010\n",
      "Epoch 42/100\n",
      "313/313 [==============================] - ETA: 0s - loss: 0.1796 - accuracy: 0.9268\n",
      "Epoch 42: val_accuracy did not improve from 0.84000\n",
      "313/313 [==============================] - 5s 15ms/step - loss: 0.1796 - accuracy: 0.9268 - val_loss: 0.5673 - val_accuracy: 0.8180 - lr: 0.0010\n",
      "Epoch 43/100\n",
      "313/313 [==============================] - ETA: 0s - loss: 0.1767 - accuracy: 0.9274\n",
      "Epoch 43: val_accuracy did not improve from 0.84000\n",
      "313/313 [==============================] - 5s 15ms/step - loss: 0.1767 - accuracy: 0.9274 - val_loss: 0.5744 - val_accuracy: 0.8150 - lr: 0.0010\n",
      "Epoch 44/100\n",
      "313/313 [==============================] - ETA: 0s - loss: 0.1802 - accuracy: 0.9234\n",
      "Epoch 44: val_accuracy did not improve from 0.84000\n",
      "313/313 [==============================] - 5s 15ms/step - loss: 0.1802 - accuracy: 0.9234 - val_loss: 0.5646 - val_accuracy: 0.8230 - lr: 0.0010\n",
      "Epoch 45/100\n",
      "313/313 [==============================] - ETA: 0s - loss: 0.1779 - accuracy: 0.9262\n",
      "Epoch 45: val_accuracy did not improve from 0.84000\n",
      "313/313 [==============================] - 5s 15ms/step - loss: 0.1779 - accuracy: 0.9262 - val_loss: 0.5763 - val_accuracy: 0.8180 - lr: 0.0010\n",
      "Epoch 46/100\n",
      "310/313 [============================>.] - ETA: 0s - loss: 0.1777 - accuracy: 0.9287\n",
      "Epoch 46: val_accuracy did not improve from 0.84000\n",
      "313/313 [==============================] - 5s 15ms/step - loss: 0.1777 - accuracy: 0.9287 - val_loss: 0.5752 - val_accuracy: 0.8220 - lr: 0.0010\n",
      "Epoch 47/100\n",
      "310/313 [============================>.] - ETA: 0s - loss: 0.1713 - accuracy: 0.9299\n",
      "Epoch 47: val_accuracy did not improve from 0.84000\n",
      "313/313 [==============================] - 5s 15ms/step - loss: 0.1711 - accuracy: 0.9300 - val_loss: 0.5516 - val_accuracy: 0.8170 - lr: 0.0010\n",
      "Epoch 48/100\n",
      "312/313 [============================>.] - ETA: 0s - loss: 0.1736 - accuracy: 0.9294\n",
      "Epoch 48: val_accuracy did not improve from 0.84000\n",
      "313/313 [==============================] - 5s 15ms/step - loss: 0.1734 - accuracy: 0.9295 - val_loss: 0.6005 - val_accuracy: 0.8170 - lr: 0.0010\n",
      "Epoch 49/100\n",
      "313/313 [==============================] - ETA: 0s - loss: 0.1699 - accuracy: 0.9294\n",
      "Epoch 49: val_accuracy did not improve from 0.84000\n",
      "313/313 [==============================] - 5s 15ms/step - loss: 0.1699 - accuracy: 0.9294 - val_loss: 0.6364 - val_accuracy: 0.8190 - lr: 0.0010\n",
      "Epoch 50/100\n",
      "313/313 [==============================] - ETA: 0s - loss: 0.1620 - accuracy: 0.9333\n",
      "Epoch 50: val_accuracy did not improve from 0.84000\n",
      "313/313 [==============================] - 5s 15ms/step - loss: 0.1620 - accuracy: 0.9333 - val_loss: 0.5948 - val_accuracy: 0.8190 - lr: 0.0010\n",
      "Epoch 51/100\n",
      "313/313 [==============================] - ETA: 0s - loss: 0.1632 - accuracy: 0.9338\n",
      "Epoch 51: val_accuracy did not improve from 0.84000\n",
      "313/313 [==============================] - 5s 15ms/step - loss: 0.1632 - accuracy: 0.9338 - val_loss: 0.6269 - val_accuracy: 0.8190 - lr: 0.0010\n",
      "Epoch 52/100\n",
      "312/313 [============================>.] - ETA: 0s - loss: 0.1671 - accuracy: 0.9331\n",
      "Epoch 52: val_accuracy did not improve from 0.84000\n",
      "313/313 [==============================] - 5s 15ms/step - loss: 0.1672 - accuracy: 0.9330 - val_loss: 0.6505 - val_accuracy: 0.8070 - lr: 0.0010\n",
      "Epoch 53/100\n",
      "313/313 [==============================] - ETA: 0s - loss: 0.1693 - accuracy: 0.9310\n",
      "Epoch 53: val_accuracy did not improve from 0.84000\n",
      "313/313 [==============================] - 5s 15ms/step - loss: 0.1693 - accuracy: 0.9310 - val_loss: 0.6041 - val_accuracy: 0.8070 - lr: 0.0010\n",
      "Epoch 54/100\n",
      "309/313 [============================>.] - ETA: 0s - loss: 0.1646 - accuracy: 0.9324\n",
      "Epoch 54: val_accuracy did not improve from 0.84000\n",
      "313/313 [==============================] - 5s 15ms/step - loss: 0.1651 - accuracy: 0.9324 - val_loss: 0.6622 - val_accuracy: 0.8120 - lr: 0.0010\n",
      "Epoch 55/100\n",
      "313/313 [==============================] - ETA: 0s - loss: 0.1619 - accuracy: 0.9339\n",
      "Epoch 55: val_accuracy did not improve from 0.84000\n",
      "313/313 [==============================] - 5s 15ms/step - loss: 0.1619 - accuracy: 0.9339 - val_loss: 0.6316 - val_accuracy: 0.8150 - lr: 0.0010\n",
      "Epoch 56/100\n",
      "313/313 [==============================] - ETA: 0s - loss: 0.1589 - accuracy: 0.9369\n",
      "Epoch 56: val_accuracy did not improve from 0.84000\n",
      "313/313 [==============================] - 5s 15ms/step - loss: 0.1589 - accuracy: 0.9369 - val_loss: 0.6563 - val_accuracy: 0.8080 - lr: 0.0010\n",
      "Epoch 57/100\n",
      "313/313 [==============================] - ETA: 0s - loss: 0.1563 - accuracy: 0.9356\n",
      "Epoch 57: val_accuracy did not improve from 0.84000\n",
      "313/313 [==============================] - 5s 15ms/step - loss: 0.1563 - accuracy: 0.9356 - val_loss: 0.6561 - val_accuracy: 0.8150 - lr: 0.0010\n",
      "Epoch 58/100\n",
      "312/313 [============================>.] - ETA: 0s - loss: 0.1547 - accuracy: 0.9381\n",
      "Epoch 58: val_accuracy did not improve from 0.84000\n",
      "313/313 [==============================] - 5s 15ms/step - loss: 0.1548 - accuracy: 0.9380 - val_loss: 0.6682 - val_accuracy: 0.8110 - lr: 0.0010\n",
      "Epoch 59/100\n",
      "310/313 [============================>.] - ETA: 0s - loss: 0.1567 - accuracy: 0.9377\n",
      "Epoch 59: val_accuracy did not improve from 0.84000\n",
      "313/313 [==============================] - 5s 15ms/step - loss: 0.1566 - accuracy: 0.9377 - val_loss: 0.6893 - val_accuracy: 0.7980 - lr: 0.0010\n",
      "Epoch 60/100\n",
      "312/313 [============================>.] - ETA: 0s - loss: 0.1550 - accuracy: 0.9372\n",
      "Epoch 60: val_accuracy did not improve from 0.84000\n",
      "313/313 [==============================] - 5s 15ms/step - loss: 0.1553 - accuracy: 0.9371 - val_loss: 0.6935 - val_accuracy: 0.7960 - lr: 0.0010\n",
      "Epoch 61/100\n",
      "311/313 [============================>.] - ETA: 0s - loss: 0.1544 - accuracy: 0.9377\n",
      "Epoch 61: val_accuracy did not improve from 0.84000\n",
      "313/313 [==============================] - 5s 16ms/step - loss: 0.1543 - accuracy: 0.9377 - val_loss: 0.6834 - val_accuracy: 0.8100 - lr: 0.0010\n"
     ]
    },
    {
     "name": "stdout",
     "output_type": "stream",
     "text": [
      "Epoch 62/100\n",
      "312/313 [============================>.] - ETA: 0s - loss: 0.1574 - accuracy: 0.9369\n",
      "Epoch 62: val_accuracy did not improve from 0.84000\n",
      "313/313 [==============================] - 5s 16ms/step - loss: 0.1572 - accuracy: 0.9370 - val_loss: 0.7203 - val_accuracy: 0.8020 - lr: 0.0010\n",
      "Epoch 63/100\n",
      "313/313 [==============================] - ETA: 0s - loss: 0.1479 - accuracy: 0.9384\n",
      "Epoch 63: val_accuracy did not improve from 0.84000\n",
      "313/313 [==============================] - 5s 16ms/step - loss: 0.1479 - accuracy: 0.9384 - val_loss: 0.7041 - val_accuracy: 0.8190 - lr: 0.0010\n",
      "Epoch 64/100\n",
      "310/313 [============================>.] - ETA: 0s - loss: 0.1465 - accuracy: 0.9411\n",
      "Epoch 64: val_accuracy did not improve from 0.84000\n",
      "313/313 [==============================] - 5s 16ms/step - loss: 0.1468 - accuracy: 0.9410 - val_loss: 0.6788 - val_accuracy: 0.8140 - lr: 0.0010\n",
      "Epoch 65/100\n",
      "310/313 [============================>.] - ETA: 0s - loss: 0.1503 - accuracy: 0.9411\n",
      "Epoch 65: val_accuracy did not improve from 0.84000\n",
      "313/313 [==============================] - 5s 16ms/step - loss: 0.1501 - accuracy: 0.9412 - val_loss: 0.6841 - val_accuracy: 0.8110 - lr: 0.0010\n",
      "Epoch 66/100\n",
      "311/313 [============================>.] - ETA: 0s - loss: 0.1464 - accuracy: 0.9400\n",
      "Epoch 66: val_accuracy did not improve from 0.84000\n",
      "313/313 [==============================] - 5s 17ms/step - loss: 0.1464 - accuracy: 0.9401 - val_loss: 0.6784 - val_accuracy: 0.8120 - lr: 0.0010\n",
      "Epoch 67/100\n",
      "313/313 [==============================] - ETA: 0s - loss: 0.1446 - accuracy: 0.9401\n",
      "Epoch 67: val_accuracy did not improve from 0.84000\n",
      "313/313 [==============================] - 5s 17ms/step - loss: 0.1446 - accuracy: 0.9401 - val_loss: 0.7294 - val_accuracy: 0.8120 - lr: 0.0010\n",
      "Epoch 68/100\n",
      "312/313 [============================>.] - ETA: 0s - loss: 0.1434 - accuracy: 0.9435\n",
      "Epoch 68: val_accuracy did not improve from 0.84000\n",
      "313/313 [==============================] - 6s 18ms/step - loss: 0.1432 - accuracy: 0.9436 - val_loss: 0.7144 - val_accuracy: 0.8130 - lr: 0.0010\n",
      "Epoch 69/100\n",
      "311/313 [============================>.] - ETA: 0s - loss: 0.1378 - accuracy: 0.9447\n",
      "Epoch 69: val_accuracy did not improve from 0.84000\n",
      "313/313 [==============================] - 5s 17ms/step - loss: 0.1383 - accuracy: 0.9443 - val_loss: 0.7333 - val_accuracy: 0.8140 - lr: 0.0010\n",
      "Epoch 70/100\n",
      "313/313 [==============================] - ETA: 0s - loss: 0.1414 - accuracy: 0.9423\n",
      "Epoch 70: val_accuracy did not improve from 0.84000\n",
      "313/313 [==============================] - 5s 17ms/step - loss: 0.1414 - accuracy: 0.9423 - val_loss: 0.7265 - val_accuracy: 0.8050 - lr: 0.0010\n",
      "Epoch 71/100\n",
      "313/313 [==============================] - ETA: 0s - loss: 0.1424 - accuracy: 0.9409\n",
      "Epoch 71: val_accuracy did not improve from 0.84000\n",
      "313/313 [==============================] - 5s 18ms/step - loss: 0.1424 - accuracy: 0.9409 - val_loss: 0.7298 - val_accuracy: 0.8070 - lr: 0.0010\n",
      "Epoch 72/100\n",
      "311/313 [============================>.] - ETA: 0s - loss: 0.1379 - accuracy: 0.9448\n",
      "Epoch 72: val_accuracy did not improve from 0.84000\n",
      "313/313 [==============================] - 5s 17ms/step - loss: 0.1375 - accuracy: 0.9450 - val_loss: 0.7666 - val_accuracy: 0.8080 - lr: 0.0010\n",
      "Epoch 73/100\n",
      "313/313 [==============================] - ETA: 0s - loss: 0.1429 - accuracy: 0.9438\n",
      "Epoch 73: val_accuracy did not improve from 0.84000\n",
      "313/313 [==============================] - 5s 16ms/step - loss: 0.1429 - accuracy: 0.9438 - val_loss: 0.7161 - val_accuracy: 0.7940 - lr: 0.0010\n",
      "Epoch 74/100\n",
      "313/313 [==============================] - ETA: 0s - loss: 0.1343 - accuracy: 0.9452\n",
      "Epoch 74: val_accuracy did not improve from 0.84000\n",
      "313/313 [==============================] - 5s 16ms/step - loss: 0.1343 - accuracy: 0.9452 - val_loss: 0.7694 - val_accuracy: 0.8090 - lr: 0.0010\n",
      "Epoch 75/100\n",
      "313/313 [==============================] - ETA: 0s - loss: 0.1366 - accuracy: 0.9463\n",
      "Epoch 75: val_accuracy did not improve from 0.84000\n",
      "313/313 [==============================] - 5s 16ms/step - loss: 0.1366 - accuracy: 0.9463 - val_loss: 0.7428 - val_accuracy: 0.8100 - lr: 0.0010\n",
      "Epoch 76/100\n",
      "312/313 [============================>.] - ETA: 0s - loss: 0.1311 - accuracy: 0.9456\n",
      "Epoch 76: val_accuracy did not improve from 0.84000\n",
      "313/313 [==============================] - 5s 16ms/step - loss: 0.1311 - accuracy: 0.9456 - val_loss: 0.8219 - val_accuracy: 0.8100 - lr: 0.0010\n",
      "Epoch 77/100\n",
      "310/313 [============================>.] - ETA: 0s - loss: 0.1329 - accuracy: 0.9478\n",
      "Epoch 77: val_accuracy did not improve from 0.84000\n",
      "313/313 [==============================] - 5s 16ms/step - loss: 0.1324 - accuracy: 0.9480 - val_loss: 0.8168 - val_accuracy: 0.8090 - lr: 0.0010\n",
      "Epoch 78/100\n",
      "312/313 [============================>.] - ETA: 0s - loss: 0.1355 - accuracy: 0.9492\n",
      "Epoch 78: val_accuracy did not improve from 0.84000\n",
      "313/313 [==============================] - 5s 15ms/step - loss: 0.1353 - accuracy: 0.9493 - val_loss: 0.7672 - val_accuracy: 0.8050 - lr: 0.0010\n",
      "Epoch 79/100\n",
      "309/313 [============================>.] - ETA: 0s - loss: 0.1302 - accuracy: 0.9474\n",
      "Epoch 79: val_accuracy did not improve from 0.84000\n",
      "313/313 [==============================] - 5s 15ms/step - loss: 0.1308 - accuracy: 0.9473 - val_loss: 0.7617 - val_accuracy: 0.8120 - lr: 0.0010\n",
      "Epoch 80/100\n",
      "313/313 [==============================] - ETA: 0s - loss: 0.1334 - accuracy: 0.9464\n",
      "Epoch 80: val_accuracy did not improve from 0.84000\n",
      "313/313 [==============================] - 5s 15ms/step - loss: 0.1334 - accuracy: 0.9464 - val_loss: 0.7763 - val_accuracy: 0.8100 - lr: 0.0010\n",
      "Epoch 81/100\n",
      "313/313 [==============================] - ETA: 0s - loss: 0.1264 - accuracy: 0.9500\n",
      "Epoch 81: val_accuracy did not improve from 0.84000\n",
      "313/313 [==============================] - 5s 15ms/step - loss: 0.1264 - accuracy: 0.9500 - val_loss: 0.8065 - val_accuracy: 0.8050 - lr: 0.0010\n",
      "Epoch 82/100\n",
      "313/313 [==============================] - ETA: 0s - loss: 0.1309 - accuracy: 0.9498\n",
      "Epoch 82: val_accuracy did not improve from 0.84000\n",
      "313/313 [==============================] - 5s 15ms/step - loss: 0.1309 - accuracy: 0.9498 - val_loss: 0.7812 - val_accuracy: 0.8210 - lr: 0.0010\n",
      "Epoch 83/100\n",
      "310/313 [============================>.] - ETA: 0s - loss: 0.1248 - accuracy: 0.9524\n",
      "Epoch 83: val_accuracy did not improve from 0.84000\n",
      "313/313 [==============================] - 5s 15ms/step - loss: 0.1246 - accuracy: 0.9523 - val_loss: 0.7917 - val_accuracy: 0.8050 - lr: 0.0010\n",
      "Epoch 84/100\n",
      "313/313 [==============================] - ETA: 0s - loss: 0.1288 - accuracy: 0.9477\n",
      "Epoch 84: val_accuracy did not improve from 0.84000\n",
      "313/313 [==============================] - 5s 15ms/step - loss: 0.1288 - accuracy: 0.9477 - val_loss: 0.8159 - val_accuracy: 0.8120 - lr: 0.0010\n",
      "Epoch 85/100\n",
      "312/313 [============================>.] - ETA: 0s - loss: 0.1352 - accuracy: 0.9491\n",
      "Epoch 85: val_accuracy did not improve from 0.84000\n",
      "313/313 [==============================] - 5s 15ms/step - loss: 0.1351 - accuracy: 0.9491 - val_loss: 0.8278 - val_accuracy: 0.8110 - lr: 0.0010\n",
      "Epoch 86/100\n",
      "310/313 [============================>.] - ETA: 0s - loss: 0.1227 - accuracy: 0.9498\n",
      "Epoch 86: val_accuracy did not improve from 0.84000\n",
      "313/313 [==============================] - 5s 15ms/step - loss: 0.1224 - accuracy: 0.9499 - val_loss: 0.8237 - val_accuracy: 0.8110 - lr: 0.0010\n",
      "Epoch 87/100\n",
      "310/313 [============================>.] - ETA: 0s - loss: 0.1229 - accuracy: 0.9505\n",
      "Epoch 87: val_accuracy did not improve from 0.84000\n",
      "313/313 [==============================] - 5s 15ms/step - loss: 0.1229 - accuracy: 0.9505 - val_loss: 0.7937 - val_accuracy: 0.8150 - lr: 0.0010\n",
      "Epoch 88/100\n",
      "310/313 [============================>.] - ETA: 0s - loss: 0.1264 - accuracy: 0.9499\n",
      "Epoch 88: val_accuracy did not improve from 0.84000\n",
      "313/313 [==============================] - 5s 15ms/step - loss: 0.1258 - accuracy: 0.9501 - val_loss: 0.8105 - val_accuracy: 0.8060 - lr: 0.0010\n",
      "Epoch 89/100\n",
      "311/313 [============================>.] - ETA: 0s - loss: 0.1300 - accuracy: 0.9501\n",
      "Epoch 89: val_accuracy did not improve from 0.84000\n",
      "313/313 [==============================] - 5s 16ms/step - loss: 0.1298 - accuracy: 0.9502 - val_loss: 0.8170 - val_accuracy: 0.8000 - lr: 0.0010\n"
     ]
    },
    {
     "name": "stdout",
     "output_type": "stream",
     "text": [
      "Epoch 90/100\n",
      "312/313 [============================>.] - ETA: 0s - loss: 0.1329 - accuracy: 0.9488\n",
      "Epoch 90: val_accuracy did not improve from 0.84000\n",
      "313/313 [==============================] - 5s 16ms/step - loss: 0.1328 - accuracy: 0.9488 - val_loss: 0.8091 - val_accuracy: 0.8110 - lr: 0.0010\n",
      "Epoch 91/100\n",
      "311/313 [============================>.] - ETA: 0s - loss: 0.1197 - accuracy: 0.9531\n",
      "Epoch 91: val_accuracy did not improve from 0.84000\n",
      "313/313 [==============================] - 6s 18ms/step - loss: 0.1197 - accuracy: 0.9531 - val_loss: 0.7946 - val_accuracy: 0.8050 - lr: 0.0010\n",
      "Epoch 92/100\n",
      "312/313 [============================>.] - ETA: 0s - loss: 0.1160 - accuracy: 0.9520\n",
      "Epoch 92: val_accuracy did not improve from 0.84000\n",
      "313/313 [==============================] - 5s 16ms/step - loss: 0.1160 - accuracy: 0.9520 - val_loss: 0.8361 - val_accuracy: 0.8200 - lr: 0.0010\n",
      "Epoch 93/100\n",
      "312/313 [============================>.] - ETA: 0s - loss: 0.1210 - accuracy: 0.9537\n",
      "Epoch 93: val_accuracy did not improve from 0.84000\n",
      "313/313 [==============================] - 5s 15ms/step - loss: 0.1208 - accuracy: 0.9538 - val_loss: 0.8114 - val_accuracy: 0.8140 - lr: 0.0010\n",
      "Epoch 94/100\n",
      "312/313 [============================>.] - ETA: 0s - loss: 0.1177 - accuracy: 0.9536\n",
      "Epoch 94: val_accuracy did not improve from 0.84000\n",
      "313/313 [==============================] - 5s 16ms/step - loss: 0.1176 - accuracy: 0.9537 - val_loss: 0.8114 - val_accuracy: 0.8050 - lr: 0.0010\n",
      "Epoch 95/100\n",
      "312/313 [============================>.] - ETA: 0s - loss: 0.1116 - accuracy: 0.9552\n",
      "Epoch 95: val_accuracy did not improve from 0.84000\n",
      "313/313 [==============================] - 5s 16ms/step - loss: 0.1115 - accuracy: 0.9552 - val_loss: 0.8380 - val_accuracy: 0.8200 - lr: 0.0010\n",
      "Epoch 96/100\n",
      "312/313 [============================>.] - ETA: 0s - loss: 0.1176 - accuracy: 0.9527\n",
      "Epoch 96: val_accuracy did not improve from 0.84000\n",
      "313/313 [==============================] - 5s 16ms/step - loss: 0.1178 - accuracy: 0.9526 - val_loss: 0.8280 - val_accuracy: 0.8100 - lr: 0.0010\n",
      "Epoch 97/100\n",
      "311/313 [============================>.] - ETA: 0s - loss: 0.1214 - accuracy: 0.9522\n",
      "Epoch 97: val_accuracy did not improve from 0.84000\n",
      "313/313 [==============================] - 5s 15ms/step - loss: 0.1212 - accuracy: 0.9522 - val_loss: 0.8346 - val_accuracy: 0.8150 - lr: 0.0010\n",
      "Epoch 98/100\n",
      "312/313 [============================>.] - ETA: 0s - loss: 0.1139 - accuracy: 0.9562\n",
      "Epoch 98: val_accuracy did not improve from 0.84000\n",
      "313/313 [==============================] - 5s 15ms/step - loss: 0.1139 - accuracy: 0.9562 - val_loss: 0.8472 - val_accuracy: 0.8040 - lr: 0.0010\n",
      "Epoch 99/100\n",
      "312/313 [============================>.] - ETA: 0s - loss: 0.1209 - accuracy: 0.9529\n",
      "Epoch 99: val_accuracy did not improve from 0.84000\n",
      "313/313 [==============================] - 5s 15ms/step - loss: 0.1208 - accuracy: 0.9530 - val_loss: 0.8766 - val_accuracy: 0.8150 - lr: 0.0010\n",
      "Epoch 100/100\n",
      "313/313 [==============================] - ETA: 0s - loss: 0.1144 - accuracy: 0.9572\n",
      "Epoch 100: val_accuracy did not improve from 0.84000\n",
      "313/313 [==============================] - 5s 15ms/step - loss: 0.1144 - accuracy: 0.9572 - val_loss: 0.8694 - val_accuracy: 0.8110 - lr: 0.0010\n"
     ]
    }
   ],
   "source": [
    "model_checkpoint = ModelCheckpoint(filepath='checkpoint/',monitor='val_accuracy',mode='max',save_best_only=True,verbose=1)\n",
    "reduce_lr = ReduceLROnPlateau(monitor='val_accuracy',mode='max',patience=5,min_lr=0.001,factor=0.1,verbose=1)\n",
    "\n",
    "r = model.fit([train_story_seq,train_query_seq],\n",
    "             train_ans_seq,\n",
    "             batch_size=32,\n",
    "             epochs=100,\n",
    "             validation_data=([test_story_seq,test_query_seq],test_ans_seq),\n",
    "             callbacks=[reduce_lr,model_checkpoint])"
   ]
  },
  {
   "cell_type": "code",
   "execution_count": 109,
   "id": "1998b324",
   "metadata": {},
   "outputs": [
    {
     "data": {
      "image/png": "[encoded data removed]",
      "text/plain": [
       "<Figure size 864x576 with 1 Axes>"
      ]
     },
     "metadata": {
      "needs_background": "light"
     },
     "output_type": "display_data"
    }
   ],
   "source": [
    "plt.figure(figsize=(12,8))\n",
    "plt.plot(r.history['loss'],'r',label='train loss')\n",
    "plt.plot(r.history['val_loss'],'b',label='test loss')\n",
    "plt.xlabel('Number of Epochs')\n",
    "plt.ylabel('Loss')\n",
    "plt.title('Loss Graph')\n",
    "plt.legend();"
   ]
  },
  {
   "cell_type": "code",
   "execution_count": 110,
   "id": "1a784f11",
   "metadata": {},
   "outputs": [
    {
     "data": {
      "image/png": "[encoded data removed]",
      "text/plain": [
       "<Figure size 864x576 with 1 Axes>"
      ]
     },
     "metadata": {
      "needs_background": "light"
     },
     "output_type": "display_data"
    }
   ],
   "source": [
    "plt.figure(figsize=(12,8))\n",
    "plt.plot(r.history['accuracy'],'r',label='train accuracy')\n",
    "plt.plot(r.history['val_accuracy'],'b',label='test accuracy')\n",
    "plt.xlabel('Number of Epochs')\n",
    "plt.ylabel('Accuracy')\n",
    "plt.title('Accuracy Graph')\n",
    "plt.legend();"
   ]
  },
  {
   "cell_type": "code",
   "execution_count": 111,
   "id": "a7580a1f",
   "metadata": {},
   "outputs": [
    {
     "name": "stdout",
     "output_type": "stream",
     "text": [
      "32/32 [==============================] - 0s 4ms/step - loss: 0.8694 - accuracy: 0.8110\n"
     ]
    },
    {
     "data": {
      "text/plain": [
       "[0.8693567514419556, 0.8109999895095825]"
      ]
     },
     "execution_count": 111,
     "metadata": {},
     "output_type": "execute_result"
    }
   ],
   "source": [
    "model.evaluate([test_story_seq,test_query_seq],test_ans_seq)"
   ]
  },
  {
   "cell_type": "code",
   "execution_count": 112,
   "id": "28badf23",
   "metadata": {},
   "outputs": [
    {
     "name": "stdout",
     "output_type": "stream",
     "text": [
      "32/32 [==============================] - 2s 5ms/step\n"
     ]
    },
    {
     "data": {
      "text/plain": [
       "array([[4.5076132e-18, 4.4765290e-18, 3.8805615e-18, ..., 4.5259981e-18,\n",
       "        4.0181725e-18, 3.2544001e-18],\n",
       "       [6.5020982e-11, 7.4705339e-11, 7.4145190e-11, ..., 8.3273728e-11,\n",
       "        6.2600827e-11, 6.1732064e-11],\n",
       "       [1.2476131e-14, 1.2182427e-14, 1.3778931e-14, ..., 1.3435042e-14,\n",
       "        1.2350716e-14, 1.2657214e-14],\n",
       "       ...,\n",
       "       [9.0323625e-13, 9.8838472e-13, 1.0660154e-12, ..., 8.8189216e-13,\n",
       "        8.2217696e-13, 9.6136521e-13],\n",
       "       [4.2440292e-12, 4.1301680e-12, 3.9301565e-12, ..., 4.9492212e-12,\n",
       "        3.9637247e-12, 4.1334544e-12],\n",
       "       [1.8810586e-18, 2.1030484e-18, 1.7019055e-18, ..., 2.5390164e-18,\n",
       "        2.4196247e-18, 1.9758272e-18]], dtype=float32)"
      ]
     },
     "execution_count": 112,
     "metadata": {},
     "output_type": "execute_result"
    }
   ],
   "source": [
    "test_pred = model.predict([test_story_seq,test_query_seq])\n",
    "test_pred"
   ]
  },
  {
   "cell_type": "code",
   "execution_count": 122,
   "id": "0dcc77ba",
   "metadata": {},
   "outputs": [
    {
     "data": {
      "text/plain": [
       "'Mary got the milk there . John moved to the bedroom .'"
      ]
     },
     "execution_count": 122,
     "metadata": {},
     "output_type": "execute_result"
    }
   ],
   "source": [
    "' '.join(test_data[0][0])"
   ]
  },
  {
   "cell_type": "code",
   "execution_count": 123,
   "id": "2f5b3e7f",
   "metadata": {},
   "outputs": [
    {
     "data": {
      "text/plain": [
       "'Is John in the kitchen ?'"
      ]
     },
     "execution_count": 123,
     "metadata": {},
     "output_type": "execute_result"
    }
   ],
   "source": [
    "' '.join(test_data[0][1])"
   ]
  },
  {
   "cell_type": "code",
   "execution_count": 125,
   "id": "f0a8cb5e",
   "metadata": {},
   "outputs": [
    {
     "data": {
      "text/plain": [
       "array([4.5076132e-18, 4.4765290e-18, 3.8805615e-18, 9.9995196e-01,\n",
       "       3.7784837e-18, 3.7761783e-18, 4.5709020e-18, 4.8009522e-05,\n",
       "       3.7745943e-18, 3.0026720e-18, 3.9740114e-18, 4.9136551e-18,\n",
       "       4.2207226e-18, 4.8106823e-18, 3.7410219e-18, 3.5927821e-18,\n",
       "       3.2902883e-18, 4.4822705e-18, 5.3849553e-18, 4.6706129e-18,\n",
       "       4.2299580e-18, 3.0556519e-18, 4.4201418e-18, 3.1780662e-18,\n",
       "       3.2262298e-18, 4.6973970e-18, 4.2836412e-18, 5.0265346e-18,\n",
       "       3.6117038e-18, 4.2317816e-18, 4.0796750e-18, 4.9648476e-18,\n",
       "       4.0974081e-18, 3.7614707e-18, 3.7731835e-18, 4.5259981e-18,\n",
       "       4.0181725e-18, 3.2544001e-18], dtype=float32)"
      ]
     },
     "execution_count": 125,
     "metadata": {},
     "output_type": "execute_result"
    }
   ],
   "source": [
    "test_pred[0]"
   ]
  },
  {
   "cell_type": "code",
   "execution_count": 116,
   "id": "3282cb53",
   "metadata": {},
   "outputs": [
    {
     "data": {
      "text/plain": [
       "3"
      ]
     },
     "execution_count": 116,
     "metadata": {},
     "output_type": "execute_result"
    }
   ],
   "source": [
    "valmax = test_pred[0].argmax()\n",
    "valmax"
   ]
  },
  {
   "cell_type": "code",
   "execution_count": 117,
   "id": "cf0f3f51",
   "metadata": {},
   "outputs": [],
   "source": [
    "pred = ''\n",
    "for key, val in tokenizer.word_index.items():\n",
    "    if val == valmax:\n",
    "        pred = key\n",
    "        break"
   ]
  },
  {
   "cell_type": "code",
   "execution_count": 118,
   "id": "6924a2f9",
   "metadata": {},
   "outputs": [
    {
     "data": {
      "text/plain": [
       "'no'"
      ]
     },
     "execution_count": 118,
     "metadata": {},
     "output_type": "execute_result"
    }
   ],
   "source": [
    "pred"
   ]
  },
  {
   "cell_type": "code",
   "execution_count": 124,
   "id": "9be3b92a",
   "metadata": {},
   "outputs": [
    {
     "data": {
      "text/plain": [
       "0.99995196"
      ]
     },
     "execution_count": 124,
     "metadata": {},
     "output_type": "execute_result"
    }
   ],
   "source": [
    "test_pred[0][valmax]"
   ]
  },
  {
   "cell_type": "code",
   "execution_count": 126,
   "id": "65bd6937",
   "metadata": {},
   "outputs": [
    {
     "data": {
      "text/plain": [
       "{'.',\n",
       " '?',\n",
       " 'Daniel',\n",
       " 'Is',\n",
       " 'John',\n",
       " 'Mary',\n",
       " 'Sandra',\n",
       " 'apple',\n",
       " 'back',\n",
       " 'bathroom',\n",
       " 'bedroom',\n",
       " 'discarded',\n",
       " 'down',\n",
       " 'dropped',\n",
       " 'football',\n",
       " 'garden',\n",
       " 'got',\n",
       " 'grabbed',\n",
       " 'hallway',\n",
       " 'in',\n",
       " 'journeyed',\n",
       " 'kitchen',\n",
       " 'left',\n",
       " 'milk',\n",
       " 'moved',\n",
       " 'no',\n",
       " 'office',\n",
       " 'picked',\n",
       " 'put',\n",
       " 'the',\n",
       " 'there',\n",
       " 'to',\n",
       " 'took',\n",
       " 'travelled',\n",
       " 'up',\n",
       " 'went',\n",
       " 'yes'}"
      ]
     },
     "execution_count": 126,
     "metadata": {},
     "output_type": "execute_result"
    }
   ],
   "source": [
    "vocab"
   ]
  },
  {
   "cell_type": "code",
   "execution_count": 146,
   "id": "2374d24e",
   "metadata": {},
   "outputs": [
    {
     "data": {
      "text/plain": [
       "'Sandra moved to the kitchen . Daniel took football in the garden .'"
      ]
     },
     "execution_count": 146,
     "metadata": {},
     "output_type": "execute_result"
    }
   ],
   "source": [
    "mystory = 'Sandra moved to the kitchen . Daniel took football in the garden .'\n",
    "mystory"
   ]
  },
  {
   "cell_type": "code",
   "execution_count": 147,
   "id": "3284163e",
   "metadata": {},
   "outputs": [
    {
     "data": {
      "text/plain": [
       "'Is Sandra in the kitchen ?'"
      ]
     },
     "execution_count": 147,
     "metadata": {},
     "output_type": "execute_result"
    }
   ],
   "source": [
    "myques = 'Is Sandra in the kitchen ?'\n",
    "myques"
   ]
  },
  {
   "cell_type": "code",
   "execution_count": 148,
   "id": "62ca2802",
   "metadata": {},
   "outputs": [
    {
     "data": {
      "text/plain": [
       "[(['Sandra',\n",
       "   'moved',\n",
       "   'to',\n",
       "   'the',\n",
       "   'kitchen',\n",
       "   '.',\n",
       "   'Daniel',\n",
       "   'took',\n",
       "   'football',\n",
       "   'in',\n",
       "   'the',\n",
       "   'garden',\n",
       "   '.'],\n",
       "  ['Is', 'Sandra', 'in', 'the', 'kitchen', '?'],\n",
       "  'no')]"
      ]
     },
     "execution_count": 148,
     "metadata": {},
     "output_type": "execute_result"
    }
   ],
   "source": [
    "mydata = [(mystory.split(),myques.split(),'no')]\n",
    "mydata"
   ]
  },
  {
   "cell_type": "code",
   "execution_count": 149,
   "id": "e9086c2d",
   "metadata": {},
   "outputs": [],
   "source": [
    "my_story_seq, my_ques_seq, my_ans_seq = vectorize_data(mydata)"
   ]
  },
  {
   "cell_type": "code",
   "execution_count": 150,
   "id": "2d958728",
   "metadata": {},
   "outputs": [
    {
     "name": "stdout",
     "output_type": "stream",
     "text": [
      "1/1 [==============================] - 0s 21ms/step\n"
     ]
    },
    {
     "data": {
      "text/plain": [
       "array([[1.0500770e-12, 1.1563390e-12, 1.2630450e-12, 1.8422568e-01,\n",
       "        1.1919444e-12, 1.2069980e-12, 1.1618971e-12, 8.1577432e-01,\n",
       "        1.1158265e-12, 1.3197698e-12, 1.1435040e-12, 1.1333637e-12,\n",
       "        1.1924969e-12, 1.3408141e-12, 1.1640311e-12, 1.2083340e-12,\n",
       "        1.1206682e-12, 1.2291265e-12, 1.2952607e-12, 1.0843755e-12,\n",
       "        1.2052634e-12, 1.1470253e-12, 1.2860587e-12, 1.0048555e-12,\n",
       "        1.0284771e-12, 1.1237418e-12, 1.0602080e-12, 1.4113120e-12,\n",
       "        1.1199417e-12, 1.1359261e-12, 1.2111328e-12, 1.4970248e-12,\n",
       "        1.1258314e-12, 1.1511106e-12, 1.2759824e-12, 1.3567744e-12,\n",
       "        1.1522484e-12, 1.0560445e-12]], dtype=float32)"
      ]
     },
     "execution_count": 150,
     "metadata": {},
     "output_type": "execute_result"
    }
   ],
   "source": [
    "my_story_pred = model.predict([my_story_seq,my_ques_seq])\n",
    "my_story_pred"
   ]
  },
  {
   "cell_type": "code",
   "execution_count": 151,
   "id": "254d5bf3",
   "metadata": {},
   "outputs": [
    {
     "data": {
      "text/plain": [
       "7"
      ]
     },
     "execution_count": 151,
     "metadata": {},
     "output_type": "execute_result"
    }
   ],
   "source": [
    "valmax = my_story_pred[0].argmax()\n",
    "valmax"
   ]
  },
  {
   "cell_type": "code",
   "execution_count": 152,
   "id": "3c2b65cc",
   "metadata": {},
   "outputs": [],
   "source": [
    "for key, val in tokenizer.word_index.items():\n",
    "    if val == valmax:\n",
    "        pred = key\n",
    "        break"
   ]
  },
  {
   "cell_type": "code",
   "execution_count": 153,
   "id": "0429bb10",
   "metadata": {},
   "outputs": [
    {
     "name": "stdout",
     "output_type": "stream",
     "text": [
      "yes\n"
     ]
    }
   ],
   "source": [
    "print(pred)"
   ]
  },
  {
   "cell_type": "code",
   "execution_count": 154,
   "id": "9e8248a8",
   "metadata": {},
   "outputs": [
    {
     "data": {
      "text/plain": [
       "0.8157743"
      ]
     },
     "execution_count": 154,
     "metadata": {},
     "output_type": "execute_result"
    }
   ],
   "source": [
    "my_story_pred[0][valmax]"
   ]
  }
 ],
 "metadata": {
  "kernelspec": {
   "display_name": "Python 3 (ipykernel)",
   "language": "python",
   "name": "python3"
  },
  "language_info": {
   "codemirror_mode": {
    "name": "ipython",
    "version": 3
   },
   "file_extension": ".py",
   "mimetype": "text/x-python",
   "name": "python",
   "nbconvert_exporter": "python",
   "pygments_lexer": "ipython3",
   "version": "3.9.12"
  }
 },
 "nbformat": 4,
 "nbformat_minor": 5
}
