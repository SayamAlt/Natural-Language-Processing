{
 "cells": [
  {
   "cell_type": "code",
   "execution_count": 1,
   "id": "26d48508",
   "metadata": {},
   "outputs": [
    {
     "name": "stdout",
     "output_type": "stream",
     "text": [
      "Requirement already satisfied: numpy in c:\\users\\hp\\anaconda3\\lib\\site-packages (1.23.2)\n",
      "Note: you may need to restart the kernel to use updated packages.\n"
     ]
    }
   ],
   "source": [
    "pip install numpy --upgrade"
   ]
  },
  {
   "cell_type": "code",
   "execution_count": 2,
   "id": "cf688374",
   "metadata": {},
   "outputs": [
    {
     "ename": "RuntimeError",
     "evalue": "module compiled against API version 0xf but this version of numpy is 0xe",
     "output_type": "error",
     "traceback": [
      "\u001b[1;31m---------------------------------------------------------------------------\u001b[0m",
      "\u001b[1;31mRuntimeError\u001b[0m                              Traceback (most recent call last)",
      "\u001b[1;31mRuntimeError\u001b[0m: module compiled against API version 0xf but this version of numpy is 0xe"
     ]
    },
    {
     "ename": "RuntimeError",
     "evalue": "module compiled against API version 0xf but this version of numpy is 0xe",
     "output_type": "error",
     "traceback": [
      "\u001b[1;31m---------------------------------------------------------------------------\u001b[0m",
      "\u001b[1;31mRuntimeError\u001b[0m                              Traceback (most recent call last)",
      "\u001b[1;31mRuntimeError\u001b[0m: module compiled against API version 0xf but this version of numpy is 0xe"
     ]
    },
    {
     "ename": "RuntimeError",
     "evalue": "module compiled against API version 0xf but this version of numpy is 0xe",
     "output_type": "error",
     "traceback": [
      "\u001b[1;31m---------------------------------------------------------------------------\u001b[0m",
      "\u001b[1;31mRuntimeError\u001b[0m                              Traceback (most recent call last)",
      "\u001b[1;31mRuntimeError\u001b[0m: module compiled against API version 0xf but this version of numpy is 0xe"
     ]
    },
    {
     "ename": "RuntimeError",
     "evalue": "module compiled against API version 0xf but this version of numpy is 0xe",
     "output_type": "error",
     "traceback": [
      "\u001b[1;31m---------------------------------------------------------------------------\u001b[0m",
      "\u001b[1;31mRuntimeError\u001b[0m                              Traceback (most recent call last)",
      "\u001b[1;31mRuntimeError\u001b[0m: module compiled against API version 0xf but this version of numpy is 0xe"
     ]
    },
    {
     "ename": "RuntimeError",
     "evalue": "module compiled against API version 0xf but this version of numpy is 0xe",
     "output_type": "error",
     "traceback": [
      "\u001b[1;31m---------------------------------------------------------------------------\u001b[0m",
      "\u001b[1;31mRuntimeError\u001b[0m                              Traceback (most recent call last)",
      "\u001b[1;31mRuntimeError\u001b[0m: module compiled against API version 0xf but this version of numpy is 0xe"
     ]
    }
   ],
   "source": [
    "import spacy\n",
    "nlp = spacy.load('en_core_web_sm')"
   ]
  },
  {
   "cell_type": "code",
   "execution_count": 3,
   "id": "72ac30ef",
   "metadata": {},
   "outputs": [],
   "source": [
    "doc = nlp(u'\"Nobody in this world is going to believe in you apart from yourself; you must have faith and confidence in your abilities and potential. It is crucial to introspect consistently at regular intervals for driving yourself towards success.\" - Andreas Pavoletti')"
   ]
  },
  {
   "cell_type": "code",
   "execution_count": 4,
   "id": "0af44599",
   "metadata": {},
   "outputs": [
    {
     "name": "stdout",
     "output_type": "stream",
     "text": [
      "\"Nobody in this world is going to believe in you apart from yourself; you must have faith and confidence in your abilities and potential.\n",
      "\n",
      "\n",
      "It is crucial to introspect consistently at regular intervals for driving yourself towards success.\"\n",
      "\n",
      "\n",
      "- Andreas Pavoletti\n",
      "\n",
      "\n"
     ]
    }
   ],
   "source": [
    "for sent in doc.sents:\n",
    "    print(sent)\n",
    "    print(\"\\n\")"
   ]
  },
  {
   "cell_type": "code",
   "execution_count": 5,
   "id": "0db42e9f",
   "metadata": {},
   "outputs": [
    {
     "data": {
      "text/plain": [
       "'\"Nobody in this world is going to believe in you apart from yourself; you must have faith and confidence in your abilities and potential. It is crucial to introspect consistently at regular intervals for driving yourself towards success.\" - Andreas Pavoletti'"
      ]
     },
     "execution_count": 5,
     "metadata": {},
     "output_type": "execute_result"
    }
   ],
   "source": [
    "doc.text"
   ]
  },
  {
   "cell_type": "markdown",
   "id": "f9d012ea",
   "metadata": {},
   "source": [
    "## Adding a sentence segmentation rule"
   ]
  },
  {
   "cell_type": "code",
   "execution_count": 6,
   "id": "7a630567",
   "metadata": {},
   "outputs": [],
   "source": [
    "from spacy.language import Language"
   ]
  },
  {
   "cell_type": "code",
   "execution_count": 7,
   "id": "898aec44",
   "metadata": {},
   "outputs": [],
   "source": [
    "@Language.component(\"segmenter\")\n",
    "def set_custom_boundaries(doc):\n",
    "    for token in doc[:-1]:\n",
    "        if token.text == ';':\n",
    "            doc[token.i+1].is_sent_start = True\n",
    "    return doc"
   ]
  },
  {
   "cell_type": "code",
   "execution_count": 8,
   "id": "6213c766",
   "metadata": {},
   "outputs": [
    {
     "data": {
      "text/plain": [
       "<function __main__.set_custom_boundaries(doc)>"
      ]
     },
     "execution_count": 8,
     "metadata": {},
     "output_type": "execute_result"
    }
   ],
   "source": [
    "nlp.add_pipe(\"segmenter\",before='parser')"
   ]
  },
  {
   "cell_type": "code",
   "execution_count": 9,
   "id": "b1928ad5",
   "metadata": {},
   "outputs": [
    {
     "data": {
      "text/plain": [
       "['tok2vec',\n",
       " 'tagger',\n",
       " 'segmenter',\n",
       " 'parser',\n",
       " 'attribute_ruler',\n",
       " 'lemmatizer',\n",
       " 'ner']"
      ]
     },
     "execution_count": 9,
     "metadata": {},
     "output_type": "execute_result"
    }
   ],
   "source": [
    "nlp.pipe_names"
   ]
  },
  {
   "cell_type": "code",
   "execution_count": 10,
   "id": "46071a5e",
   "metadata": {},
   "outputs": [],
   "source": [
    "doc = nlp(u'\"Nobody in this world is going to believe in you apart from yourself; you must have faith and confidence in your abilities and potential. It is crucial to introspect consistently at regular intervals for driving yourself towards success.\" - Andreas Pavoletti')"
   ]
  },
  {
   "cell_type": "code",
   "execution_count": 11,
   "id": "a2af72c2",
   "metadata": {},
   "outputs": [
    {
     "name": "stdout",
     "output_type": "stream",
     "text": [
      "\"Nobody in this world is going to believe in you apart from yourself;\n",
      "you must have faith and confidence in your abilities and potential.\n",
      "It is crucial to introspect consistently at regular intervals for driving yourself towards success.\"\n",
      "- Andreas Pavoletti\n"
     ]
    }
   ],
   "source": [
    "for sent in doc.sents:\n",
    "    print(sent)"
   ]
  },
  {
   "cell_type": "markdown",
   "id": "eb466699",
   "metadata": {},
   "source": [
    "## Creating a new custom segmentation rule"
   ]
  },
  {
   "cell_type": "code",
   "execution_count": 92,
   "id": "90a30a01",
   "metadata": {},
   "outputs": [],
   "source": [
    "nlp = spacy.load('en_core_web_sm')"
   ]
  },
  {
   "cell_type": "code",
   "execution_count": 93,
   "id": "5131990c",
   "metadata": {},
   "outputs": [],
   "source": [
    "doc = nlp(u\"This is the first sentence, This is the second sentence, ,, This is the last sentence.\")"
   ]
  },
  {
   "cell_type": "code",
   "execution_count": 94,
   "id": "863c90e1",
   "metadata": {},
   "outputs": [],
   "source": [
    "from spacy.pipeline.senter import SentenceRecognizer"
   ]
  },
  {
   "cell_type": "code",
   "execution_count": 95,
   "id": "9e1f6026",
   "metadata": {},
   "outputs": [],
   "source": [
    "@Language.component(\"splitter\")\n",
    "def split_on_commas(doc):\n",
    "    for token in doc[:-1]:\n",
    "        if token.text == ',':\n",
    "            doc[token.i+1].is_sent_start = True\n",
    "    return doc\n",
    "\n",
    "# @Language.component(\"splitter\")\n",
    "# def split_on_commas(doc):\n",
    "#     start = 0\n",
    "#     seen_sent = False\n",
    "    \n",
    "#     for word in doc:\n",
    "#         if seen_sent:\n",
    "#             yield doc[start:word.i]\n",
    "#             start = word.i\n",
    "#             seen_sent = False\n",
    "#         elif word.text.startswith(';'):\n",
    "#             seen_sent = True\n",
    "    \n",
    "#     yield doc[start:]"
   ]
  },
  {
   "cell_type": "code",
   "execution_count": 96,
   "id": "38b82099",
   "metadata": {},
   "outputs": [],
   "source": [
    "sr = SentenceRecognizer(nlp.vocab,split_on_commas,name=\"sentence\")"
   ]
  },
  {
   "cell_type": "code",
   "execution_count": 97,
   "id": "3ad79ec4",
   "metadata": {},
   "outputs": [
    {
     "data": {
      "text/plain": [
       "<function __main__.split_on_commas(doc)>"
      ]
     },
     "execution_count": 97,
     "metadata": {},
     "output_type": "execute_result"
    }
   ],
   "source": [
    "nlp.add_pipe('splitter',before='parser')"
   ]
  },
  {
   "cell_type": "code",
   "execution_count": 98,
   "id": "009c1783",
   "metadata": {},
   "outputs": [
    {
     "data": {
      "text/plain": [
       "['tok2vec',\n",
       " 'tagger',\n",
       " 'splitter',\n",
       " 'parser',\n",
       " 'attribute_ruler',\n",
       " 'lemmatizer',\n",
       " 'ner']"
      ]
     },
     "execution_count": 98,
     "metadata": {},
     "output_type": "execute_result"
    }
   ],
   "source": [
    "nlp.pipe_names"
   ]
  },
  {
   "cell_type": "code",
   "execution_count": 99,
   "id": "7dcddc34",
   "metadata": {},
   "outputs": [
    {
     "data": {
      "text/plain": [
       "<spacy.pipeline.senter.SentenceRecognizer at 0x275fbc96ac0>"
      ]
     },
     "execution_count": 99,
     "metadata": {},
     "output_type": "execute_result"
    }
   ],
   "source": [
    "sbd = SentenceRecognizer(nlp.vocab,\"splitter\")\n",
    "sbd"
   ]
  },
  {
   "cell_type": "code",
   "execution_count": 100,
   "id": "235fc848",
   "metadata": {},
   "outputs": [],
   "source": [
    "doc = nlp(u\"This is the first sentence, This is the second sentence, ,, This is the last sentence.\")"
   ]
  },
  {
   "cell_type": "code",
   "execution_count": 101,
   "id": "8f222ab9",
   "metadata": {},
   "outputs": [
    {
     "name": "stdout",
     "output_type": "stream",
     "text": [
      "This is the first sentence,\n",
      "This is the second sentence,\n",
      ",\n",
      ",\n",
      "This is the last sentence.\n"
     ]
    }
   ],
   "source": [
    "for sent in doc.sents:\n",
    "    print(sent)"
   ]
  }
 ],
 "metadata": {
  "kernelspec": {
   "display_name": "Python 3 (ipykernel)",
   "language": "python",
   "name": "python3"
  },
  "language_info": {
   "codemirror_mode": {
    "name": "ipython",
    "version": 3
   },
   "file_extension": ".py",
   "mimetype": "text/x-python",
   "name": "python",
   "nbconvert_exporter": "python",
   "pygments_lexer": "ipython3",
   "version": "3.8.8"
  }
 },
 "nbformat": 4,
 "nbformat_minor": 5
}
