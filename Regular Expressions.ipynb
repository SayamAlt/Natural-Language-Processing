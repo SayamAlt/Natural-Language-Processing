{
 "cells": [
  {
   "cell_type": "code",
   "execution_count": 1,
   "id": "ab01e630",
   "metadata": {},
   "outputs": [],
   "source": [
    "import re"
   ]
  },
  {
   "cell_type": "code",
   "execution_count": 2,
   "id": "f340d8b4",
   "metadata": {},
   "outputs": [],
   "source": [
    "text = \"The phone number of the agent is 888-456-7394. Call him soon!\""
   ]
  },
  {
   "cell_type": "code",
   "execution_count": 3,
   "id": "f367561e",
   "metadata": {},
   "outputs": [],
   "source": [
    "pattern = \"phone\""
   ]
  },
  {
   "cell_type": "code",
   "execution_count": 4,
   "id": "84a92d98",
   "metadata": {},
   "outputs": [],
   "source": [
    "match = re.search(pattern,text)"
   ]
  },
  {
   "cell_type": "code",
   "execution_count": 5,
   "id": "957c674d",
   "metadata": {},
   "outputs": [
    {
     "data": {
      "text/plain": [
       "(4, 9)"
      ]
     },
     "execution_count": 5,
     "metadata": {},
     "output_type": "execute_result"
    }
   ],
   "source": [
    "match.span()"
   ]
  },
  {
   "cell_type": "code",
   "execution_count": 6,
   "id": "401efac4",
   "metadata": {},
   "outputs": [],
   "source": [
    "pattern = r\"\\d{3}-\\d{3}-\\d{4}\""
   ]
  },
  {
   "cell_type": "code",
   "execution_count": 7,
   "id": "c46f797f",
   "metadata": {},
   "outputs": [],
   "source": [
    "phone_no = re.search(pattern,text)"
   ]
  },
  {
   "cell_type": "code",
   "execution_count": 8,
   "id": "3ad6a582",
   "metadata": {},
   "outputs": [
    {
     "data": {
      "text/plain": [
       "(33, 45)"
      ]
     },
     "execution_count": 8,
     "metadata": {},
     "output_type": "execute_result"
    }
   ],
   "source": [
    "phone_no.span()"
   ]
  },
  {
   "cell_type": "code",
   "execution_count": 9,
   "id": "537e3f01",
   "metadata": {},
   "outputs": [
    {
     "data": {
      "text/plain": [
       "'888-456-7394'"
      ]
     },
     "execution_count": 9,
     "metadata": {},
     "output_type": "execute_result"
    }
   ],
   "source": [
    "phone_no.group()"
   ]
  },
  {
   "cell_type": "code",
   "execution_count": 10,
   "id": "914eb834",
   "metadata": {},
   "outputs": [
    {
     "data": {
      "text/plain": [
       "45"
      ]
     },
     "execution_count": 10,
     "metadata": {},
     "output_type": "execute_result"
    }
   ],
   "source": [
    "phone_no.end()"
   ]
  },
  {
   "cell_type": "code",
   "execution_count": 11,
   "id": "67886d2a",
   "metadata": {},
   "outputs": [
    {
     "data": {
      "text/plain": [
       "33"
      ]
     },
     "execution_count": 11,
     "metadata": {},
     "output_type": "execute_result"
    }
   ],
   "source": [
    "phone_no.start()"
   ]
  },
  {
   "cell_type": "code",
   "execution_count": 21,
   "id": "78689767",
   "metadata": {},
   "outputs": [],
   "source": [
    "text = \"Your phone is with the agent. Call him to retrieve your phone.\""
   ]
  },
  {
   "cell_type": "code",
   "execution_count": 28,
   "id": "e2ea7b22",
   "metadata": {},
   "outputs": [],
   "source": [
    "all_matches = re.findall(\"phone\",text)"
   ]
  },
  {
   "cell_type": "code",
   "execution_count": 35,
   "id": "c58689c6",
   "metadata": {},
   "outputs": [],
   "source": [
    "all_matches.sort()"
   ]
  },
  {
   "cell_type": "code",
   "execution_count": 39,
   "id": "14da5b2c",
   "metadata": {},
   "outputs": [
    {
     "name": "stdout",
     "output_type": "stream",
     "text": [
      "(5, 10)\n",
      "(56, 61)\n"
     ]
    }
   ],
   "source": [
    "for match in re.finditer(\"phone\",text):\n",
    "    print(match.span())"
   ]
  },
  {
   "cell_type": "code",
   "execution_count": 40,
   "id": "81b8b690",
   "metadata": {},
   "outputs": [],
   "source": [
    "text = \"The phone number of the agent is 432-685-7394. Call him soon!\""
   ]
  },
  {
   "cell_type": "markdown",
   "id": "9a393f5a",
   "metadata": {},
   "source": [
    "## Pattern Grouping"
   ]
  },
  {
   "cell_type": "code",
   "execution_count": 41,
   "id": "8164dbd8",
   "metadata": {},
   "outputs": [
    {
     "data": {
      "text/plain": [
       "<re.Match object; span=(33, 45), match='432-685-7394'>"
      ]
     },
     "execution_count": 41,
     "metadata": {},
     "output_type": "execute_result"
    }
   ],
   "source": [
    "match = re.search(r\"(\\d{3})-(\\d{3})-(\\d{4})\",text)\n",
    "match"
   ]
  },
  {
   "cell_type": "code",
   "execution_count": 42,
   "id": "6d6e2e03",
   "metadata": {},
   "outputs": [
    {
     "data": {
      "text/plain": [
       "'432-685-7394'"
      ]
     },
     "execution_count": 42,
     "metadata": {},
     "output_type": "execute_result"
    }
   ],
   "source": [
    "match.group()"
   ]
  },
  {
   "cell_type": "code",
   "execution_count": 43,
   "id": "f17f77a0",
   "metadata": {},
   "outputs": [
    {
     "data": {
      "text/plain": [
       "'432'"
      ]
     },
     "execution_count": 43,
     "metadata": {},
     "output_type": "execute_result"
    }
   ],
   "source": [
    "match.group(1)"
   ]
  },
  {
   "cell_type": "code",
   "execution_count": 44,
   "id": "823c5dc6",
   "metadata": {},
   "outputs": [
    {
     "data": {
      "text/plain": [
       "('685', '7394')"
      ]
     },
     "execution_count": 44,
     "metadata": {},
     "output_type": "execute_result"
    }
   ],
   "source": [
    "match.group(2), match.group(3)"
   ]
  },
  {
   "cell_type": "markdown",
   "id": "19868099",
   "metadata": {},
   "source": [
    "## Pipe Operator"
   ]
  },
  {
   "cell_type": "code",
   "execution_count": 45,
   "id": "ff5524ed",
   "metadata": {},
   "outputs": [
    {
     "data": {
      "text/plain": [
       "<re.Match object; span=(19, 22), match='cat'>"
      ]
     },
     "execution_count": 45,
     "metadata": {},
     "output_type": "execute_result"
    }
   ],
   "source": [
    "match = re.search(r\"dog|cat\",\"She has 3 domestic cats.\")\n",
    "match"
   ]
  },
  {
   "cell_type": "code",
   "execution_count": 46,
   "id": "1067813d",
   "metadata": {},
   "outputs": [
    {
     "data": {
      "text/plain": [
       "<re.Match object; span=(19, 22), match='dog'>"
      ]
     },
     "execution_count": 46,
     "metadata": {},
     "output_type": "execute_result"
    }
   ],
   "source": [
    "match = re.search(r\"dog|cat\",\"She has 3 domestic dogs.\")\n",
    "match"
   ]
  },
  {
   "cell_type": "markdown",
   "id": "9b540e71",
   "metadata": {},
   "source": [
    "## Wildcard Characters"
   ]
  },
  {
   "cell_type": "code",
   "execution_count": 50,
   "id": "e6f0d6e0",
   "metadata": {},
   "outputs": [
    {
     "data": {
      "text/plain": [
       "[' pain', 'rrain', ' rain']"
      ]
     },
     "execution_count": 50,
     "metadata": {},
     "output_type": "execute_result"
    }
   ],
   "source": [
    "all_matches = re.findall(r\"..ain\",\"She suffers a lot of pain in the terrain during the rainy season\")\n",
    "all_matches"
   ]
  },
  {
   "cell_type": "markdown",
   "id": "0d12099e",
   "metadata": {},
   "source": [
    "## Exclusion"
   ]
  },
  {
   "cell_type": "code",
   "execution_count": 51,
   "id": "f1b72bcc",
   "metadata": {},
   "outputs": [],
   "source": [
    "text = \"Hey, how are you? It's been a long time since I met you! I've been missing you a lot since the past few years.\""
   ]
  },
  {
   "cell_type": "code",
   "execution_count": 57,
   "id": "5b0ccc04",
   "metadata": {},
   "outputs": [
    {
     "data": {
      "text/plain": [
       "\"Hey  how are you  It's been a long time since I met you  I've been missing you a lot since the past few years\""
      ]
     },
     "execution_count": 57,
     "metadata": {},
     "output_type": "execute_result"
    }
   ],
   "source": [
    "nopunc_text = re.findall(r\"[^?!.,]+\",text)\n",
    "nopunc_text = \" \".join(nopunc_text)\n",
    "nopunc_text"
   ]
  },
  {
   "cell_type": "code",
   "execution_count": 58,
   "id": "22338bac",
   "metadata": {},
   "outputs": [
    {
     "data": {
      "text/plain": [
       "'Hey how are you It s been a long time since I met you I ve been missing you a lot since the past few years'"
      ]
     },
     "execution_count": 58,
     "metadata": {},
     "output_type": "execute_result"
    }
   ],
   "source": [
    "nopunc_text = re.findall(r\"[^\\W]+\",text)\n",
    "nopunc_text = \" \".join(nopunc_text)\n",
    "nopunc_text"
   ]
  },
  {
   "cell_type": "code",
   "execution_count": 59,
   "id": "813197ad",
   "metadata": {},
   "outputs": [],
   "source": [
    "text = \"She is playing with 3 digits in the 34 car-digit race out of 56 days\""
   ]
  },
  {
   "cell_type": "code",
   "execution_count": 62,
   "id": "2fc566e6",
   "metadata": {},
   "outputs": [
    {
     "data": {
      "text/plain": [
       "'She is playing with  digits in the  car-digit race out of  days'"
      ]
     },
     "execution_count": 62,
     "metadata": {},
     "output_type": "execute_result"
    }
   ],
   "source": [
    "match = re.findall(r\"[^\\d]+\",text)\n",
    "match = \"\".join(match)\n",
    "match"
   ]
  },
  {
   "cell_type": "code",
   "execution_count": 63,
   "id": "9b091a01",
   "metadata": {},
   "outputs": [],
   "source": [
    "text = \"We are looking for hyphen-ated characters in the morning at six-thirty am\""
   ]
  },
  {
   "cell_type": "code",
   "execution_count": 65,
   "id": "ba232e6d",
   "metadata": {},
   "outputs": [
    {
     "data": {
      "text/plain": [
       "['hyphen-ated', 'six-thirty']"
      ]
     },
     "execution_count": 65,
     "metadata": {},
     "output_type": "execute_result"
    }
   ],
   "source": [
    "matches = re.findall(r\"[\\w]+-[\\w]+\",text)\n",
    "matches"
   ]
  }
 ],
 "metadata": {
  "kernelspec": {
   "display_name": "Python 3 (ipykernel)",
   "language": "python",
   "name": "python3"
  },
  "language_info": {
   "codemirror_mode": {
    "name": "ipython",
    "version": 3
   },
   "file_extension": ".py",
   "mimetype": "text/x-python",
   "name": "python",
   "nbconvert_exporter": "python",
   "pygments_lexer": "ipython3",
   "version": "3.8.8"
  }
 },
 "nbformat": 4,
 "nbformat_minor": 5
}
