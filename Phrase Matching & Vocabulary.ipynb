{
 "cells": [
  {
   "cell_type": "code",
   "execution_count": 1,
   "id": "ddfb1917",
   "metadata": {},
   "outputs": [
    {
     "name": "stderr",
     "output_type": "stream",
     "text": [
      "C:\\Users\\hp\\anaconda3\\lib\\site-packages\\numpy\\_distributor_init.py:30: UserWarning: loaded more than 1 DLL from .libs:\n",
      "C:\\Users\\hp\\anaconda3\\lib\\site-packages\\numpy\\.libs\\libopenblas.FB5AE2TYXYH2IJRDKGDGQ3XBKLKTF43H.gfortran-win_amd64.dll\n",
      "C:\\Users\\hp\\anaconda3\\lib\\site-packages\\numpy\\.libs\\libopenblas.WCDJNK7YVMPZQ2ME2ZZHJJRJ3JIKNDB7.gfortran-win_amd64.dll\n",
      "  warnings.warn(\"loaded more than 1 DLL from .libs:\"\n",
      "C:\\Users\\hp\\anaconda3\\lib\\site-packages\\scipy\\__init__.py:146: UserWarning: A NumPy version >=1.16.5 and <1.23.0 is required for this version of SciPy (detected version 1.23.2\n",
      "  warnings.warn(f\"A NumPy version >={np_minversion} and <{np_maxversion}\"\n"
     ]
    }
   ],
   "source": [
    "import spacy\n",
    "nlp = spacy.load('en_core_web_sm')"
   ]
  },
  {
   "cell_type": "code",
   "execution_count": 2,
   "id": "fcee54de",
   "metadata": {},
   "outputs": [],
   "source": [
    "from spacy.matcher import Matcher"
   ]
  },
  {
   "cell_type": "code",
   "execution_count": 3,
   "id": "58bbf067",
   "metadata": {},
   "outputs": [],
   "source": [
    "matcher = Matcher(nlp.vocab)"
   ]
  },
  {
   "cell_type": "code",
   "execution_count": 4,
   "id": "614ce72f",
   "metadata": {},
   "outputs": [],
   "source": [
    "# rainyseason\n",
    "# RainySeason\n",
    "pattern1 = [{'LOWER': 'rainyseason'}]\n",
    "# rainy-season\n",
    "pattern2 = [{'LOWER': 'rainy'}, {'IS_PUNCT': True}, {'LOWER': 'season'}]\n",
    "# rainy...season\n",
    "pattern3 = [{'LOWER': 'rainy'}, {'IS_PUNCT': True, 'OP': '+'}, {'LOWER': 'season'}]"
   ]
  },
  {
   "cell_type": "code",
   "execution_count": 5,
   "id": "2767b502",
   "metadata": {},
   "outputs": [],
   "source": [
    "matcher.add('Rainy-Season',patterns=[pattern1,pattern2,pattern3])"
   ]
  },
  {
   "cell_type": "code",
   "execution_count": 6,
   "id": "ca19272d",
   "metadata": {},
   "outputs": [],
   "source": [
    "doc = nlp(u\"I'm having a lot of fun in this rainy--season.\")"
   ]
  },
  {
   "cell_type": "code",
   "execution_count": 7,
   "id": "2533515b",
   "metadata": {},
   "outputs": [],
   "source": [
    "all_matches = matcher(doc)"
   ]
  },
  {
   "cell_type": "code",
   "execution_count": 8,
   "id": "e35c3138",
   "metadata": {},
   "outputs": [
    {
     "name": "stdout",
     "output_type": "stream",
     "text": [
      "[(6244494167805803869, 9, 12)]\n"
     ]
    }
   ],
   "source": [
    "print(all_matches)"
   ]
  },
  {
   "cell_type": "code",
   "execution_count": 9,
   "id": "51a30435",
   "metadata": {},
   "outputs": [],
   "source": [
    "doc2 = nlp(u\"RainySeason is the favorite of most people coz rainy....season is adored by kids as rainy-season brings enjoyment.\")"
   ]
  },
  {
   "cell_type": "code",
   "execution_count": 10,
   "id": "76565246",
   "metadata": {},
   "outputs": [],
   "source": [
    "all_matches = matcher(doc2)"
   ]
  },
  {
   "cell_type": "code",
   "execution_count": 11,
   "id": "82529f5f",
   "metadata": {},
   "outputs": [
    {
     "name": "stdout",
     "output_type": "stream",
     "text": [
      "[(6244494167805803869, 0, 1), (6244494167805803869, 8, 11), (6244494167805803869, 16, 19)]\n"
     ]
    }
   ],
   "source": [
    "print(all_matches)"
   ]
  },
  {
   "cell_type": "code",
   "execution_count": 12,
   "id": "e885c024",
   "metadata": {},
   "outputs": [
    {
     "name": "stdout",
     "output_type": "stream",
     "text": [
      "6244494167805803869 Rainy-Season 0 1 RainySeason\n",
      "6244494167805803869 Rainy-Season 8 11 rainy....season\n",
      "6244494167805803869 Rainy-Season 16 19 rainy-season\n"
     ]
    }
   ],
   "source": [
    "for match_id, start, end in all_matches:\n",
    "    string = nlp.vocab.strings[match_id]\n",
    "    span = doc2[start:end]\n",
    "    print(match_id,string,start,end,span.text)"
   ]
  },
  {
   "cell_type": "code",
   "execution_count": 13,
   "id": "21b76374",
   "metadata": {},
   "outputs": [],
   "source": [
    "matcher.remove('Rainy-Season')"
   ]
  },
  {
   "cell_type": "code",
   "execution_count": 14,
   "id": "a3f340e7",
   "metadata": {},
   "outputs": [],
   "source": [
    "pattern1 = [{'LOWER': 'deliciousmangoes'}]\n",
    "pattern2 = [{'LOWER': 'delicious'}, {'IS_PUNCT': True, 'OP': '+'}, {'LOWER': 'mangoes'}]"
   ]
  },
  {
   "cell_type": "code",
   "execution_count": 15,
   "id": "caea6e3b",
   "metadata": {},
   "outputs": [],
   "source": [
    "matcher.add('DeliciousMangoes',patterns=[pattern1,pattern2])"
   ]
  },
  {
   "cell_type": "code",
   "execution_count": 16,
   "id": "7fcf21ad",
   "metadata": {},
   "outputs": [],
   "source": [
    "doc = nlp('There are really Delicious---Mangoes in the supermarket.')"
   ]
  },
  {
   "cell_type": "code",
   "execution_count": 17,
   "id": "34da583b",
   "metadata": {},
   "outputs": [],
   "source": [
    "match = matcher(doc)"
   ]
  },
  {
   "cell_type": "code",
   "execution_count": 18,
   "id": "f854807f",
   "metadata": {},
   "outputs": [
    {
     "name": "stdout",
     "output_type": "stream",
     "text": [
      "[(13370354911311952283, 3, 6)]\n"
     ]
    }
   ],
   "source": [
    "print(match)"
   ]
  },
  {
   "cell_type": "code",
   "execution_count": 19,
   "id": "76e3d193",
   "metadata": {},
   "outputs": [],
   "source": [
    "from spacy.matcher import PhraseMatcher"
   ]
  },
  {
   "cell_type": "code",
   "execution_count": 20,
   "id": "755ccc5b",
   "metadata": {},
   "outputs": [],
   "source": [
    "matcher = PhraseMatcher(nlp.vocab)"
   ]
  },
  {
   "cell_type": "code",
   "execution_count": 21,
   "id": "87843513",
   "metadata": {},
   "outputs": [],
   "source": [
    "with open('../DATA/reaganomics.txt','r') as file:\n",
    "    doc = nlp(file.read())"
   ]
  },
  {
   "cell_type": "code",
   "execution_count": 22,
   "id": "1264d2d9",
   "metadata": {},
   "outputs": [],
   "source": [
    "phrases_list = ['voodoo economics','supply-side economics','trickle-down economics','free-market-economics']"
   ]
  },
  {
   "cell_type": "code",
   "execution_count": 23,
   "id": "667637ec",
   "metadata": {},
   "outputs": [],
   "source": [
    "# Convert each phrase in the matching phrases list to a Spacy Doc object\n",
    "phrase_patterns = [nlp(phrase) for phrase in phrases_list]"
   ]
  },
  {
   "cell_type": "code",
   "execution_count": 24,
   "id": "54393ac9",
   "metadata": {},
   "outputs": [
    {
     "data": {
      "text/plain": [
       "[voodoo economics,\n",
       " supply-side economics,\n",
       " trickle-down economics,\n",
       " free-market-economics]"
      ]
     },
     "execution_count": 24,
     "metadata": {},
     "output_type": "execute_result"
    }
   ],
   "source": [
    "phrase_patterns"
   ]
  },
  {
   "cell_type": "code",
   "execution_count": 25,
   "id": "2e54e4c8",
   "metadata": {},
   "outputs": [
    {
     "data": {
      "text/plain": [
       "spacy.tokens.doc.Doc"
      ]
     },
     "execution_count": 25,
     "metadata": {},
     "output_type": "execute_result"
    }
   ],
   "source": [
    "type(phrase_patterns[0])"
   ]
  },
  {
   "cell_type": "code",
   "execution_count": 27,
   "id": "2d367c1b",
   "metadata": {},
   "outputs": [],
   "source": [
    "matcher.add('PhraseMatcher',phrase_patterns)"
   ]
  },
  {
   "cell_type": "code",
   "execution_count": 28,
   "id": "748585fe",
   "metadata": {},
   "outputs": [],
   "source": [
    "found_matches = matcher(doc)"
   ]
  },
  {
   "cell_type": "code",
   "execution_count": 29,
   "id": "fdceac36",
   "metadata": {},
   "outputs": [
    {
     "name": "stdout",
     "output_type": "stream",
     "text": [
      "[(13348250359072121662, 41, 45), (13348250359072121662, 49, 53), (13348250359072121662, 54, 56), (13348250359072121662, 673, 677), (13348250359072121662, 2987, 2991)]\n"
     ]
    }
   ],
   "source": [
    "print(found_matches)"
   ]
  },
  {
   "cell_type": "code",
   "execution_count": 30,
   "id": "60027f31",
   "metadata": {},
   "outputs": [
    {
     "name": "stdout",
     "output_type": "stream",
     "text": [
      "13348250359072121662 PhraseMatcher 41 45 during the 1980s. These policies are commonly associated with supply-side economics, referred to as trickle-down economics or voodoo\n",
      "13348250359072121662 PhraseMatcher 49 53 associated with supply-side economics, referred to as trickle-down economics or voodoo economics by political opponents, and free-\n",
      "13348250359072121662 PhraseMatcher 54 56 economics, referred to as trickle-down economics or voodoo economics by political opponents, and free-market economics by\n",
      "13348250359072121662 PhraseMatcher 673 677 At the same time he attracted a following from the supply-side economics movement, which formed in opposition to Keynesian demand-\n",
      "13348250359072121662 PhraseMatcher 2987 2991 against institutions.[66] His policies became widely known as \"trickle-down economics\", due to the significant cuts in the upper\n"
     ]
    }
   ],
   "source": [
    "for match_id, start, end in found_matches:\n",
    "    string = nlp.vocab.strings[match_id]\n",
    "    span = doc[start-10:end+10]\n",
    "    print(match_id,string,start,end,span.text)"
   ]
  }
 ],
 "metadata": {
  "kernelspec": {
   "display_name": "Python 3 (ipykernel)",
   "language": "python",
   "name": "python3"
  },
  "language_info": {
   "codemirror_mode": {
    "name": "ipython",
    "version": 3
   },
   "file_extension": ".py",
   "mimetype": "text/x-python",
   "name": "python",
   "nbconvert_exporter": "python",
   "pygments_lexer": "ipython3",
   "version": "3.8.8"
  }
 },
 "nbformat": 4,
 "nbformat_minor": 5
}
