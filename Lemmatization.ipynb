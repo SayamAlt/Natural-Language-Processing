{
 "cells": [
  {
   "cell_type": "code",
   "execution_count": 1,
   "id": "c488477f",
   "metadata": {},
   "outputs": [
    {
     "name": "stderr",
     "output_type": "stream",
     "text": [
      "C:\\Users\\hp\\anaconda3\\lib\\site-packages\\numpy\\_distributor_init.py:30: UserWarning: loaded more than 1 DLL from .libs:\n",
      "C:\\Users\\hp\\anaconda3\\lib\\site-packages\\numpy\\.libs\\libopenblas.FB5AE2TYXYH2IJRDKGDGQ3XBKLKTF43H.gfortran-win_amd64.dll\n",
      "C:\\Users\\hp\\anaconda3\\lib\\site-packages\\numpy\\.libs\\libopenblas.WCDJNK7YVMPZQ2ME2ZZHJJRJ3JIKNDB7.gfortran-win_amd64.dll\n",
      "  warnings.warn(\"loaded more than 1 DLL from .libs:\"\n",
      "C:\\Users\\hp\\anaconda3\\lib\\site-packages\\scipy\\__init__.py:146: UserWarning: A NumPy version >=1.16.5 and <1.23.0 is required for this version of SciPy (detected version 1.23.2\n",
      "  warnings.warn(f\"A NumPy version >={np_minversion} and <{np_maxversion}\"\n"
     ]
    }
   ],
   "source": [
    "import spacy\n",
    "nlp = spacy.load('en_core_web_sm')"
   ]
  },
  {
   "cell_type": "code",
   "execution_count": 4,
   "id": "e96ad95a",
   "metadata": {},
   "outputs": [],
   "source": [
    "doc1 = nlp(\"I am a runner running in a marathon because I love to run since I ran today and secured first position in the race.\")"
   ]
  },
  {
   "cell_type": "code",
   "execution_count": 7,
   "id": "882d795b",
   "metadata": {},
   "outputs": [
    {
     "name": "stdout",
     "output_type": "stream",
     "text": [
      "I            PRON            nsubj           I                   \n",
      "am           AUX             ROOT            be                  \n",
      "a            DET             det             a                   \n",
      "runner       NOUN            attr            runner              \n",
      "running      VERB            acl             run                 \n",
      "in           ADP             prep            in                  \n",
      "a            DET             det             a                   \n",
      "marathon     NOUN            pobj            marathon            \n",
      "because      SCONJ           mark            because             \n",
      "I            PRON            nsubj           I                   \n",
      "love         VERB            advcl           love                \n",
      "to           PART            aux             to                  \n",
      "run          VERB            xcomp           run                 \n",
      "since        SCONJ           mark            since               \n",
      "I            PRON            nsubj           I                   \n",
      "ran          VERB            advcl           run                 \n",
      "today        NOUN            npadvmod        today               \n",
      "and          CCONJ           cc              and                 \n",
      "secured      VERB            amod            secure              \n",
      "first        ADJ             amod            first               \n",
      "position     NOUN            conj            position            \n",
      "in           ADP             prep            in                  \n",
      "the          DET             det             the                 \n",
      "race         NOUN            pobj            race                \n",
      ".            PUNCT           punct           .                   \n"
     ]
    }
   ],
   "source": [
    "for token in doc1:\n",
    "    print(f\"{token.text:{12}} {token.pos_:{15}} {token.dep_:{15}} {token.lemma_:{20}}\")"
   ]
  },
  {
   "cell_type": "code",
   "execution_count": 8,
   "id": "b2a5d115",
   "metadata": {},
   "outputs": [],
   "source": [
    "doc2 = nlp('I encountered 10 mice today in the hole.')"
   ]
  },
  {
   "cell_type": "code",
   "execution_count": 9,
   "id": "8ef98887",
   "metadata": {},
   "outputs": [
    {
     "name": "stdout",
     "output_type": "stream",
     "text": [
      "I            PRON            nsubj           I                   \n",
      "encountered  VERB            ROOT            encounter           \n",
      "10           NUM             nummod          10                  \n",
      "mice         NOUN            dobj            mouse               \n",
      "today        NOUN            npadvmod        today               \n",
      "in           ADP             prep            in                  \n",
      "the          DET             det             the                 \n",
      "hole         NOUN            pobj            hole                \n",
      ".            PUNCT           punct           .                   \n"
     ]
    }
   ],
   "source": [
    "for token in doc2:\n",
    "    print(f\"{token.text:{12}} {token.pos_:{15}} {token.dep_:{15}} {token.lemma_:{20}}\")"
   ]
  }
 ],
 "metadata": {
  "kernelspec": {
   "display_name": "Python 3 (ipykernel)",
   "language": "python",
   "name": "python3"
  },
  "language_info": {
   "codemirror_mode": {
    "name": "ipython",
    "version": 3
   },
   "file_extension": ".py",
   "mimetype": "text/x-python",
   "name": "python",
   "nbconvert_exporter": "python",
   "pygments_lexer": "ipython3",
   "version": "3.8.8"
  }
 },
 "nbformat": 4,
 "nbformat_minor": 5
}
